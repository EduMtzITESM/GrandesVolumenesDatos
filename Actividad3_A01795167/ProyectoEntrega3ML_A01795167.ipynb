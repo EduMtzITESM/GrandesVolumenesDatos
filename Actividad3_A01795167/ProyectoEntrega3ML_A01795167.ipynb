{
 "cells": [
  {
   "cell_type": "markdown",
   "id": "be442e7b-13bc-4ef5-9aae-8097f481f788",
   "metadata": {},
   "source": [
    "# Análisis de Grandes Volúmenes de Datos\n",
    "### Actividad 3 | Aprendizaje supervisado y no supervisado\n",
    "\n",
    "Estudiante:\n",
    "\n",
    "+ Eduardo Selim Martínez Mayorga - A01795167"
   ]
  },
  {
   "cell_type": "code",
   "execution_count": 1,
   "id": "0bb0ffc7-960b-43ac-ba6d-55dae69c017f",
   "metadata": {},
   "outputs": [],
   "source": [
    "#Descargamos las librerias necesarias, iniciamos sesion de Pyspark y cargamos la base de datos\n",
    "from pyspark.sql import SparkSession\n",
    "from pyspark.sql import functions as F\n",
    "from pyspark.sql.functions import countDistinct, count, isnan, when, desc, concat_ws, monotonically_increasing_id\n",
    "from pyspark.sql.functions import col, expr, mean, stddev, min, max, length, ceil, floor\n",
    "from pyspark.sql.types import StructType, StructField, StringType, DoubleType, NumericType\n",
    "from pyspark.ml.feature import Imputer, VectorAssembler, StandardScaler, StringIndexer, OneHotEncoder\n",
    "from pyspark.ml.regression import LinearRegression, RandomForestRegressor\n",
    "from pyspark.ml import Pipeline\n",
    "from pyspark.ml.clustering import KMeans\n",
    "from pyspark.ml.evaluation import ClusteringEvaluator, RegressionEvaluator\n",
    "from pyspark.ml.tuning import ParamGridBuilder, CrossValidator\n",
    "import math\n",
    "import pandas as pd\n",
    "import matplotlib.pyplot as plt"
   ]
  },
  {
   "cell_type": "code",
   "execution_count": 2,
   "id": "b7c0e826-b857-456c-bb91-6a2b317d7ec3",
   "metadata": {},
   "outputs": [
    {
     "name": "stderr",
     "output_type": "stream",
     "text": [
      "25/05/25 20:30:44 WARN Utils: Your hostname, MacBook-Air-de-Eduardo.local resolves to a loopback address: 127.0.0.1; using 192.168.0.19 instead (on interface en0)\n",
      "25/05/25 20:30:44 WARN Utils: Set SPARK_LOCAL_IP if you need to bind to another address\n",
      "Setting default log level to \"WARN\".\n",
      "To adjust logging level use sc.setLogLevel(newLevel). For SparkR, use setLogLevel(newLevel).\n",
      "25/05/25 20:30:45 WARN NativeCodeLoader: Unable to load native-hadoop library for your platform... using builtin-java classes where applicable\n",
      "25/05/25 20:31:04 WARN GarbageCollectionMetrics: To enable non-built-in garbage collector(s) List(G1 Concurrent GC), users should configure it(them) to spark.eventLog.gcMetrics.youngGenerationGarbageCollectors or spark.eventLog.gcMetrics.oldGenerationGarbageCollectors\n",
      "                                                                                \r"
     ]
    }
   ],
   "source": [
    "spark = SparkSession.builder.appName(\"CSVRead\").getOrCreate()\n",
    "df = spark.read.csv(\"Iowa_Liquor_Sales.csv\", header=True, inferSchema=True)"
   ]
  },
  {
   "cell_type": "code",
   "execution_count": 3,
   "id": "dbf7d451-ffd5-4879-a3f8-922839c13e27",
   "metadata": {},
   "outputs": [],
   "source": [
    "# Cambiamos los nombres de las columnas para facilitar su manejo al programar\n",
    "df = df.withColumnsRenamed({\"Invoice/Item Number\": \"invoice_number\",\n",
    "\"Date\": \"date\",\n",
    "\"Store Number\": \"store_number\",\n",
    "\"Store Name\": \"store_name\",\n",
    "\"Address\": \"address\",\n",
    "\"City\": \"city\",\n",
    "\"Zip Code\": \"zip_code\",\n",
    "\"Store Location\": \"store_location\",\n",
    "\"County Number\": \"county_number\",\n",
    "\"County\": \"county\",\n",
    "\"Category\": \"category\",\n",
    "\"Category Name\": \"category_name\",\n",
    "\"Vendor Number\": \"vendor_number\",\n",
    "\"Vendor Name\": \"vendor_name\",\n",
    "\"Item Number\": \"item_number\",\n",
    "\"Item Description\": \"item_description\",\n",
    "\"Pack\": \"pack\",\n",
    "\"Bottle Volume (ml)\": \"bottle_volume\",\n",
    "\"State Bottle Cost\": \"bottle_cost\",\n",
    "\"State Bottle Retail\": \"bottle_retail\",\n",
    "\"Bottles Sold\": \"bottles_sold\",\n",
    "\"Sale (Dollars)\": \"sale_dollars\",\n",
    "\"Volume Sold (Liters)\": \"liters_sold\",\n",
    "\"Volume Sold (Gallons)\": \"gallons_sold\"})"
   ]
  },
  {
   "cell_type": "markdown",
   "id": "b55c5f2e-569c-4cc6-a968-7a0115883d0e",
   "metadata": {},
   "source": [
    "## Parte 2: Selección de los datos\n",
    "\n",
    "En esta parte se utilizará la rutina de la actividad pasada para construir un subconjunto de trabajo del 0.5% del dataset original (2 millones de datos aproximadamente) utilizando el criterio de estratificación basado en la categoría del producto (`category`) y el vendedor del producto (`vendor_number`)."
   ]
  },
  {
   "cell_type": "code",
   "execution_count": 4,
   "id": "ebf9f085-1ac6-448c-b364-f2966201ffcb",
   "metadata": {},
   "outputs": [
    {
     "name": "stderr",
     "output_type": "stream",
     "text": [
      "                                                                                \r"
     ]
    }
   ],
   "source": [
    "# Variables de caracterización\n",
    "vars_caracterizacion = [\"category\",\"vendor_number\"]\n",
    "\n",
    "# Total de filas para calcular proporciones\n",
    "total = df.count()\n",
    "\n",
    "# Agrupar por combinaciones y contar ocurrencias\n",
    "df_grouped = df.groupBy(vars_caracterizacion).agg(count(\"*\").alias(\"conteo\"))\n",
    "\n",
    "# Calcular probabilidad de cada combinación\n",
    "df_prob = df_grouped.withColumn(\"probabilidad\", col(\"conteo\") / total)\n",
    "\n",
    "# Conteo nos dice cuantas veces se repite una combinacion\n",
    "# Probabilidad indica la probabilidad que hay de que salga dicha combinación\n",
    "# Mostrar ejemplo de combinaciones y sus probabilidades\n",
    "df_prob = df_prob.orderBy(desc(\"probabilidad\"))\n",
    "\n",
    "# Creamos la etiqueta del estrato concatenando el número de categoría y el número de vendedor con un guion de por medio\n",
    "df_estrato = df_prob.select(concat_ws('_',df_prob.category,df_prob.vendor_number).alias(\"estrato\"),\n",
    "                            \"category\", \"vendor_number\", \"conteo\", \"probabilidad\")\n",
    "\n",
    "# Creamos la etiqueta del estrato en el dataset completo\n",
    "# concatenando el número de categoría y el número de vendedor con un guion de por medio\n",
    "df = df.withColumn(\"estrato\", concat_ws('_',df.category,df.vendor_number))\n",
    "\n",
    "# Se define la proporción de la población que se requiere muestrear\n",
    "prop_poblacion = 0.005\n",
    "\n",
    "# Se obtiene el tamaño total de la muestra\n",
    "n = math.ceil(total*prop_poblacion)\n",
    "\n",
    "# Se obtiene una columna con el tamaño de muestra requerido de cada estrato\n",
    "df_estrato = df_estrato.withColumn(\"muestra\", col(\"probabilidad\") * n)\n",
    "df_estrato = df_estrato.withColumn(\"tamanio_muestra\", ceil(\"muestra\"))\n",
    "df_estrato = df_estrato.withColumn(\"proporcion_estrato\", col(\"tamanio_muestra\")/col(\"conteo\"))\n",
    "\n",
    "# Se convierte el spark DataFrame en Pandas dataframe para extraer la proporción por estratos a muestrear\n",
    "pandas_estratos = df_estrato.toPandas()\n",
    "\n",
    "# Se construye un diccionario con la proporción a muestrear requerida en cada estrato\n",
    "proporciones = pandas_estratos.set_index('estrato')['proporcion_estrato'].to_dict()\n",
    "\n",
    "# RESULTADO FINAL\n",
    "# Se obtiene la muestra por cada estrato del tamaño adecuado\n",
    "muestra_df = df.sampleBy(col = \"estrato\", fractions = proporciones, seed = 5)\n",
    "\n",
    "# Se obtiene el tamaño total del dataset\n",
    "n_dataset = muestra_df.count()"
   ]
  },
  {
   "cell_type": "markdown",
   "id": "392233fc-c906-46be-bd9c-c9c135b0b7da",
   "metadata": {},
   "source": [
    "Después del proceso de muestreo estratificado, el número de observaciones en el dataset de trabajo es"
   ]
  },
  {
   "cell_type": "code",
   "execution_count": 5,
   "id": "7a5f0dd4-b715-4af8-8056-50d8014f330b",
   "metadata": {},
   "outputs": [
    {
     "data": {
      "text/plain": [
       "132264"
      ]
     },
     "execution_count": 5,
     "metadata": {},
     "output_type": "execute_result"
    }
   ],
   "source": [
    "n_dataset"
   ]
  },
  {
   "cell_type": "markdown",
   "id": "a02bd046-3685-4e2b-903b-6b42c3cc5352",
   "metadata": {},
   "source": [
    "A continuación se muestra un breve extracto del dataset de trabajo para esta actividad"
   ]
  },
  {
   "cell_type": "code",
   "execution_count": 6,
   "id": "61ad6965-38e9-4773-a1d0-f10e6d9115e5",
   "metadata": {},
   "outputs": [
    {
     "name": "stdout",
     "output_type": "stream",
     "text": [
      "+--------------+----------+------------+--------------------+---------------+----------+--------+--------------------+-------------+---------+--------+-----------------+-------------+---------------+-----------+--------------------+----+-------------+-----------+-------------+------------+------------+-----------+------------+-----------+\n",
      "|invoice_number|      date|store_number|          store_name|        address|      city|zip_code|      store_location|county_number|   county|category|    category_name|vendor_number|    vendor_name|item_number|    item_description|pack|bottle_volume|bottle_cost|bottle_retail|bottles_sold|sale_dollars|liters_sold|gallons_sold|    estrato|\n",
      "+--------------+----------+------------+--------------------+---------------+----------+--------+--------------------+-------------+---------+--------+-----------------+-------------+---------------+-----------+--------------------+----+-------------+-----------+-------------+------------+------------+-----------+------------+-----------+\n",
      "|  S08652500061|10/30/2012|        3907|SMOKIN' JOE'S #16...|  1504 PARK AVE| MUSCATINE|   52761|POINT (-91.030569...|           70|MUSCATINE| 1081315|CINNAMON SCHNAPPS|           65|JIM BEAM BRANDS|      71441|AFTER SHOCK CINNA...|  12|          500|      15.83|        23.74|           1|       23.74|        0.5|        0.13| 1081315_65|\n",
      "|  S04041700032|02/13/2012|        2132|    SPIRITS AND SUCH|      100 E ELM|WEST UNION|   52175|POINT (-91.807891...|           33|  FAYETTE| 1031200|   VODKA FLAVORED|          260|DIAGEO AMERICAS|      41806|SMIRNOFF VANILLA ...|  12|          750|       7.96|        11.94|           2|       23.88|        1.5|         0.4|1031200_260|\n",
      "|  S16207600002|12/11/2013|        3696|WAL-MART 1723 / D...|5101 SE 14TH ST|DES MOINES|   50315|                NULL|           77|     POLK| 1022100|          TEQUILA|          395|        PROXIMO|      89196|JOSE CUERVO ESPEC...|  12|          750|      10.49|        15.73|          12|      188.76|        9.0|        2.38|1022100_395|\n",
      "+--------------+----------+------------+--------------------+---------------+----------+--------+--------------------+-------------+---------+--------+-----------------+-------------+---------------+-----------+--------------------+----+-------------+-----------+-------------+------------+------------+-----------+------------+-----------+\n",
      "only showing top 3 rows\n",
      "\n"
     ]
    }
   ],
   "source": [
    "muestra_df.show(3)"
   ]
  },
  {
   "cell_type": "code",
   "execution_count": 7,
   "id": "3e818ba3-6e80-4217-b246-35e91ccd55bb",
   "metadata": {},
   "outputs": [],
   "source": [
    "# Le generamos un id a cada observación (renglón)\n",
    "muestra_df = muestra_df.withColumn('id', monotonically_increasing_id())"
   ]
  },
  {
   "cell_type": "markdown",
   "id": "699c92dc-e8ef-484b-9735-8b2485809d3f",
   "metadata": {},
   "source": [
    "Adicionalmente, se seleccionará como variable objetivo para aprendizaje supervisado al precio del producto (`sale_dolars`) y como variables explicativas al volumen de la botella (`bottle_volumen`), el costo de la botella (`bottle_cost`), el número de botellas vendidas (`bottles_sold`), litros vendidos (`liters_sold`) como numéricas y a la categoría del producto (`category`) y tipo de empaque (`pack`) como categóricas"
   ]
  },
  {
   "cell_type": "code",
   "execution_count": 8,
   "id": "ba7d4678-30e7-48a7-8036-300b11b61b86",
   "metadata": {},
   "outputs": [],
   "source": [
    "variable_objetivo = \"sale_dollars\"\n",
    "explicativas_numericas = [\"bottle_volume\", \"bottle_cost\", \"bottles_sold\", \"liters_sold\"]\n",
    "explicativas_categoricas = [\"category\", \"pack\"]"
   ]
  },
  {
   "cell_type": "markdown",
   "id": "314aef3e-4071-47d4-a293-4694e7e991fa",
   "metadata": {},
   "source": [
    "## Parte 3: Preparación de los datos"
   ]
  },
  {
   "cell_type": "code",
   "execution_count": 9,
   "id": "be0b4e2b-b5e8-4c37-ac78-9e855492344d",
   "metadata": {},
   "outputs": [
    {
     "name": "stderr",
     "output_type": "stream",
     "text": [
      "25/05/25 20:37:06 WARN SparkStringUtils: Truncated the string representation of a plan since it was too large. This behavior can be adjusted by setting 'spark.sql.debug.maxToStringFields'.\n"
     ]
    },
    {
     "name": "stdout",
     "output_type": "stream",
     "text": [
      "+--------------+----------+------------+--------------------+-------------+----------+--------+--------------------+-------------+---------+--------+-----------------+-------------+---------------+-----------+--------------------+----+-------------+-----------+-------------+------------+------------+-----------+------------+-----------+---+\n",
      "|invoice_number|      date|store_number|          store_name|      address|      city|zip_code|      store_location|county_number|   county|category|    category_name|vendor_number|    vendor_name|item_number|    item_description|pack|bottle_volume|bottle_cost|bottle_retail|bottles_sold|sale_dollars|liters_sold|gallons_sold|    estrato| id|\n",
      "+--------------+----------+------------+--------------------+-------------+----------+--------+--------------------+-------------+---------+--------+-----------------+-------------+---------------+-----------+--------------------+----+-------------+-----------+-------------+------------+------------+-----------+------------+-----------+---+\n",
      "|  S08652500061|10/30/2012|        3907|SMOKIN' JOE'S #16...|1504 PARK AVE| MUSCATINE|   52761|POINT (-91.030569...|           70|MUSCATINE| 1081315|CINNAMON SCHNAPPS|           65|JIM BEAM BRANDS|      71441|AFTER SHOCK CINNA...|  12|          500|      15.83|        23.74|           1|       23.74|        0.5|        0.13| 1081315_65|  0|\n",
      "|  S04041700032|02/13/2012|        2132|    SPIRITS AND SUCH|    100 E ELM|WEST UNION|   52175|POINT (-91.807891...|           33|  FAYETTE| 1031200|   VODKA FLAVORED|          260|DIAGEO AMERICAS|      41806|SMIRNOFF VANILLA ...|  12|          750|       7.96|        11.94|           2|       23.88|        1.5|         0.4|1031200_260|  1|\n",
      "+--------------+----------+------------+--------------------+-------------+----------+--------+--------------------+-------------+---------+--------+-----------------+-------------+---------------+-----------+--------------------+----+-------------+-----------+-------------+------------+------------+-----------+------------+-----------+---+\n",
      "only showing top 2 rows\n",
      "\n"
     ]
    }
   ],
   "source": [
    "# Corrección de datos faltantes para variables categóricas\n",
    "## Se calcula la moda para las varaibles categóricas\n",
    "mode_category1 = muestra_df.groupBy(\"category\").agg(count(\"*\").alias(\"count\")).orderBy(col(\"count\").desc()).first()[\"category\"]\n",
    "mode_category2 = muestra_df.groupBy(\"pack\").agg(count(\"*\").alias(\"count\")).orderBy(col(\"count\").desc()).first()[\"pack\"]\n",
    "\n",
    "## Se completan los datos faltantes de las variables categóricas con las modas\n",
    "muestra_df = muestra_df.withColumn(\"category\", when(col(\"category\").isNull(), mode_category1).otherwise(col(\"category\")))\n",
    "muestra_df = muestra_df.withColumn(\"pack\", when(col(\"pack\").isNull(), mode_category2).otherwise(col(\"pack\")))\n",
    "\n",
    "muestra_df.show(2)"
   ]
  },
  {
   "cell_type": "code",
   "execution_count": 10,
   "id": "c11786d4-3163-4286-bc14-1c9a0527a893",
   "metadata": {},
   "outputs": [
    {
     "name": "stderr",
     "output_type": "stream",
     "text": [
      "                                                                                \r"
     ]
    }
   ],
   "source": [
    "# Se completan los datos numéricos faltantes\n",
    "imputer = Imputer(inputCols = explicativas_numericas,\n",
    "                  outputCols = explicativas_numericas)\n",
    "\n",
    "imputer = imputer.fit(muestra_df)\n",
    "\n",
    "muestra_df = imputer.transform(muestra_df)"
   ]
  },
  {
   "cell_type": "code",
   "execution_count": 11,
   "id": "7912f3ac-c633-4063-b849-51f45c976346",
   "metadata": {},
   "outputs": [],
   "source": [
    "# Generamos el objeto con las variables explicativas numéricas\n",
    "vector_assembler_numerico = VectorAssembler(inputCols = explicativas_numericas,\n",
    "                                            outputCol = 'explicativas_numericas_vector')\n",
    "\n",
    "muestra_df = vector_assembler_numerico.transform(muestra_df)"
   ]
  },
  {
   "cell_type": "code",
   "execution_count": 12,
   "id": "5dbfafa3-e1fd-450d-9063-e8c70607e644",
   "metadata": {},
   "outputs": [
    {
     "name": "stderr",
     "output_type": "stream",
     "text": [
      "                                                                                \r"
     ]
    },
    {
     "name": "stdout",
     "output_type": "stream",
     "text": [
      "+--------------+----------+------------+--------------------+-------------+----------+--------+--------------------+-------------+---------+--------+-----------------+-------------+---------------+-----------+--------------------+----+-------------+-----------+-------------+------------+------------+-----------+------------+-----------+---+-----------------------------+--------------+----------+----------------------+------------------+-------------------------------+\n",
      "|invoice_number|      date|store_number|          store_name|      address|      city|zip_code|      store_location|county_number|   county|category|    category_name|vendor_number|    vendor_name|item_number|    item_description|pack|bottle_volume|bottle_cost|bottle_retail|bottles_sold|sale_dollars|liters_sold|gallons_sold|    estrato| id|explicativas_numericas_vector|category_index|pack_index|category_index_encoded|pack_index_encoded|explicativas_categoricas_vector|\n",
      "+--------------+----------+------------+--------------------+-------------+----------+--------+--------------------+-------------+---------+--------+-----------------+-------------+---------------+-----------+--------------------+----+-------------+-----------+-------------+------------+------------+-----------+------------+-----------+---+-----------------------------+--------------+----------+----------------------+------------------+-------------------------------+\n",
      "|  S08652500061|10/30/2012|        3907|SMOKIN' JOE'S #16...|1504 PARK AVE| MUSCATINE|   52761|POINT (-91.030569...|           70|MUSCATINE| 1081315|CINNAMON SCHNAPPS|           65|JIM BEAM BRANDS|      71441|AFTER SHOCK CINNA...|  12|          500|      15.83|        23.74|           1|       23.74|        0.5|        0.13| 1081315_65|  0|         [500.0,15.83,1.0,...|          56.0|       0.0|      (110,[56],[1.0])|    (19,[0],[1.0])|           (129,[56,110],[1....|\n",
      "|  S04041700032|02/13/2012|        2132|    SPIRITS AND SUCH|    100 E ELM|WEST UNION|   52175|POINT (-91.807891...|           33|  FAYETTE| 1031200|   VODKA FLAVORED|          260|DIAGEO AMERICAS|      41806|SMIRNOFF VANILLA ...|  12|          750|       7.96|        11.94|           2|       23.88|        1.5|         0.4|1031200_260|  1|         [750.0,7.96,2.0,1.5]|           3.0|       0.0|       (110,[3],[1.0])|    (19,[0],[1.0])|           (129,[3,110],[1.0...|\n",
      "+--------------+----------+------------+--------------------+-------------+----------+--------+--------------------+-------------+---------+--------+-----------------+-------------+---------------+-----------+--------------------+----+-------------+-----------+-------------+------------+------------+-----------+------------+-----------+---+-----------------------------+--------------+----------+----------------------+------------------+-------------------------------+\n",
      "only showing top 2 rows\n",
      "\n"
     ]
    }
   ],
   "source": [
    "# A las varibles categóricas primero las representaremos mediante un índice único y posteriormente se le aplicará one-hot encoding\n",
    "\n",
    "## Se representa a las categorías de las variables categóricas como índices únicos\n",
    "indexers = [\n",
    "    StringIndexer(inputCol = c, outputCol = \"{0}_index\".format(c))\n",
    "    for c in explicativas_categoricas\n",
    "]\n",
    "\n",
    "## Se aplica one-hot encoding a cada una de las variables categóricas\n",
    "encoders = [\n",
    "    OneHotEncoder(\n",
    "        inputCol = indexer.getOutputCol(),\n",
    "        outputCol = \"{0}_encoded\".format(indexer.getOutputCol())) \n",
    "    for indexer in indexers\n",
    "]\n",
    "\n",
    "## Generamos el objeto con las variables explicativas categóricas\n",
    "assembler = VectorAssembler(\n",
    "    inputCols=[encoder.getOutputCol() for encoder in encoders],\n",
    "    outputCol = \"explicativas_categoricas_vector\"\n",
    ")\n",
    "\n",
    "pipeline = Pipeline(stages = indexers + encoders + [assembler])\n",
    "pipeline = pipeline.fit(muestra_df)\n",
    "\n",
    "muestra_df = pipeline.transform(muestra_df)\n",
    "\n",
    "muestra_df.show(2)"
   ]
  },
  {
   "cell_type": "markdown",
   "id": "782fbb77-1c8a-4c06-a425-296c4f2e03ff",
   "metadata": {},
   "source": [
    "## Parte 4. Preparación del conjunto de entrenamiento y prueba\n",
    "\n",
    "Se aplicará la misma lógica de muestreo estratificado para hacer la construcción de los conjuntos de entrenamiento (`train`) y de prueba (`test`) del 70% y 30%, respectivamente."
   ]
  },
  {
   "cell_type": "code",
   "execution_count": 13,
   "id": "900631fd-88b7-4f7a-9ba7-e664c751a7da",
   "metadata": {},
   "outputs": [
    {
     "name": "stderr",
     "output_type": "stream",
     "text": [
      "                                                                                \r"
     ]
    }
   ],
   "source": [
    "## Para crear la muestra de entrenamiento y prueba\n",
    "\n",
    "## Se definen las proporciones para el muestreo estratificado\n",
    "df_conteo_train = muestra_df.groupBy(\"estrato\").agg(count(\"*\").alias(\"conteo\"))\n",
    "df_estrato_train = df_estrato.select(\"estrato\", \"probabilidad\")\n",
    "df_estrato_train = df_estrato_train.join(df_conteo_train, ['estrato'], \"inner\")\n",
    "\n",
    "## Se especifica el tamaño del conjunto de entrenamiento (70%)\n",
    "n_train = math.ceil(0.7 * n_dataset)\n",
    "\n",
    "## Se obtiene una columna con el tamaño de muestra requerido de cada estrato en la muestra de entrenamiento\n",
    "df_estrato_train = df_estrato_train.withColumn(\"muestra_train\", col(\"probabilidad\") * n_train)\n",
    "df_estrato_train = df_estrato_train.withColumn(\"tamanio_muestra_train\", floor(\"muestra_train\"))\n",
    "df_estrato_train = df_estrato_train.withColumn(\"prop_estrato_train\", col(\"tamanio_muestra_train\")/col(\"conteo\"))\n",
    "\n",
    "# Se convierte el spark DataFrame en Pandas dataframe para extraer la proporción por estratos a muestrear\n",
    "pandas_estratos_train = df_estrato_train.toPandas()\n",
    "pandas_estratos_train[\"prop_estrato_train\"] = pandas_estratos_train[\"prop_estrato_train\"].clip(upper=1.)\n",
    "\n",
    "# Se construye un diccionario con la proporción a muestrear requerida en cada estrato en la muestra de entrenamiento\n",
    "proporciones_train = pandas_estratos_train.set_index('estrato')['prop_estrato_train'].to_dict()\n",
    "\n",
    "# Se obtiene el conjunto de entrenamiento con el tamaño para cada estrato del tamaño adecuado\n",
    "train = muestra_df.sampleBy(col = \"estrato\", fractions = proporciones_train, seed = 5)\n",
    "num_train = train.count()\n",
    "\n",
    "# Se obtiene el conjunto de prueba como todo lo que está en el dataset de trabajo pero NO en el conjunto de entrenamiento\n",
    "test = muestra_df.join(train, ['id'], \"leftanti\")\n",
    "num_test = test.count()"
   ]
  },
  {
   "cell_type": "markdown",
   "id": "8eb11c3c-55fd-46ed-978e-7275ca280e1f",
   "metadata": {},
   "source": [
    "El tamaño de los dataset de trabajo, entrenamiento y prueba, respectivamente son:"
   ]
  },
  {
   "cell_type": "code",
   "execution_count": 14,
   "id": "3e6c2a10-5204-4b8c-a3d8-2d0a056fc0a5",
   "metadata": {},
   "outputs": [
    {
     "name": "stdout",
     "output_type": "stream",
     "text": [
      "132264\n",
      "91679\n",
      "40585\n"
     ]
    }
   ],
   "source": [
    "print(n_dataset)\n",
    "print(num_train)\n",
    "print(num_test)"
   ]
  },
  {
   "cell_type": "code",
   "execution_count": 15,
   "id": "3ca3ef6b-1af6-49f7-8aa3-5857e011e577",
   "metadata": {},
   "outputs": [
    {
     "name": "stderr",
     "output_type": "stream",
     "text": [
      "[Stage 55:======================================================> (47 + 1) / 48]\r"
     ]
    },
    {
     "name": "stdout",
     "output_type": "stream",
     "text": [
      "+----+--------------+----------+------------+--------------------+-----------------+----------+--------+--------------------+-------------+---------+--------+------------------+-------------+--------------------+-----------+--------------------+----+-------------+-----------+-------------+------------+------------+-----------+------------+-----------+-----------------------------+--------------+----------+----------------------+------------------+-------------------------------+\n",
      "|  id|invoice_number|      date|store_number|          store_name|          address|      city|zip_code|      store_location|county_number|   county|category|     category_name|vendor_number|         vendor_name|item_number|    item_description|pack|bottle_volume|bottle_cost|bottle_retail|bottles_sold|sale_dollars|liters_sold|gallons_sold|    estrato|explicativas_numericas_vector|category_index|pack_index|category_index_encoded|pack_index_encoded|explicativas_categoricas_vector|\n",
      "+----+--------------+----------+------------+--------------------+-----------------+----------+--------+--------------------+-------------+---------+--------+------------------+-------------+--------------------+-----------+--------------------+----+-------------+-----------+-------------+------------+------------+-----------+------------+-----------+-----------------------------+--------------+----------+----------------------+------------------+-------------------------------+\n",
      "|  26|  S24659500025|03/23/2015|        4641|KUM & GO #573 / S...|  5830 SE 14TH ST|DES MOINES|   50315|                NULL|           77|     POLK| 1022100|           TEQUILA|          410|THE PATRON SPIRIT...|      88294|PATRON SILVER TEQ...|  12|          375|       14.0|         21.0|           3|        63.0|       1.12|         0.3|1022100_410|         [375.0,14.0,3.0,1...|           7.0|       0.0|       (110,[7],[1.0])|    (19,[0],[1.0])|           (129,[7,110],[1.0...|\n",
      "| 474|  S07506900016|09/04/2012|        3920|SMOKIN' JOE'S #11...|1606 CAMANCHE AVE|   CLINTON|   52732|POINT (-90.204748...|           23|  CLINTON| 1062310|        SPICED RUM|          260|     DIAGEO AMERICAS|      43334|CAPTAIN MORGAN SP...|  24|          375|        4.5|         6.74|           8|       53.92|        3.0|        0.79|1062310_260|          [375.0,4.5,8.0,3.0]|          16.0|       2.0|      (110,[16],[1.0])|    (19,[2],[1.0])|           (129,[16,112],[1....|\n",
      "|1806|  S22687400039|12/02/2014|        3704|CELTICS BEVERAGE ...|    1122 BROADWAY|EMMETSBURG|   50536|POINT (-94.678807...|           74|PALO ALTO| 1071100|AMERICAN COCKTAILS|          395|             PROXIMO|      58868|JOSE CUERVO AUTHE...|   6|         1750|        8.2|         12.3|           1|        12.3|       1.75|        0.46|1071100_395|         [1750.0,8.2,1.0,1...|          10.0|       1.0|      (110,[10],[1.0])|    (19,[1],[1.0])|           (129,[10,111],[1....|\n",
      "+----+--------------+----------+------------+--------------------+-----------------+----------+--------+--------------------+-------------+---------+--------+------------------+-------------+--------------------+-----------+--------------------+----+-------------+-----------+-------------+------------+------------+-----------+------------+-----------+-----------------------------+--------------+----------+----------------------+------------------+-------------------------------+\n",
      "only showing top 3 rows\n",
      "\n"
     ]
    },
    {
     "name": "stderr",
     "output_type": "stream",
     "text": [
      "                                                                                \r"
     ]
    }
   ],
   "source": [
    "# Se muestra un extracto del dataset de prueba\n",
    "test.show(3)"
   ]
  },
  {
   "cell_type": "code",
   "execution_count": 16,
   "id": "df120504-dfa2-4c41-86ca-17714e4279fe",
   "metadata": {
    "scrolled": true
   },
   "outputs": [
    {
     "name": "stdout",
     "output_type": "stream",
     "text": [
      "+--------------+----------+------------+--------------------+-------------------+-----------+--------+--------------------+-------------+----------+--------+-----------------+-------------+--------------------+-----------+--------------------+----+-------------+-----------+-------------+------------+------------+-----------+------------+-----------+---+-----------------------------+--------------+----------+----------------------+------------------+-------------------------------+\n",
      "|invoice_number|      date|store_number|          store_name|            address|       city|zip_code|      store_location|county_number|    county|category|    category_name|vendor_number|         vendor_name|item_number|    item_description|pack|bottle_volume|bottle_cost|bottle_retail|bottles_sold|sale_dollars|liters_sold|gallons_sold|    estrato| id|explicativas_numericas_vector|category_index|pack_index|category_index_encoded|pack_index_encoded|explicativas_categoricas_vector|\n",
      "+--------------+----------+------------+--------------------+-------------------+-----------+--------+--------------------+-------------+----------+--------+-----------------+-------------+--------------------+-----------+--------------------+----+-------------+-----------+-------------+------------+------------+-----------+------------+-----------+---+-----------------------------+--------------+----------+----------------------+------------------+-------------------------------+\n",
      "|  S08652500061|10/30/2012|        3907|SMOKIN' JOE'S #16...|      1504 PARK AVE|  MUSCATINE|   52761|POINT (-91.030569...|           70| MUSCATINE| 1081315|CINNAMON SCHNAPPS|           65|     JIM BEAM BRANDS|      71441|AFTER SHOCK CINNA...|  12|          500|      15.83|        23.74|           1|       23.74|        0.5|        0.13| 1081315_65|  0|         [500.0,15.83,1.0,...|          56.0|       0.0|      (110,[56],[1.0])|    (19,[0],[1.0])|           (129,[56,110],[1....|\n",
      "|  S04041700032|02/13/2012|        2132|    SPIRITS AND SUCH|          100 E ELM| WEST UNION|   52175|POINT (-91.807891...|           33|   FAYETTE| 1031200|   VODKA FLAVORED|          260|     DIAGEO AMERICAS|      41806|SMIRNOFF VANILLA ...|  12|          750|       7.96|        11.94|           2|       23.88|        1.5|         0.4|1031200_260|  1|         [750.0,7.96,2.0,1.5]|           3.0|       0.0|       (110,[3],[1.0])|    (19,[0],[1.0])|           (129,[3,110],[1.0...|\n",
      "|  S15997300078|12/05/2013|        3769|WAL-MART 0753 / C...|525 BRANDILYNN BLVD|CEDAR FALLS|   50613|POINT (-92.440394...|            7|BLACK HAWK| 1031200|   VODKA FLAVORED|          380|PHILLIPS BEVERAGE...|      41989|       UV CAKE VODKA|  12|          750|       6.25|         9.49|          12|      113.88|        9.0|        2.38|1031200_380|  3|         [750.0,6.25,12.0,...|           3.0|       0.0|       (110,[3],[1.0])|    (19,[0],[1.0])|           (129,[3,110],[1.0...|\n",
      "+--------------+----------+------------+--------------------+-------------------+-----------+--------+--------------------+-------------+----------+--------+-----------------+-------------+--------------------+-----------+--------------------+----+-------------+-----------+-------------+------------+------------+-----------+------------+-----------+---+-----------------------------+--------------+----------+----------------------+------------------+-------------------------------+\n",
      "only showing top 3 rows\n",
      "\n"
     ]
    }
   ],
   "source": [
    "# Se muestra un extracto del dataset de entrenamiento\n",
    "train.show(3)"
   ]
  },
  {
   "cell_type": "code",
   "execution_count": 17,
   "id": "b23e715e-5aea-4356-b1a4-2345c87dcfc6",
   "metadata": {},
   "outputs": [
    {
     "name": "stderr",
     "output_type": "stream",
     "text": [
      "                                                                                \r"
     ]
    }
   ],
   "source": [
    "# Estandarizamos las variables numéricas para quitar el efecto de la escala de las variables originales\n",
    "scaler = StandardScaler(inputCol = 'explicativas_numericas_vector',\n",
    "                        outputCol= 'explicativas_numericas_vector_escaladas',\n",
    "                        withStd=True, withMean=True)\n",
    "\n",
    "scaler = scaler.fit(train)\n",
    "train = scaler.transform(train)\n",
    "test = scaler.transform(test)\n",
    "\n",
    "# Juntamos las variables explicativas categóricas como las varables explicativas numéricas\n",
    "assembler = VectorAssembler(inputCols = ['explicativas_numericas_vector_escaladas', 'explicativas_categoricas_vector'],\n",
    "                            outputCol = 'explicativas_final_vector')\n",
    "\n",
    "train = assembler.transform(train)\n",
    "test = assembler.transform(test)"
   ]
  },
  {
   "cell_type": "code",
   "execution_count": 18,
   "id": "1ca1c217-31e6-4529-9432-c3247c12f7c5",
   "metadata": {},
   "outputs": [
    {
     "name": "stdout",
     "output_type": "stream",
     "text": [
      "+--------------+----------+------------+--------------------+-------------+----------+--------+--------------------+-------------+---------+--------+-----------------+-------------+---------------+-----------+--------------------+----+-------------+-----------+-------------+------------+------------+-----------+------------+-----------+---+-----------------------------+--------------+----------+----------------------+------------------+-------------------------------+---------------------------------------+-------------------------+\n",
      "|invoice_number|      date|store_number|          store_name|      address|      city|zip_code|      store_location|county_number|   county|category|    category_name|vendor_number|    vendor_name|item_number|    item_description|pack|bottle_volume|bottle_cost|bottle_retail|bottles_sold|sale_dollars|liters_sold|gallons_sold|    estrato| id|explicativas_numericas_vector|category_index|pack_index|category_index_encoded|pack_index_encoded|explicativas_categoricas_vector|explicativas_numericas_vector_escaladas|explicativas_final_vector|\n",
      "+--------------+----------+------------+--------------------+-------------+----------+--------+--------------------+-------------+---------+--------+-----------------+-------------+---------------+-----------+--------------------+----+-------------+-----------+-------------+------------+------------+-----------+------------+-----------+---+-----------------------------+--------------+----------+----------------------+------------------+-------------------------------+---------------------------------------+-------------------------+\n",
      "|  S08652500061|10/30/2012|        3907|SMOKIN' JOE'S #16...|1504 PARK AVE| MUSCATINE|   52761|POINT (-91.030569...|           70|MUSCATINE| 1081315|CINNAMON SCHNAPPS|           65|JIM BEAM BRANDS|      71441|AFTER SHOCK CINNA...|  12|          500|      15.83|        23.74|           1|       23.74|        0.5|        0.13| 1081315_65|  0|         [500.0,15.83,1.0,...|          56.0|       0.0|      (110,[56],[1.0])|    (19,[0],[1.0])|           (129,[56,110],[1....|                   [-0.7634806844106...|     (133,[0,1,2,3,60,...|\n",
      "|  S04041700032|02/13/2012|        2132|    SPIRITS AND SUCH|    100 E ELM|WEST UNION|   52175|POINT (-91.807891...|           33|  FAYETTE| 1031200|   VODKA FLAVORED|          260|DIAGEO AMERICAS|      41806|SMIRNOFF VANILLA ...|  12|          750|       7.96|        11.94|           2|       23.88|        1.5|         0.4|1031200_260|  1|         [750.0,7.96,2.0,1.5]|           3.0|       0.0|       (110,[3],[1.0])|    (19,[0],[1.0])|           (129,[3,110],[1.0...|                   [-0.2713100889371...|     (133,[0,1,2,3,7,1...|\n",
      "+--------------+----------+------------+--------------------+-------------+----------+--------+--------------------+-------------+---------+--------+-----------------+-------------+---------------+-----------+--------------------+----+-------------+-----------+-------------+------------+------------+-----------+------------+-----------+---+-----------------------------+--------------+----------+----------------------+------------------+-------------------------------+---------------------------------------+-------------------------+\n",
      "only showing top 2 rows\n",
      "\n"
     ]
    }
   ],
   "source": [
    "# Se muestra un extracto del dataset de entrenamiento\n",
    "train.show(2)"
   ]
  },
  {
   "cell_type": "markdown",
   "id": "02a6bc8d-7bb2-4144-b8b7-8486b673148f",
   "metadata": {},
   "source": [
    "## Parte 5. Construcción de modelos de aprendizaje supervisado y no supervisado\n",
    "### Aprendizaje supervisado - Random forest\n",
    "\n",
    "En esta actividad, el algoritmo de aprendizaje supervisado que se utilizará es un random forest"
   ]
  },
  {
   "cell_type": "code",
   "execution_count": 19,
   "id": "8697fbd8-5eb5-4290-9c7f-022f336be793",
   "metadata": {},
   "outputs": [
    {
     "name": "stderr",
     "output_type": "stream",
     "text": [
      "                                                                                \r"
     ]
    }
   ],
   "source": [
    "# Se define el objeto modelo random forest para variable objetivo numérica (i.e. un problema de regresión)\n",
    "random_forest_reg = RandomForestRegressor(featuresCol = 'explicativas_final_vector', labelCol = variable_objetivo)\n",
    "\n",
    "# Se ajusta el modelo a partir de los datos de entrenamiento\n",
    "modelo = random_forest_reg.fit(train)\n",
    "\n",
    "# Se obtienen las estimaciones a partir de modelo tanto en los datasets de entrenamiento como de prueba\n",
    "pred_train = modelo.transform(train)\n",
    "pred_test = modelo.transform(test)"
   ]
  },
  {
   "cell_type": "code",
   "execution_count": 20,
   "id": "17861d3b-3161-42cf-876f-a1ae7aff8f9e",
   "metadata": {},
   "outputs": [
    {
     "name": "stderr",
     "output_type": "stream",
     "text": [
      "                                                                                \r"
     ]
    },
    {
     "name": "stdout",
     "output_type": "stream",
     "text": [
      "+----+--------------+----------+------------+--------------------+-----------------+----------+--------+--------------------+-------------+---------+--------+------------------+-------------+--------------------+-----------+--------------------+----+-------------+-----------+-------------+------------+------------+-----------+------------+-----------+-----------------------------+--------------+----------+----------------------+------------------+-------------------------------+---------------------------------------+-------------------------+-----------------+\n",
      "|  id|invoice_number|      date|store_number|          store_name|          address|      city|zip_code|      store_location|county_number|   county|category|     category_name|vendor_number|         vendor_name|item_number|    item_description|pack|bottle_volume|bottle_cost|bottle_retail|bottles_sold|sale_dollars|liters_sold|gallons_sold|    estrato|explicativas_numericas_vector|category_index|pack_index|category_index_encoded|pack_index_encoded|explicativas_categoricas_vector|explicativas_numericas_vector_escaladas|explicativas_final_vector|       prediction|\n",
      "+----+--------------+----------+------------+--------------------+-----------------+----------+--------+--------------------+-------------+---------+--------+------------------+-------------+--------------------+-----------+--------------------+----+-------------+-----------+-------------+------------+------------+-----------+------------+-----------+-----------------------------+--------------+----------+----------------------+------------------+-------------------------------+---------------------------------------+-------------------------+-----------------+\n",
      "|  26|  S24659500025|03/23/2015|        4641|KUM & GO #573 / S...|  5830 SE 14TH ST|DES MOINES|   50315|                NULL|           77|     POLK| 1022100|           TEQUILA|          410|THE PATRON SPIRIT...|      88294|PATRON SILVER TEQ...|  12|          375|       14.0|         21.0|           3|        63.0|       1.12|         0.3|1022100_410|         [375.0,14.0,3.0,1...|           7.0|       0.0|       (110,[7],[1.0])|    (19,[0],[1.0])|           (129,[7,110],[1.0...|                   [-1.0095659821474...|     (133,[0,1,2,3,11,...|70.38908881661503|\n",
      "| 474|  S07506900016|09/04/2012|        3920|SMOKIN' JOE'S #11...|1606 CAMANCHE AVE|   CLINTON|   52732|POINT (-90.204748...|           23|  CLINTON| 1062310|        SPICED RUM|          260|     DIAGEO AMERICAS|      43334|CAPTAIN MORGAN SP...|  24|          375|        4.5|         6.74|           8|       53.92|        3.0|        0.79|1062310_260|          [375.0,4.5,8.0,3.0]|          16.0|       2.0|      (110,[16],[1.0])|    (19,[2],[1.0])|           (129,[16,112],[1....|                   [-1.0095659821474...|     (133,[0,1,2,3,20,...|53.36079896305299|\n",
      "|1806|  S22687400039|12/02/2014|        3704|CELTICS BEVERAGE ...|    1122 BROADWAY|EMMETSBURG|   50536|POINT (-94.678807...|           74|PALO ALTO| 1071100|AMERICAN COCKTAILS|          395|             PROXIMO|      58868|JOSE CUERVO AUTHE...|   6|         1750|        8.2|         12.3|           1|        12.3|       1.75|        0.46|1071100_395|         [1750.0,8.2,1.0,1...|          10.0|       1.0|      (110,[10],[1.0])|    (19,[1],[1.0])|           (129,[10,111],[1....|                   [1.69737229295697...|     (133,[0,1,2,3,14,...|49.55029651902326|\n",
      "+----+--------------+----------+------------+--------------------+-----------------+----------+--------+--------------------+-------------+---------+--------+------------------+-------------+--------------------+-----------+--------------------+----+-------------+-----------+-------------+------------+------------+-----------+------------+-----------+-----------------------------+--------------+----------+----------------------+------------------+-------------------------------+---------------------------------------+-------------------------+-----------------+\n",
      "only showing top 3 rows\n",
      "\n"
     ]
    }
   ],
   "source": [
    "# Se muestra un extracto del dataset con las predicciones en el dataset de prueba\n",
    "pred_test.show(3)"
   ]
  },
  {
   "cell_type": "code",
   "execution_count": 21,
   "id": "dc3bba3e-ba3f-43ae-93e6-8b9a99d8f7d8",
   "metadata": {},
   "outputs": [
    {
     "name": "stderr",
     "output_type": "stream",
     "text": [
      "                                                                                \r"
     ]
    }
   ],
   "source": [
    "# Se evaluará qué tan bueno es el modelo a partir de la raíz del error cuadrático medio (RMSE)\n",
    "evaluator_rmse = RegressionEvaluator(labelCol = variable_objetivo, predictionCol = \"prediction\", metricName = \"rmse\")\n",
    "rmse_train = evaluator_rmse.evaluate(pred_train)\n",
    "rmse_test = evaluator_rmse.evaluate(pred_test)\n",
    "\n",
    "# Se evaluará qué tan bueno es el modelo a partir del error absoluto medio medio (MAE)\n",
    "evaluator_mae = RegressionEvaluator(labelCol = variable_objetivo, predictionCol = \"prediction\", metricName = \"mae\")\n",
    "mae_train = evaluator_mae.evaluate(pred_train)\n",
    "mae_test = evaluator_mae.evaluate(pred_test)"
   ]
  },
  {
   "cell_type": "markdown",
   "id": "6792f4dd-d54a-4bf1-b82f-ecdc04da82e7",
   "metadata": {},
   "source": [
    "A continuación se muestran los RMSEs sobre los datos de entrenamiento y prueba, respectivamente"
   ]
  },
  {
   "cell_type": "code",
   "execution_count": 22,
   "id": "7bfc36be-e3da-4b0b-a480-54ee2e57b0ee",
   "metadata": {},
   "outputs": [
    {
     "name": "stdout",
     "output_type": "stream",
     "text": [
      "290.4556246630458\n",
      "586.3765441689153\n"
     ]
    }
   ],
   "source": [
    "print(rmse_train)\n",
    "print(rmse_test)"
   ]
  },
  {
   "cell_type": "markdown",
   "id": "54a471ea-85bf-4c8d-a975-334026dfe101",
   "metadata": {},
   "source": [
    "A continuación se muestran los MAEs sobre los datos de entrenamiento y prueba, respectivamente"
   ]
  },
  {
   "cell_type": "code",
   "execution_count": 23,
   "id": "562575d2-5562-4e4a-89fb-ae084207a7d1",
   "metadata": {},
   "outputs": [
    {
     "name": "stdout",
     "output_type": "stream",
     "text": [
      "50.5157692693681\n",
      "65.66915590923358\n"
     ]
    }
   ],
   "source": [
    "print(mae_train)\n",
    "print(mae_test)"
   ]
  },
  {
   "cell_type": "markdown",
   "id": "f554e504-2c0d-4a11-b6d9-36724ada8275",
   "metadata": {},
   "source": [
    "## Aprendizaje no supervisado - Clustering mediante K means\n",
    "\n",
    "El modelo de aprendizaje no supervisado que se estudiará en esta parte es clustering mediante el algoritmo k-means"
   ]
  },
  {
   "cell_type": "code",
   "execution_count": 24,
   "id": "198ee8dd-90a2-41cb-9399-298f05746651",
   "metadata": {
    "scrolled": true
   },
   "outputs": [
    {
     "name": "stderr",
     "output_type": "stream",
     "text": [
      "25/05/25 21:16:57 WARN InstanceBuilder: Failed to load implementation from:dev.ludovic.netlib.blas.JNIBLAS\n",
      "25/05/25 21:16:57 WARN InstanceBuilder: Failed to load implementation from:dev.ludovic.netlib.blas.VectorBLAS\n",
      "                                                                                \r"
     ]
    },
    {
     "name": "stdout",
     "output_type": "stream",
     "text": [
      "WSS Score con k = 3 clusters es 205220.24938194503\n"
     ]
    },
    {
     "name": "stderr",
     "output_type": "stream",
     "text": [
      "                                                                                \r"
     ]
    },
    {
     "name": "stdout",
     "output_type": "stream",
     "text": [
      "WSS Score con k = 4 clusters es 183195.35660448717\n"
     ]
    },
    {
     "name": "stderr",
     "output_type": "stream",
     "text": [
      "                                                                                \r"
     ]
    },
    {
     "name": "stdout",
     "output_type": "stream",
     "text": [
      "WSS Score con k = 5 clusters es 149443.96634314748\n"
     ]
    },
    {
     "name": "stderr",
     "output_type": "stream",
     "text": [
      "[Stage 284:=====================================================> (47 + 1) / 48]\r"
     ]
    },
    {
     "name": "stdout",
     "output_type": "stream",
     "text": [
      "WSS Score con k = 6 clusters es 118038.19201501622\n"
     ]
    },
    {
     "name": "stderr",
     "output_type": "stream",
     "text": [
      "                                                                                \r"
     ]
    }
   ],
   "source": [
    "# Se probarán y evaluarán varios modelos k-means usando como métrica de bondan del modelo al WSS (Within Sum of Squares o inertia)\n",
    "score_wss = []\n",
    "\n",
    "# Se considerarán modelos de 3 hasta 6 clústers y se obtendrá sus WSS\n",
    "\n",
    "for i in range(3,7):\n",
    "    kmeans = KMeans(featuresCol = 'explicativas_numericas_vector_escaladas', k = i)\n",
    "    modelo = kmeans.fit(train)\n",
    "    wss = modelo.summary.trainingCost\n",
    "    score_wss.append(wss)\n",
    "    print('WSS Score con k =',i,'clusters es',wss)"
   ]
  },
  {
   "cell_type": "code",
   "execution_count": 26,
   "id": "e45b30da-1c34-44dc-89a9-0a0b5562c3ba",
   "metadata": {},
   "outputs": [
    {
     "data": {
      "image/png": "[encoded data removed]",
      "text/plain": [
       "<Figure size 640x480 with 1 Axes>"
      ]
     },
     "metadata": {},
     "output_type": "display_data"
    }
   ],
   "source": [
    "# Ahora se graficarán los WSS obtenidos para obtener lo que se conoce como diagrama de codo\n",
    "plt.plot(range(3,7), score_wss)\n",
    "plt.xlabel('k')\n",
    "plt.ylabel('WSS Score')\n",
    "plt.show()"
   ]
  },
  {
   "cell_type": "code",
   "execution_count": 27,
   "id": "a5bf576e-a9fa-4de0-90d5-54f545b9d09f",
   "metadata": {},
   "outputs": [
    {
     "name": "stderr",
     "output_type": "stream",
     "text": [
      "                                                                                \r"
     ]
    }
   ],
   "source": [
    "# Seleccionamos como número de cluster óptimo al 4 y se vuelve a ejecutar el algoritmo k-means\n",
    "kmeans = KMeans(featuresCol = 'explicativas_numericas_vector_escaladas', k = 4)\n",
    "modelo = kmeans.fit(train)\n",
    "clusters = modelo.transform(train)"
   ]
  },
  {
   "cell_type": "code",
   "execution_count": 28,
   "id": "640e550a-f938-4355-a963-59d799f13727",
   "metadata": {},
   "outputs": [
    {
     "name": "stdout",
     "output_type": "stream",
     "text": [
      "Centros de los clústers: \n",
      "[-0.46769285 -0.23736963 -0.01655109 -0.07720134]\n",
      "[  1.69737229  -0.3191293  102.8476016  138.48149998]\n",
      "[ 0.72042521  0.02200374 13.99131232 13.26825468]\n",
      "[ 1.37011238  0.69858437 -0.08421027  0.0994372 ]\n"
     ]
    }
   ],
   "source": [
    "# Finalmente, se obtienene los centroides de cada clúster\n",
    "centros = modelo.clusterCenters()\n",
    "print(\"Centros de los clústers: \")\n",
    "for centro in centros:\n",
    "    print(centro)"
   ]
  },
  {
   "cell_type": "code",
   "execution_count": null,
   "id": "88c7581a-6610-4a6c-9852-9ad20d04c963",
   "metadata": {},
   "outputs": [],
   "source": []
  }
 ],
 "metadata": {
  "kernelspec": {
   "display_name": "Python 3 (ipykernel)",
   "language": "python",
   "name": "python3"
  },
  "language_info": {
   "codemirror_mode": {
    "name": "ipython",
    "version": 3
   },
   "file_extension": ".py",
   "mimetype": "text/x-python",
   "name": "python",
   "nbconvert_exporter": "python",
   "pygments_lexer": "ipython3",
   "version": "3.12.2"
  }
 },
 "nbformat": 4,
 "nbformat_minor": 5
}
