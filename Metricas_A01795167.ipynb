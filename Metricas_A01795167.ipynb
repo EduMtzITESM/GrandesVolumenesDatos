{
 "cells": [
  {
   "cell_type": "markdown",
   "id": "be442e7b-13bc-4ef5-9aae-8097f481f788",
   "metadata": {},
   "source": [
    "# Análisis de Grandes Volúmenes de Datos\n",
    "### Actividad 4 | Métricas de calidad de resultados\n",
    "\n",
    "Estudiante:\n",
    "\n",
    "+ Eduardo Selim Martínez Mayorga - A01795167"
   ]
  },
  {
   "cell_type": "code",
   "execution_count": 1,
   "id": "0bb0ffc7-960b-43ac-ba6d-55dae69c017f",
   "metadata": {},
   "outputs": [],
   "source": [
    "#Descargamos las librerias necesarias, iniciamos sesion de Pyspark y cargamos la base de datos\n",
    "from pyspark.sql import SparkSession\n",
    "from pyspark.sql import functions as F\n",
    "from pyspark.sql.functions import countDistinct, count, isnan, when, desc, concat_ws, monotonically_increasing_id\n",
    "from pyspark.sql.functions import col, expr, mean, stddev, min, max, length, ceil, floor\n",
    "from pyspark.sql.types import StructType, StructField, StringType, DoubleType, NumericType\n",
    "from pyspark.ml.feature import Imputer, VectorAssembler, StandardScaler, StringIndexer, OneHotEncoder\n",
    "from pyspark.ml.regression import LinearRegression, RandomForestRegressor\n",
    "from pyspark.ml import Pipeline\n",
    "from pyspark.ml.clustering import KMeans\n",
    "from pyspark.ml.evaluation import ClusteringEvaluator, RegressionEvaluator\n",
    "from pyspark.ml.tuning import ParamGridBuilder, CrossValidator\n",
    "import math\n",
    "import pandas as pd\n",
    "import matplotlib.pyplot as plt"
   ]
  },
  {
   "cell_type": "code",
   "execution_count": 2,
   "id": "b7c0e826-b857-456c-bb91-6a2b317d7ec3",
   "metadata": {},
   "outputs": [
    {
     "name": "stderr",
     "output_type": "stream",
     "text": [
      "25/06/08 13:55:09 WARN Utils: Your hostname, MacBook-Air-de-Eduardo.local resolves to a loopback address: 127.0.0.1; using 10.200.100.163 instead (on interface en0)\n",
      "25/06/08 13:55:09 WARN Utils: Set SPARK_LOCAL_IP if you need to bind to another address\n",
      "Setting default log level to \"WARN\".\n",
      "To adjust logging level use sc.setLogLevel(newLevel). For SparkR, use setLogLevel(newLevel).\n",
      "25/06/08 13:55:10 WARN NativeCodeLoader: Unable to load native-hadoop library for your platform... using builtin-java classes where applicable\n",
      "25/06/08 13:55:26 WARN GarbageCollectionMetrics: To enable non-built-in garbage collector(s) List(G1 Concurrent GC), users should configure it(them) to spark.eventLog.gcMetrics.youngGenerationGarbageCollectors or spark.eventLog.gcMetrics.oldGenerationGarbageCollectors\n",
      "                                                                                \r"
     ]
    }
   ],
   "source": [
    "spark = SparkSession.builder.appName(\"CSVRead\").getOrCreate()\n",
    "df = spark.read.csv(\"Iowa_Liquor_Sales.csv\", header=True, inferSchema=True)"
   ]
  },
  {
   "cell_type": "code",
   "execution_count": 3,
   "id": "dbf7d451-ffd5-4879-a3f8-922839c13e27",
   "metadata": {},
   "outputs": [],
   "source": [
    "# Cambiamos los nombres de las columnas para facilitar su manejo al programar\n",
    "df = df.withColumnsRenamed({\"Invoice/Item Number\": \"invoice_number\",\n",
    "\"Date\": \"date\",\n",
    "\"Store Number\": \"store_number\",\n",
    "\"Store Name\": \"store_name\",\n",
    "\"Address\": \"address\",\n",
    "\"City\": \"city\",\n",
    "\"Zip Code\": \"zip_code\",\n",
    "\"Store Location\": \"store_location\",\n",
    "\"County Number\": \"county_number\",\n",
    "\"County\": \"county\",\n",
    "\"Category\": \"category\",\n",
    "\"Category Name\": \"category_name\",\n",
    "\"Vendor Number\": \"vendor_number\",\n",
    "\"Vendor Name\": \"vendor_name\",\n",
    "\"Item Number\": \"item_number\",\n",
    "\"Item Description\": \"item_description\",\n",
    "\"Pack\": \"pack\",\n",
    "\"Bottle Volume (ml)\": \"bottle_volume\",\n",
    "\"State Bottle Cost\": \"bottle_cost\",\n",
    "\"State Bottle Retail\": \"bottle_retail\",\n",
    "\"Bottles Sold\": \"bottles_sold\",\n",
    "\"Sale (Dollars)\": \"sale_dollars\",\n",
    "\"Volume Sold (Liters)\": \"liters_sold\",\n",
    "\"Volume Sold (Gallons)\": \"gallons_sold\"})"
   ]
  },
  {
   "cell_type": "markdown",
   "id": "b55c5f2e-569c-4cc6-a968-7a0115883d0e",
   "metadata": {},
   "source": [
    "## Parte 1: Selección de los datos\n",
    "\n",
    "En esta parte se utilizará una variación de la rutina de la actividad pasada para construir un subconjunto de trabajo del 0.5% del dataset original (2 millones de datos aproximadamente) utilizando el criterio de estratificación basado en la categoría del producto (`category`) y el vendedor del producto (`vendor_number`)."
   ]
  },
  {
   "cell_type": "code",
   "execution_count": 4,
   "id": "ebf9f085-1ac6-448c-b364-f2966201ffcb",
   "metadata": {},
   "outputs": [
    {
     "name": "stderr",
     "output_type": "stream",
     "text": [
      "                                                                                \r"
     ]
    }
   ],
   "source": [
    "# Variables de caracterización\n",
    "vars_caracterizacion = [\"category\",\"vendor_number\"]\n",
    "\n",
    "# Total de filas para calcular proporciones\n",
    "total = df.count()\n",
    "\n",
    "# Agrupar por combinaciones y contar ocurrencias\n",
    "df_grouped = df.groupBy(vars_caracterizacion).agg(count(\"*\").alias(\"conteo\"))\n",
    "\n",
    "# Calcular probabilidad de cada combinación\n",
    "df_prob = df_grouped.withColumn(\"probabilidad\", col(\"conteo\") / total)\n",
    "\n",
    "# Conteo nos dice cuantas veces se repite una combinacion\n",
    "# Probabilidad indica la probabilidad que hay de que salga dicha combinación\n",
    "# Mostrar ejemplo de combinaciones y sus probabilidades\n",
    "df_prob = df_prob.orderBy(desc(\"probabilidad\"))\n",
    "\n",
    "# Creamos la etiqueta del estrato concatenando el número de categoría y el número de vendedor con un guion de por medio\n",
    "df_estrato = df_prob.select(concat_ws('_',df_prob.category,df_prob.vendor_number).alias(\"estrato\"),\n",
    "                            \"category\", \"vendor_number\", \"conteo\", \"probabilidad\")\n",
    "\n",
    "# Creamos la etiqueta del estrato en el dataset completo\n",
    "# concatenando el número de categoría y el número de vendedor con un guion de por medio\n",
    "df = df.withColumn(\"estrato\", concat_ws('_',df.category,df.vendor_number))\n",
    "\n",
    "# Se define la proporción de la población que se requiere muestrear\n",
    "prop_poblacion = 0.005\n",
    "\n",
    "# Se obtiene el tamaño total de la muestra\n",
    "n = math.ceil(total*prop_poblacion)\n",
    "\n",
    "# Se obtiene una columna con el tamaño de muestra requerido de cada estrato\n",
    "df_estrato = df_estrato.withColumn(\"muestra\", col(\"probabilidad\") * n)\n",
    "df_estrato = df_estrato.withColumn(\"tamanio_muestra\", ceil(\"muestra\"))\n",
    "df_estrato = df_estrato.withColumn(\"proporcion_estrato\", col(\"tamanio_muestra\")/col(\"conteo\"))\n",
    "\n",
    "# Se convierte el spark DataFrame en Pandas dataframe para extraer la proporción por estratos a muestrear\n",
    "pandas_estratos = df_estrato.toPandas()\n",
    "\n",
    "# Se construye un diccionario con la proporción a muestrear requerida en cada estrato\n",
    "proporciones = pandas_estratos.set_index('estrato')['proporcion_estrato'].to_dict()\n",
    "\n",
    "# RESULTADO FINAL\n",
    "# Se obtiene la muestra por cada estrato del tamaño adecuado\n",
    "muestra_df = df.sampleBy(col = \"estrato\", fractions = proporciones, seed = 5)\n",
    "\n",
    "# Se obtiene el tamaño total del dataset\n",
    "n_dataset = muestra_df.count()"
   ]
  },
  {
   "cell_type": "markdown",
   "id": "392233fc-c906-46be-bd9c-c9c135b0b7da",
   "metadata": {},
   "source": [
    "Después del proceso de muestreo estratificado, el número de observaciones en el dataset de trabajo es"
   ]
  },
  {
   "cell_type": "code",
   "execution_count": 5,
   "id": "7a5f0dd4-b715-4af8-8056-50d8014f330b",
   "metadata": {},
   "outputs": [
    {
     "data": {
      "text/plain": [
       "132264"
      ]
     },
     "execution_count": 5,
     "metadata": {},
     "output_type": "execute_result"
    }
   ],
   "source": [
    "n_dataset"
   ]
  },
  {
   "cell_type": "markdown",
   "id": "a02bd046-3685-4e2b-903b-6b42c3cc5352",
   "metadata": {},
   "source": [
    "A continuación se muestra un breve extracto del dataset de trabajo para esta actividad"
   ]
  },
  {
   "cell_type": "code",
   "execution_count": 6,
   "id": "61ad6965-38e9-4773-a1d0-f10e6d9115e5",
   "metadata": {},
   "outputs": [
    {
     "name": "stdout",
     "output_type": "stream",
     "text": [
      "+--------------+----------+------------+--------------------+---------------+----------+--------+--------------------+-------------+---------+--------+-----------------+-------------+---------------+-----------+--------------------+----+-------------+-----------+-------------+------------+------------+-----------+------------+-----------+\n",
      "|invoice_number|      date|store_number|          store_name|        address|      city|zip_code|      store_location|county_number|   county|category|    category_name|vendor_number|    vendor_name|item_number|    item_description|pack|bottle_volume|bottle_cost|bottle_retail|bottles_sold|sale_dollars|liters_sold|gallons_sold|    estrato|\n",
      "+--------------+----------+------------+--------------------+---------------+----------+--------+--------------------+-------------+---------+--------+-----------------+-------------+---------------+-----------+--------------------+----+-------------+-----------+-------------+------------+------------+-----------+------------+-----------+\n",
      "|  S08652500061|10/30/2012|        3907|SMOKIN' JOE'S #16...|  1504 PARK AVE| MUSCATINE|   52761|POINT (-91.030569...|           70|MUSCATINE| 1081315|CINNAMON SCHNAPPS|           65|JIM BEAM BRANDS|      71441|AFTER SHOCK CINNA...|  12|          500|      15.83|        23.74|           1|       23.74|        0.5|        0.13| 1081315_65|\n",
      "|  S04041700032|02/13/2012|        2132|    SPIRITS AND SUCH|      100 E ELM|WEST UNION|   52175|POINT (-91.807891...|           33|  FAYETTE| 1031200|   VODKA FLAVORED|          260|DIAGEO AMERICAS|      41806|SMIRNOFF VANILLA ...|  12|          750|       7.96|        11.94|           2|       23.88|        1.5|         0.4|1031200_260|\n",
      "|  S16207600002|12/11/2013|        3696|WAL-MART 1723 / D...|5101 SE 14TH ST|DES MOINES|   50315|                NULL|           77|     POLK| 1022100|          TEQUILA|          395|        PROXIMO|      89196|JOSE CUERVO ESPEC...|  12|          750|      10.49|        15.73|          12|      188.76|        9.0|        2.38|1022100_395|\n",
      "+--------------+----------+------------+--------------------+---------------+----------+--------+--------------------+-------------+---------+--------+-----------------+-------------+---------------+-----------+--------------------+----+-------------+-----------+-------------+------------+------------+-----------+------------+-----------+\n",
      "only showing top 3 rows\n",
      "\n"
     ]
    }
   ],
   "source": [
    "muestra_df.show(3)"
   ]
  },
  {
   "cell_type": "code",
   "execution_count": 7,
   "id": "3e818ba3-6e80-4217-b246-35e91ccd55bb",
   "metadata": {},
   "outputs": [],
   "source": [
    "# Le generamos un id a cada observación (renglón)\n",
    "muestra_df = muestra_df.withColumn('id', monotonically_increasing_id())"
   ]
  },
  {
   "cell_type": "markdown",
   "id": "699c92dc-e8ef-484b-9735-8b2485809d3f",
   "metadata": {},
   "source": [
    "Adicionalmente, se seleccionará como variable objetivo para aprendizaje supervisado al precio del producto (`sale_dolars`) y como variables explicativas al volumen de la botella (`bottle_volumen`), el costo de la botella (`bottle_cost`), el número de botellas vendidas (`bottles_sold`), litros vendidos (`liters_sold`) como numéricas y a la categoría del producto (`category`) y tipo de empaque (`pack`) como categóricas"
   ]
  },
  {
   "cell_type": "code",
   "execution_count": 8,
   "id": "ba7d4678-30e7-48a7-8036-300b11b61b86",
   "metadata": {},
   "outputs": [],
   "source": [
    "variable_objetivo = \"sale_dollars\"\n",
    "explicativas_numericas = [\"bottle_volume\", \"bottle_cost\", \"bottles_sold\", \"liters_sold\"]\n",
    "explicativas_categoricas = [\"category\", \"pack\"]"
   ]
  },
  {
   "cell_type": "markdown",
   "id": "314aef3e-4071-47d4-a293-4694e7e991fa",
   "metadata": {},
   "source": [
    "## Parte 2: Preparación de los datos\n",
    "\n",
    "En esta sección se completarán valores faltantes, tanto para variables numéricas como para categóricas. Además, las variables categóricas se codificación (one-hot-encoding) para que se pueden utilizar en el modelo de aprendizaje supervisado. También, se escalarán/estandarizarán/normalizará las variables numéricas para tener estabilidad en los algoritmos tanto de aprendizaje supervisado como en los de no supervisado."
   ]
  },
  {
   "cell_type": "code",
   "execution_count": 9,
   "id": "be0b4e2b-b5e8-4c37-ac78-9e855492344d",
   "metadata": {},
   "outputs": [
    {
     "name": "stderr",
     "output_type": "stream",
     "text": [
      "25/06/08 14:01:48 WARN SparkStringUtils: Truncated the string representation of a plan since it was too large. This behavior can be adjusted by setting 'spark.sql.debug.maxToStringFields'.\n"
     ]
    },
    {
     "name": "stdout",
     "output_type": "stream",
     "text": [
      "+--------------+----------+------------+--------------------+-------------+----------+--------+--------------------+-------------+---------+--------+-----------------+-------------+---------------+-----------+--------------------+----+-------------+-----------+-------------+------------+------------+-----------+------------+-----------+---+\n",
      "|invoice_number|      date|store_number|          store_name|      address|      city|zip_code|      store_location|county_number|   county|category|    category_name|vendor_number|    vendor_name|item_number|    item_description|pack|bottle_volume|bottle_cost|bottle_retail|bottles_sold|sale_dollars|liters_sold|gallons_sold|    estrato| id|\n",
      "+--------------+----------+------------+--------------------+-------------+----------+--------+--------------------+-------------+---------+--------+-----------------+-------------+---------------+-----------+--------------------+----+-------------+-----------+-------------+------------+------------+-----------+------------+-----------+---+\n",
      "|  S08652500061|10/30/2012|        3907|SMOKIN' JOE'S #16...|1504 PARK AVE| MUSCATINE|   52761|POINT (-91.030569...|           70|MUSCATINE| 1081315|CINNAMON SCHNAPPS|           65|JIM BEAM BRANDS|      71441|AFTER SHOCK CINNA...|  12|          500|      15.83|        23.74|           1|       23.74|        0.5|        0.13| 1081315_65|  0|\n",
      "|  S04041700032|02/13/2012|        2132|    SPIRITS AND SUCH|    100 E ELM|WEST UNION|   52175|POINT (-91.807891...|           33|  FAYETTE| 1031200|   VODKA FLAVORED|          260|DIAGEO AMERICAS|      41806|SMIRNOFF VANILLA ...|  12|          750|       7.96|        11.94|           2|       23.88|        1.5|         0.4|1031200_260|  1|\n",
      "+--------------+----------+------------+--------------------+-------------+----------+--------+--------------------+-------------+---------+--------+-----------------+-------------+---------------+-----------+--------------------+----+-------------+-----------+-------------+------------+------------+-----------+------------+-----------+---+\n",
      "only showing top 2 rows\n",
      "\n"
     ]
    }
   ],
   "source": [
    "# Corrección de datos faltantes para variables categóricas\n",
    "## Se calcula la moda para las varaibles categóricas\n",
    "mode_category1 = muestra_df.groupBy(\"category\").agg(count(\"*\").alias(\"count\")).orderBy(col(\"count\").desc()).first()[\"category\"]\n",
    "mode_category2 = muestra_df.groupBy(\"pack\").agg(count(\"*\").alias(\"count\")).orderBy(col(\"count\").desc()).first()[\"pack\"]\n",
    "\n",
    "## Se completan los datos faltantes de las variables categóricas con las modas\n",
    "muestra_df = muestra_df.withColumn(\"category\", when(col(\"category\").isNull(), mode_category1).otherwise(col(\"category\")))\n",
    "muestra_df = muestra_df.withColumn(\"pack\", when(col(\"pack\").isNull(), mode_category2).otherwise(col(\"pack\")))\n",
    "\n",
    "muestra_df.show(2)"
   ]
  },
  {
   "cell_type": "code",
   "execution_count": 10,
   "id": "c11786d4-3163-4286-bc14-1c9a0527a893",
   "metadata": {},
   "outputs": [
    {
     "name": "stderr",
     "output_type": "stream",
     "text": [
      "                                                                                \r"
     ]
    }
   ],
   "source": [
    "# Se completan los datos numéricos faltantes\n",
    "imputer = Imputer(inputCols = explicativas_numericas,\n",
    "                  outputCols = explicativas_numericas)\n",
    "\n",
    "imputer = imputer.fit(muestra_df)\n",
    "\n",
    "muestra_df = imputer.transform(muestra_df)"
   ]
  },
  {
   "cell_type": "code",
   "execution_count": 11,
   "id": "7912f3ac-c633-4063-b849-51f45c976346",
   "metadata": {},
   "outputs": [],
   "source": [
    "# Generamos el objeto con las variables explicativas numéricas\n",
    "vector_assembler_numerico = VectorAssembler(inputCols = explicativas_numericas,\n",
    "                                            outputCol = 'explicativas_numericas_vector')\n",
    "\n",
    "muestra_df = vector_assembler_numerico.transform(muestra_df)"
   ]
  },
  {
   "cell_type": "code",
   "execution_count": 12,
   "id": "5dbfafa3-e1fd-450d-9063-e8c70607e644",
   "metadata": {},
   "outputs": [
    {
     "name": "stderr",
     "output_type": "stream",
     "text": [
      "                                                                                \r"
     ]
    },
    {
     "name": "stdout",
     "output_type": "stream",
     "text": [
      "+--------------+----------+------------+--------------------+-------------+----------+--------+--------------------+-------------+---------+--------+-----------------+-------------+---------------+-----------+--------------------+----+-------------+-----------+-------------+------------+------------+-----------+------------+-----------+---+-----------------------------+--------------+----------+----------------------+------------------+-------------------------------+\n",
      "|invoice_number|      date|store_number|          store_name|      address|      city|zip_code|      store_location|county_number|   county|category|    category_name|vendor_number|    vendor_name|item_number|    item_description|pack|bottle_volume|bottle_cost|bottle_retail|bottles_sold|sale_dollars|liters_sold|gallons_sold|    estrato| id|explicativas_numericas_vector|category_index|pack_index|category_index_encoded|pack_index_encoded|explicativas_categoricas_vector|\n",
      "+--------------+----------+------------+--------------------+-------------+----------+--------+--------------------+-------------+---------+--------+-----------------+-------------+---------------+-----------+--------------------+----+-------------+-----------+-------------+------------+------------+-----------+------------+-----------+---+-----------------------------+--------------+----------+----------------------+------------------+-------------------------------+\n",
      "|  S08652500061|10/30/2012|        3907|SMOKIN' JOE'S #16...|1504 PARK AVE| MUSCATINE|   52761|POINT (-91.030569...|           70|MUSCATINE| 1081315|CINNAMON SCHNAPPS|           65|JIM BEAM BRANDS|      71441|AFTER SHOCK CINNA...|  12|          500|      15.83|        23.74|           1|       23.74|        0.5|        0.13| 1081315_65|  0|         [500.0,15.83,1.0,...|          56.0|       0.0|      (110,[56],[1.0])|    (19,[0],[1.0])|           (129,[56,110],[1....|\n",
      "|  S04041700032|02/13/2012|        2132|    SPIRITS AND SUCH|    100 E ELM|WEST UNION|   52175|POINT (-91.807891...|           33|  FAYETTE| 1031200|   VODKA FLAVORED|          260|DIAGEO AMERICAS|      41806|SMIRNOFF VANILLA ...|  12|          750|       7.96|        11.94|           2|       23.88|        1.5|         0.4|1031200_260|  1|         [750.0,7.96,2.0,1.5]|           3.0|       0.0|       (110,[3],[1.0])|    (19,[0],[1.0])|           (129,[3,110],[1.0...|\n",
      "+--------------+----------+------------+--------------------+-------------+----------+--------+--------------------+-------------+---------+--------+-----------------+-------------+---------------+-----------+--------------------+----+-------------+-----------+-------------+------------+------------+-----------+------------+-----------+---+-----------------------------+--------------+----------+----------------------+------------------+-------------------------------+\n",
      "only showing top 2 rows\n",
      "\n"
     ]
    }
   ],
   "source": [
    "# A las varibles categóricas primero las representaremos mediante un índice único y posteriormente se le aplicará one-hot encoding\n",
    "\n",
    "## Se representa a las categorías de las variables categóricas como índices únicos\n",
    "indexers = [\n",
    "    StringIndexer(inputCol = c, outputCol = \"{0}_index\".format(c))\n",
    "    for c in explicativas_categoricas\n",
    "]\n",
    "\n",
    "## Se aplica one-hot encoding a cada una de las variables categóricas\n",
    "encoders = [\n",
    "    OneHotEncoder(\n",
    "        inputCol = indexer.getOutputCol(),\n",
    "        outputCol = \"{0}_encoded\".format(indexer.getOutputCol())) \n",
    "    for indexer in indexers\n",
    "]\n",
    "\n",
    "## Generamos el objeto con las variables explicativas categóricas\n",
    "assembler = VectorAssembler(\n",
    "    inputCols=[encoder.getOutputCol() for encoder in encoders],\n",
    "    outputCol = \"explicativas_categoricas_vector\"\n",
    ")\n",
    "\n",
    "pipeline = Pipeline(stages = indexers + encoders + [assembler])\n",
    "pipeline = pipeline.fit(muestra_df)\n",
    "\n",
    "muestra_df = pipeline.transform(muestra_df)\n",
    "\n",
    "muestra_df.show(2)"
   ]
  },
  {
   "cell_type": "markdown",
   "id": "782fbb77-1c8a-4c06-a425-296c4f2e03ff",
   "metadata": {},
   "source": [
    "## Parte 3. Preparación del conjunto de entrenamiento y prueba\n",
    "\n",
    "Se aplicará la misma lógica de muestreo estratificado para hacer la construcción de los conjuntos de entrenamiento (`train`) y de prueba (`test`) del 70% y 30%, respectivamente."
   ]
  },
  {
   "cell_type": "code",
   "execution_count": 13,
   "id": "900631fd-88b7-4f7a-9ba7-e664c751a7da",
   "metadata": {},
   "outputs": [
    {
     "name": "stderr",
     "output_type": "stream",
     "text": [
      "                                                                                \r"
     ]
    }
   ],
   "source": [
    "## Para crear la muestra de entrenamiento y prueba\n",
    "\n",
    "## Se definen las proporciones para el muestreo estratificado\n",
    "df_conteo_train = muestra_df.groupBy(\"estrato\").agg(count(\"*\").alias(\"conteo\"))\n",
    "df_estrato_train = df_estrato.select(\"estrato\", \"probabilidad\")\n",
    "df_estrato_train = df_estrato_train.join(df_conteo_train, ['estrato'], \"inner\")\n",
    "\n",
    "## Se especifica el tamaño del conjunto de entrenamiento (70%)\n",
    "n_train = math.ceil(0.7 * n_dataset)\n",
    "\n",
    "## Se obtiene una columna con el tamaño de muestra requerido de cada estrato en la muestra de entrenamiento\n",
    "df_estrato_train = df_estrato_train.withColumn(\"muestra_train\", col(\"probabilidad\") * n_train)\n",
    "df_estrato_train = df_estrato_train.withColumn(\"tamanio_muestra_train\", floor(\"muestra_train\"))\n",
    "df_estrato_train = df_estrato_train.withColumn(\"prop_estrato_train\", col(\"tamanio_muestra_train\")/col(\"conteo\"))\n",
    "\n",
    "# Se convierte el spark DataFrame en Pandas dataframe para extraer la proporción por estratos a muestrear\n",
    "pandas_estratos_train = df_estrato_train.toPandas()\n",
    "pandas_estratos_train[\"prop_estrato_train\"] = pandas_estratos_train[\"prop_estrato_train\"].clip(upper=1.)\n",
    "\n",
    "# Se construye un diccionario con la proporción a muestrear requerida en cada estrato en la muestra de entrenamiento\n",
    "proporciones_train = pandas_estratos_train.set_index('estrato')['prop_estrato_train'].to_dict()\n",
    "\n",
    "# Se obtiene el conjunto de entrenamiento con el tamaño para cada estrato del tamaño adecuado\n",
    "train = muestra_df.sampleBy(col = \"estrato\", fractions = proporciones_train, seed = 5)\n",
    "num_train = train.count()\n",
    "\n",
    "# Se obtiene el conjunto de prueba como todo lo que está en el dataset de trabajo pero NO en el conjunto de entrenamiento\n",
    "test = muestra_df.join(train, ['id'], \"leftanti\")\n",
    "num_test = test.count()"
   ]
  },
  {
   "cell_type": "markdown",
   "id": "8eb11c3c-55fd-46ed-978e-7275ca280e1f",
   "metadata": {},
   "source": [
    "El tamaño de los dataset de trabajo, entrenamiento y prueba, respectivamente son:"
   ]
  },
  {
   "cell_type": "code",
   "execution_count": 14,
   "id": "3e6c2a10-5204-4b8c-a3d8-2d0a056fc0a5",
   "metadata": {},
   "outputs": [
    {
     "name": "stdout",
     "output_type": "stream",
     "text": [
      "132264\n",
      "91679\n",
      "40585\n"
     ]
    }
   ],
   "source": [
    "print(n_dataset)\n",
    "print(num_train)\n",
    "print(num_test)"
   ]
  },
  {
   "cell_type": "code",
   "execution_count": 15,
   "id": "3ca3ef6b-1af6-49f7-8aa3-5857e011e577",
   "metadata": {},
   "outputs": [
    {
     "name": "stderr",
     "output_type": "stream",
     "text": [
      "[Stage 55:======================================================> (47 + 1) / 48]\r"
     ]
    },
    {
     "name": "stdout",
     "output_type": "stream",
     "text": [
      "+----+--------------+----------+------------+--------------------+-----------------+----------+--------+--------------------+-------------+---------+--------+------------------+-------------+--------------------+-----------+--------------------+----+-------------+-----------+-------------+------------+------------+-----------+------------+-----------+-----------------------------+--------------+----------+----------------------+------------------+-------------------------------+\n",
      "|  id|invoice_number|      date|store_number|          store_name|          address|      city|zip_code|      store_location|county_number|   county|category|     category_name|vendor_number|         vendor_name|item_number|    item_description|pack|bottle_volume|bottle_cost|bottle_retail|bottles_sold|sale_dollars|liters_sold|gallons_sold|    estrato|explicativas_numericas_vector|category_index|pack_index|category_index_encoded|pack_index_encoded|explicativas_categoricas_vector|\n",
      "+----+--------------+----------+------------+--------------------+-----------------+----------+--------+--------------------+-------------+---------+--------+------------------+-------------+--------------------+-----------+--------------------+----+-------------+-----------+-------------+------------+------------+-----------+------------+-----------+-----------------------------+--------------+----------+----------------------+------------------+-------------------------------+\n",
      "|  26|  S24659500025|03/23/2015|        4641|KUM & GO #573 / S...|  5830 SE 14TH ST|DES MOINES|   50315|                NULL|           77|     POLK| 1022100|           TEQUILA|          410|THE PATRON SPIRIT...|      88294|PATRON SILVER TEQ...|  12|          375|       14.0|         21.0|           3|        63.0|       1.12|         0.3|1022100_410|         [375.0,14.0,3.0,1...|           7.0|       0.0|       (110,[7],[1.0])|    (19,[0],[1.0])|           (129,[7,110],[1.0...|\n",
      "| 474|  S07506900016|09/04/2012|        3920|SMOKIN' JOE'S #11...|1606 CAMANCHE AVE|   CLINTON|   52732|POINT (-90.204748...|           23|  CLINTON| 1062310|        SPICED RUM|          260|     DIAGEO AMERICAS|      43334|CAPTAIN MORGAN SP...|  24|          375|        4.5|         6.74|           8|       53.92|        3.0|        0.79|1062310_260|          [375.0,4.5,8.0,3.0]|          16.0|       2.0|      (110,[16],[1.0])|    (19,[2],[1.0])|           (129,[16,112],[1....|\n",
      "|1806|  S22687400039|12/02/2014|        3704|CELTICS BEVERAGE ...|    1122 BROADWAY|EMMETSBURG|   50536|POINT (-94.678807...|           74|PALO ALTO| 1071100|AMERICAN COCKTAILS|          395|             PROXIMO|      58868|JOSE CUERVO AUTHE...|   6|         1750|        8.2|         12.3|           1|        12.3|       1.75|        0.46|1071100_395|         [1750.0,8.2,1.0,1...|          10.0|       1.0|      (110,[10],[1.0])|    (19,[1],[1.0])|           (129,[10,111],[1....|\n",
      "+----+--------------+----------+------------+--------------------+-----------------+----------+--------+--------------------+-------------+---------+--------+------------------+-------------+--------------------+-----------+--------------------+----+-------------+-----------+-------------+------------+------------+-----------+------------+-----------+-----------------------------+--------------+----------+----------------------+------------------+-------------------------------+\n",
      "only showing top 3 rows\n",
      "\n"
     ]
    },
    {
     "name": "stderr",
     "output_type": "stream",
     "text": [
      "                                                                                \r"
     ]
    }
   ],
   "source": [
    "# Se muestra un extracto del dataset de prueba\n",
    "test.show(3)"
   ]
  },
  {
   "cell_type": "code",
   "execution_count": 16,
   "id": "df120504-dfa2-4c41-86ca-17714e4279fe",
   "metadata": {
    "scrolled": true
   },
   "outputs": [
    {
     "name": "stdout",
     "output_type": "stream",
     "text": [
      "+--------------+----------+------------+--------------------+-------------------+-----------+--------+--------------------+-------------+----------+--------+-----------------+-------------+--------------------+-----------+--------------------+----+-------------+-----------+-------------+------------+------------+-----------+------------+-----------+---+-----------------------------+--------------+----------+----------------------+------------------+-------------------------------+\n",
      "|invoice_number|      date|store_number|          store_name|            address|       city|zip_code|      store_location|county_number|    county|category|    category_name|vendor_number|         vendor_name|item_number|    item_description|pack|bottle_volume|bottle_cost|bottle_retail|bottles_sold|sale_dollars|liters_sold|gallons_sold|    estrato| id|explicativas_numericas_vector|category_index|pack_index|category_index_encoded|pack_index_encoded|explicativas_categoricas_vector|\n",
      "+--------------+----------+------------+--------------------+-------------------+-----------+--------+--------------------+-------------+----------+--------+-----------------+-------------+--------------------+-----------+--------------------+----+-------------+-----------+-------------+------------+------------+-----------+------------+-----------+---+-----------------------------+--------------+----------+----------------------+------------------+-------------------------------+\n",
      "|  S08652500061|10/30/2012|        3907|SMOKIN' JOE'S #16...|      1504 PARK AVE|  MUSCATINE|   52761|POINT (-91.030569...|           70| MUSCATINE| 1081315|CINNAMON SCHNAPPS|           65|     JIM BEAM BRANDS|      71441|AFTER SHOCK CINNA...|  12|          500|      15.83|        23.74|           1|       23.74|        0.5|        0.13| 1081315_65|  0|         [500.0,15.83,1.0,...|          56.0|       0.0|      (110,[56],[1.0])|    (19,[0],[1.0])|           (129,[56,110],[1....|\n",
      "|  S04041700032|02/13/2012|        2132|    SPIRITS AND SUCH|          100 E ELM| WEST UNION|   52175|POINT (-91.807891...|           33|   FAYETTE| 1031200|   VODKA FLAVORED|          260|     DIAGEO AMERICAS|      41806|SMIRNOFF VANILLA ...|  12|          750|       7.96|        11.94|           2|       23.88|        1.5|         0.4|1031200_260|  1|         [750.0,7.96,2.0,1.5]|           3.0|       0.0|       (110,[3],[1.0])|    (19,[0],[1.0])|           (129,[3,110],[1.0...|\n",
      "|  S15997300078|12/05/2013|        3769|WAL-MART 0753 / C...|525 BRANDILYNN BLVD|CEDAR FALLS|   50613|POINT (-92.440394...|            7|BLACK HAWK| 1031200|   VODKA FLAVORED|          380|PHILLIPS BEVERAGE...|      41989|       UV CAKE VODKA|  12|          750|       6.25|         9.49|          12|      113.88|        9.0|        2.38|1031200_380|  3|         [750.0,6.25,12.0,...|           3.0|       0.0|       (110,[3],[1.0])|    (19,[0],[1.0])|           (129,[3,110],[1.0...|\n",
      "+--------------+----------+------------+--------------------+-------------------+-----------+--------+--------------------+-------------+----------+--------+-----------------+-------------+--------------------+-----------+--------------------+----+-------------+-----------+-------------+------------+------------+-----------+------------+-----------+---+-----------------------------+--------------+----------+----------------------+------------------+-------------------------------+\n",
      "only showing top 3 rows\n",
      "\n"
     ]
    }
   ],
   "source": [
    "# Se muestra un extracto del dataset de entrenamiento\n",
    "train.show(3)"
   ]
  },
  {
   "cell_type": "code",
   "execution_count": 17,
   "id": "b23e715e-5aea-4356-b1a4-2345c87dcfc6",
   "metadata": {},
   "outputs": [
    {
     "name": "stderr",
     "output_type": "stream",
     "text": [
      "                                                                                \r"
     ]
    }
   ],
   "source": [
    "# Estandarizamos las variables numéricas para quitar el efecto de la escala de las variables originales\n",
    "scaler = StandardScaler(inputCol = 'explicativas_numericas_vector',\n",
    "                        outputCol= 'explicativas_numericas_vector_escaladas',\n",
    "                        withStd=True, withMean=True)\n",
    "\n",
    "scaler = scaler.fit(train)\n",
    "train = scaler.transform(train)\n",
    "test = scaler.transform(test)\n",
    "\n",
    "# Juntamos las variables explicativas categóricas como las varables explicativas numéricas\n",
    "assembler = VectorAssembler(inputCols = ['explicativas_numericas_vector_escaladas', 'explicativas_categoricas_vector'],\n",
    "                            outputCol = 'explicativas_final_vector')\n",
    "\n",
    "train = assembler.transform(train)\n",
    "test = assembler.transform(test)"
   ]
  },
  {
   "cell_type": "code",
   "execution_count": 18,
   "id": "1ca1c217-31e6-4529-9432-c3247c12f7c5",
   "metadata": {},
   "outputs": [
    {
     "name": "stdout",
     "output_type": "stream",
     "text": [
      "+--------------+----------+------------+--------------------+-------------+----------+--------+--------------------+-------------+---------+--------+-----------------+-------------+---------------+-----------+--------------------+----+-------------+-----------+-------------+------------+------------+-----------+------------+-----------+---+-----------------------------+--------------+----------+----------------------+------------------+-------------------------------+---------------------------------------+-------------------------+\n",
      "|invoice_number|      date|store_number|          store_name|      address|      city|zip_code|      store_location|county_number|   county|category|    category_name|vendor_number|    vendor_name|item_number|    item_description|pack|bottle_volume|bottle_cost|bottle_retail|bottles_sold|sale_dollars|liters_sold|gallons_sold|    estrato| id|explicativas_numericas_vector|category_index|pack_index|category_index_encoded|pack_index_encoded|explicativas_categoricas_vector|explicativas_numericas_vector_escaladas|explicativas_final_vector|\n",
      "+--------------+----------+------------+--------------------+-------------+----------+--------+--------------------+-------------+---------+--------+-----------------+-------------+---------------+-----------+--------------------+----+-------------+-----------+-------------+------------+------------+-----------+------------+-----------+---+-----------------------------+--------------+----------+----------------------+------------------+-------------------------------+---------------------------------------+-------------------------+\n",
      "|  S08652500061|10/30/2012|        3907|SMOKIN' JOE'S #16...|1504 PARK AVE| MUSCATINE|   52761|POINT (-91.030569...|           70|MUSCATINE| 1081315|CINNAMON SCHNAPPS|           65|JIM BEAM BRANDS|      71441|AFTER SHOCK CINNA...|  12|          500|      15.83|        23.74|           1|       23.74|        0.5|        0.13| 1081315_65|  0|         [500.0,15.83,1.0,...|          56.0|       0.0|      (110,[56],[1.0])|    (19,[0],[1.0])|           (129,[56,110],[1....|                   [-0.7634806844106...|     (133,[0,1,2,3,60,...|\n",
      "|  S04041700032|02/13/2012|        2132|    SPIRITS AND SUCH|    100 E ELM|WEST UNION|   52175|POINT (-91.807891...|           33|  FAYETTE| 1031200|   VODKA FLAVORED|          260|DIAGEO AMERICAS|      41806|SMIRNOFF VANILLA ...|  12|          750|       7.96|        11.94|           2|       23.88|        1.5|         0.4|1031200_260|  1|         [750.0,7.96,2.0,1.5]|           3.0|       0.0|       (110,[3],[1.0])|    (19,[0],[1.0])|           (129,[3,110],[1.0...|                   [-0.2713100889371...|     (133,[0,1,2,3,7,1...|\n",
      "+--------------+----------+------------+--------------------+-------------+----------+--------+--------------------+-------------+---------+--------+-----------------+-------------+---------------+-----------+--------------------+----+-------------+-----------+-------------+------------+------------+-----------+------------+-----------+---+-----------------------------+--------------+----------+----------------------+------------------+-------------------------------+---------------------------------------+-------------------------+\n",
      "only showing top 2 rows\n",
      "\n"
     ]
    }
   ],
   "source": [
    "# Se muestra un extracto del dataset de entrenamiento\n",
    "train.show(2)"
   ]
  },
  {
   "cell_type": "markdown",
   "id": "02a6bc8d-7bb2-4144-b8b7-8486b673148f",
   "metadata": {},
   "source": [
    "## Parte 5. Construcción de modelos de aprendizaje supervisado y no supervisado\n",
    "### Aprendizaje supervisado - Random forest\n",
    "\n",
    "En esta actividad, el algoritmo de aprendizaje supervisado que se utilizará es un random forest"
   ]
  },
  {
   "cell_type": "code",
   "execution_count": 19,
   "id": "8697fbd8-5eb5-4290-9c7f-022f336be793",
   "metadata": {},
   "outputs": [
    {
     "name": "stderr",
     "output_type": "stream",
     "text": [
      "                                                                                \r"
     ]
    }
   ],
   "source": [
    "# Se define el objeto modelo random forest para variable objetivo numérica (i.e. un problema de regresión)\n",
    "random_forest_reg = RandomForestRegressor(featuresCol = 'explicativas_final_vector', labelCol = variable_objetivo)\n",
    "\n",
    "# Se ajusta el modelo a partir de los datos de entrenamiento\n",
    "modelo = random_forest_reg.fit(train)\n",
    "\n",
    "# Se obtienen las estimaciones a partir de modelo tanto en los datasets de entrenamiento como de prueba\n",
    "pred_train = modelo.transform(train)\n",
    "pred_test = modelo.transform(test)"
   ]
  },
  {
   "cell_type": "code",
   "execution_count": 20,
   "id": "17861d3b-3161-42cf-876f-a1ae7aff8f9e",
   "metadata": {},
   "outputs": [
    {
     "name": "stderr",
     "output_type": "stream",
     "text": [
      "                                                                                \r"
     ]
    },
    {
     "name": "stdout",
     "output_type": "stream",
     "text": [
      "+----+--------------+----------+------------+--------------------+-----------------+----------+--------+--------------------+-------------+---------+--------+------------------+-------------+--------------------+-----------+--------------------+----+-------------+-----------+-------------+------------+------------+-----------+------------+-----------+-----------------------------+--------------+----------+----------------------+------------------+-------------------------------+---------------------------------------+-------------------------+-----------------+\n",
      "|  id|invoice_number|      date|store_number|          store_name|          address|      city|zip_code|      store_location|county_number|   county|category|     category_name|vendor_number|         vendor_name|item_number|    item_description|pack|bottle_volume|bottle_cost|bottle_retail|bottles_sold|sale_dollars|liters_sold|gallons_sold|    estrato|explicativas_numericas_vector|category_index|pack_index|category_index_encoded|pack_index_encoded|explicativas_categoricas_vector|explicativas_numericas_vector_escaladas|explicativas_final_vector|       prediction|\n",
      "+----+--------------+----------+------------+--------------------+-----------------+----------+--------+--------------------+-------------+---------+--------+------------------+-------------+--------------------+-----------+--------------------+----+-------------+-----------+-------------+------------+------------+-----------+------------+-----------+-----------------------------+--------------+----------+----------------------+------------------+-------------------------------+---------------------------------------+-------------------------+-----------------+\n",
      "|  26|  S24659500025|03/23/2015|        4641|KUM & GO #573 / S...|  5830 SE 14TH ST|DES MOINES|   50315|                NULL|           77|     POLK| 1022100|           TEQUILA|          410|THE PATRON SPIRIT...|      88294|PATRON SILVER TEQ...|  12|          375|       14.0|         21.0|           3|        63.0|       1.12|         0.3|1022100_410|         [375.0,14.0,3.0,1...|           7.0|       0.0|       (110,[7],[1.0])|    (19,[0],[1.0])|           (129,[7,110],[1.0...|                   [-1.0095659821474...|     (133,[0,1,2,3,11,...|66.94145289266763|\n",
      "| 474|  S07506900016|09/04/2012|        3920|SMOKIN' JOE'S #11...|1606 CAMANCHE AVE|   CLINTON|   52732|POINT (-90.204748...|           23|  CLINTON| 1062310|        SPICED RUM|          260|     DIAGEO AMERICAS|      43334|CAPTAIN MORGAN SP...|  24|          375|        4.5|         6.74|           8|       53.92|        3.0|        0.79|1062310_260|          [375.0,4.5,8.0,3.0]|          16.0|       2.0|      (110,[16],[1.0])|    (19,[2],[1.0])|           (129,[16,112],[1....|                   [-1.0095659821474...|     (133,[0,1,2,3,20,...|48.03894456010824|\n",
      "|1806|  S22687400039|12/02/2014|        3704|CELTICS BEVERAGE ...|    1122 BROADWAY|EMMETSBURG|   50536|POINT (-94.678807...|           74|PALO ALTO| 1071100|AMERICAN COCKTAILS|          395|             PROXIMO|      58868|JOSE CUERVO AUTHE...|   6|         1750|        8.2|         12.3|           1|        12.3|       1.75|        0.46|1071100_395|         [1750.0,8.2,1.0,1...|          10.0|       1.0|      (110,[10],[1.0])|    (19,[1],[1.0])|           (129,[10,111],[1....|                   [1.69737229295697...|     (133,[0,1,2,3,14,...|57.17235925602654|\n",
      "+----+--------------+----------+------------+--------------------+-----------------+----------+--------+--------------------+-------------+---------+--------+------------------+-------------+--------------------+-----------+--------------------+----+-------------+-----------+-------------+------------+------------+-----------+------------+-----------+-----------------------------+--------------+----------+----------------------+------------------+-------------------------------+---------------------------------------+-------------------------+-----------------+\n",
      "only showing top 3 rows\n",
      "\n"
     ]
    }
   ],
   "source": [
    "# Se muestra un extracto del dataset con las predicciones en el dataset de prueba\n",
    "pred_test.show(3)"
   ]
  },
  {
   "cell_type": "markdown",
   "id": "9b5e9a3c-4ef9-4ea0-a62c-7bb4fd702703",
   "metadata": {},
   "source": [
    "# Parte 6: Métricas de calidad en aprendizaje supervisado\n",
    "\n",
    "Las métricas de calidad son muy importanres para evaluar el rendimiento de algoritmos de aprendizaje supervisado. La elección de la métrica apropiada depende del tipo de problema y de los objetivos específicos del proyecto.\n",
    "\n",
    "## Métricas para Problemas de Clasificación\n",
    "\n",
    "+ **Exactitud (Accuracy):** La métrica más básica, se calcula como el porcentaje de predicciones correctas sobre el total. Es útil cuando las clases están balanceadas, pero puede ser engañosa con datasets desbalanceados.\n",
    "\n",
    "+ **Precisión (Precision):** Mide la proporción de verdaderos positivos entre todas las predicciones positivas. Es particularmente importante cuando el costo de falsos positivos es alto, como en diagnósticos médicos o detección de spam.\n",
    "\n",
    "+ **Sensibilidad/Recall:** Indica la proporción de verdaderos positivos identificados correctamente del total de casos positivos reales. Es importante cuando no podemos permitirnos perder casos positivos, como en detección de fraudes o enfermedades graves.\n",
    "\n",
    "+ **F1-Score:** Combina precisión y recall en una sola métrica mediante su media armónica. Es especialmente útil cuando se necesita balancear ambos aspectos y cuando las clases están desbalanceadas.\n",
    "\n",
    "+ **Especificidad:** Mide la habilidad del modelo para identificar correctamente los casos negativos. Es importante en aplicaciones donde los falsos positivos tienen consecuencias significativas.\n",
    "\n",
    "+ **Área bajo la curva ROC (AUC-ROC):** Evalúa la habilidad del modelo para distinguir entre clases a través de diferentes umbrales. Un AUC de 0.5 indica rendimiento aleatorio (básicamente el lanzamiento de una moneda), mientras que 1.0 representa clasificación perfecta.\n",
    "\n",
    "+ **Matriz de Confusión:** Proporciona una vista detallada de todos los tipos de errores de clasificación, permitiendo identificar patrones específicos de confusión entre clases.\n",
    "\n",
    "## Métricas para Problemas de Regresión\n",
    "\n",
    "+ **Error Cuadrático Medio (MSE):** Penaliza fuertemente los errores grandes debido al término cuadrático. Es útil cuando queremos evitar predicciones muy alejadas del valor real. $$MSE = \\frac{1}{n} \\sum_{i=1}^{n} (y_i - \\hat{y}_i)^2$$\n",
    "\n",
    "+ **Raíz del Error Cuadrático Medio (RMSE):** :Mantiene las mismas unidades que la variable objetivo, facilitando la interpretación. Es sensible a valores atípicos.\n",
    "\n",
    "+ **Error Absoluto Medio (MAE):** Es menos sensible a outliers que MSE, proporciona una medida directa del error promedio en las mismas unidades que la variable objetivo. $$MAE = \\frac{1}{n} \\sum_{i=1}^{n} |y_i - \\hat{y}_i|$$\n",
    "\n",
    "+ **Coeficiente de Determinación ($R^2$):** Indica qué proporción de la varianza en la variable dependiente es explicada por el modelo. Valores cercanos a 1 indican mejor ajuste.\n",
    "\n",
    "+ **Error Porcentual Absoluto Medio (MAPE):** Expresa el error como porcentaje, facilitando la comparación entre diferentes escalas de datos. $$MAPE = \\frac{1}{n} \\sum_{i=1}^{n} \\left| \\frac{y_i - \\hat{y}_i}{y_i} \\right| \\times 100\\%$$\n",
    "\n",
    "Un mecanismo efectivo de evaluación requiere combinar varias métricas para obtener una visión más completa del rendimiento del modelo, considerando siempre el contexto específico del problema y las necesidades del usuario final.\n",
    "\n",
    "En particular, el problema que se está analizando es de regresión. Por esta razón, se utilizarán como métricas a la **Raíz del Error Cuadrático Medio (RMSE)** y al **Error Absoluto Medio (MAE)**"
   ]
  },
  {
   "cell_type": "code",
   "execution_count": 21,
   "id": "dc3bba3e-ba3f-43ae-93e6-8b9a99d8f7d8",
   "metadata": {},
   "outputs": [
    {
     "name": "stderr",
     "output_type": "stream",
     "text": [
      "                                                                                \r"
     ]
    }
   ],
   "source": [
    "# Se evaluará qué tan bueno es el modelo a partir de la raíz del error cuadrático medio (RMSE)\n",
    "evaluator_rmse = RegressionEvaluator(labelCol = variable_objetivo, predictionCol = \"prediction\", metricName = \"rmse\")\n",
    "rmse_train = evaluator_rmse.evaluate(pred_train)\n",
    "rmse_test = evaluator_rmse.evaluate(pred_test)\n",
    "\n",
    "# Se evaluará qué tan bueno es el modelo a partir del error absoluto medio medio (MAE)\n",
    "evaluator_mae = RegressionEvaluator(labelCol = variable_objetivo, predictionCol = \"prediction\", metricName = \"mae\")\n",
    "mae_train = evaluator_mae.evaluate(pred_train)\n",
    "mae_test = evaluator_mae.evaluate(pred_test)"
   ]
  },
  {
   "cell_type": "markdown",
   "id": "6792f4dd-d54a-4bf1-b82f-ecdc04da82e7",
   "metadata": {},
   "source": [
    "A continuación se muestran los RMSEs sobre los datos de entrenamiento y prueba, respectivamente"
   ]
  },
  {
   "cell_type": "code",
   "execution_count": 22,
   "id": "7bfc36be-e3da-4b0b-a480-54ee2e57b0ee",
   "metadata": {},
   "outputs": [
    {
     "name": "stdout",
     "output_type": "stream",
     "text": [
      "286.33139538605883\n",
      "582.9067273009275\n"
     ]
    }
   ],
   "source": [
    "print(rmse_train)\n",
    "print(rmse_test)"
   ]
  },
  {
   "cell_type": "markdown",
   "id": "54a471ea-85bf-4c8d-a975-334026dfe101",
   "metadata": {},
   "source": [
    "A continuación se muestran los MAEs sobre los datos de entrenamiento y prueba, respectivamente"
   ]
  },
  {
   "cell_type": "code",
   "execution_count": 23,
   "id": "562575d2-5562-4e4a-89fb-ae084207a7d1",
   "metadata": {},
   "outputs": [
    {
     "name": "stdout",
     "output_type": "stream",
     "text": [
      "54.20678215844433\n",
      "69.30989100924789\n"
     ]
    }
   ],
   "source": [
    "print(mae_train)\n",
    "print(mae_test)"
   ]
  },
  {
   "cell_type": "markdown",
   "id": "c505b6a4-91dc-4d6b-8b95-ddb10d6a5eb4",
   "metadata": {},
   "source": [
    "## Elección de hiperparámetros\n",
    "\n",
    "La optimización de hiperparámetros para `RandomForestRegressor` en MLlib de PySpark implica encontrar la combinación óptima de parámetros que proporcione el mejor rendimiento del modelo. Esto se logra utilizando la clase `CrossValidator` junto con un `ParamGridBuilder`.  \n",
    "\n",
    "### Hiperparámetros clave a ajustar:  \n",
    "+ **numTrees (n_estimators)**: El número de árboles de decisión en el bosque. Aumentar este valor puede mejorar la precisión, pero también incrementa el costo computacional.  \n",
    "+ **maxDepth**: La profundidad máxima de cada árbol de decisión. Árboles más profundos pueden capturar patrones más complejos, pero corren el riesgo de sobreajuste (*overfitting*).  \n",
    "+ **maxFeatures**: El número de características a considerar al buscar la mejor división en cada nodo. Puede ser un entero, un flotante (fracción de características) o estrategias específicas como `\"auto\"`, `\"sqrt\"` o `\"log2\"`.  \n",
    "+ **minInstancesPerNode (min_samples_leaf)**: El número mínimo de instancias requeridas en un nodo hoja.  \n",
    "+ **subsamplingRate (bootstrap)**: La fracción de datos de entrenamiento que se muestrea para construir cada árbol.\n",
    "\n",
    "En mi caso particular, sólo consideraré el número de árboles en el bosque (`numTrees`) y la profundidad máxima de cada árbol de decisión (`maxDepth`). Podría inventarme una consideración técnica, pero en realidad es porque mi computadora local tarda mucho tiempo :("
   ]
  },
  {
   "cell_type": "code",
   "execution_count": 36,
   "id": "199b31c9-ecfc-4bb2-82b7-2c86e79342fd",
   "metadata": {},
   "outputs": [
    {
     "name": "stderr",
     "output_type": "stream",
     "text": [
      "25/06/08 15:39:13 WARN DAGScheduler: Broadcasting large task binary with size 1068.5 KiB\n",
      "25/06/08 15:39:16 WARN DAGScheduler: Broadcasting large task binary with size 1423.5 KiB\n",
      "25/06/08 15:39:44 WARN DAGScheduler: Broadcasting large task binary with size 1100.9 KiB\n",
      "25/06/08 15:39:47 WARN DAGScheduler: Broadcasting large task binary with size 1581.4 KiB\n",
      "25/06/08 15:39:52 WARN DAGScheduler: Broadcasting large task binary with size 2.2 MiB\n",
      "25/06/08 15:39:59 WARN DAGScheduler: Broadcasting large task binary with size 3.3 MiB\n",
      "25/06/08 15:43:23 WARN DAGScheduler: Broadcasting large task binary with size 1060.6 KiB\n",
      "25/06/08 15:43:26 WARN DAGScheduler: Broadcasting large task binary with size 1433.3 KiB\n",
      "25/06/08 15:43:52 WARN DAGScheduler: Broadcasting large task binary with size 1077.1 KiB\n",
      "25/06/08 15:43:55 WARN DAGScheduler: Broadcasting large task binary with size 1547.3 KiB\n",
      "25/06/08 15:44:00 WARN DAGScheduler: Broadcasting large task binary with size 2.2 MiB\n",
      "25/06/08 15:44:07 WARN DAGScheduler: Broadcasting large task binary with size 3.2 MiB\n",
      "25/06/08 15:47:27 WARN DAGScheduler: Broadcasting large task binary with size 1018.3 KiB\n",
      "25/06/08 15:47:29 WARN DAGScheduler: Broadcasting large task binary with size 1355.2 KiB\n",
      "25/06/08 15:47:54 WARN DAGScheduler: Broadcasting large task binary with size 1069.4 KiB\n",
      "25/06/08 15:47:57 WARN DAGScheduler: Broadcasting large task binary with size 1536.3 KiB\n",
      "25/06/08 15:48:02 WARN DAGScheduler: Broadcasting large task binary with size 2.2 MiB\n",
      "25/06/08 15:48:09 WARN DAGScheduler: Broadcasting large task binary with size 3.1 MiB\n",
      "25/06/08 15:51:30 WARN DAGScheduler: Broadcasting large task binary with size 1027.6 KiB\n",
      "25/06/08 15:51:33 WARN DAGScheduler: Broadcasting large task binary with size 1393.3 KiB\n",
      "25/06/08 15:51:58 WARN DAGScheduler: Broadcasting large task binary with size 1088.5 KiB\n",
      "25/06/08 15:52:02 WARN DAGScheduler: Broadcasting large task binary with size 1568.2 KiB\n",
      "25/06/08 15:52:07 WARN DAGScheduler: Broadcasting large task binary with size 2.2 MiB\n",
      "25/06/08 15:52:14 WARN DAGScheduler: Broadcasting large task binary with size 3.2 MiB\n",
      "25/06/08 15:55:49 WARN DAGScheduler: Broadcasting large task binary with size 1032.0 KiB\n",
      "25/06/08 15:55:53 WARN DAGScheduler: Broadcasting large task binary with size 1542.7 KiB\n",
      "25/06/08 15:55:59 WARN DAGScheduler: Broadcasting large task binary with size 2.3 MiB\n",
      "25/06/08 15:56:07 WARN DAGScheduler: Broadcasting large task binary with size 3.4 MiB\n",
      "                                                                                \r"
     ]
    }
   ],
   "source": [
    "rf = RandomForestRegressor(featuresCol = 'explicativas_final_vector', labelCol = variable_objetivo)\n",
    "\n",
    "# Se define el grid de hiperparametros\n",
    "paramGrid = ParamGridBuilder().addGrid(rf.numTrees, [10, 30]).addGrid(rf.maxDepth, [5, 10]).build()\n",
    "\n",
    "# Se define un cross-validator\n",
    "cross_validator = CrossValidator(estimator = rf, estimatorParamMaps = paramGrid,\n",
    "                                 evaluator = RegressionEvaluator(labelCol = variable_objetivo, predictionCol = \"prediction\",\n",
    "                                                                 metricName = \"rmse\"),\n",
    "                                 numFolds = 4, seed = 2025)\n",
    "\n",
    "# Se entrena el modelo con los mejores hiperparámetros\n",
    "cv_modelo_rf = cross_validator.fit(train)"
   ]
  },
  {
   "cell_type": "code",
   "execution_count": 37,
   "id": "f8112b9d-abac-47c8-8b63-ce0759866047",
   "metadata": {},
   "outputs": [],
   "source": [
    "# Se puede ver cual fue el mejor modelo\n",
    "mejor_modelo_rf = cv_modelo_rf.bestModel\n",
    "\n",
    "# Las importancias de cada variable del mejor modelo\n",
    "importancias = mejor_modelo_rf.featureImportances"
   ]
  },
  {
   "cell_type": "code",
   "execution_count": 38,
   "id": "aa87ee1e-a870-4c4c-a315-93965d8e4a19",
   "metadata": {},
   "outputs": [
    {
     "data": {
      "text/plain": [
       "SparseVector(133, {0: 0.0344, 1: 0.2034, 2: 0.4412, 3: 0.1858, 4: 0.0051, 5: 0.0031, 6: 0.0036, 7: 0.0006, 8: 0.0014, 9: 0.0023, 10: 0.0002, 11: 0.0003, 12: 0.0002, 13: 0.0018, 14: 0.0041, 15: 0.0089, 16: 0.0, 17: 0.0005, 18: 0.0001, 19: 0.0041, 20: 0.0017, 21: 0.0011, 22: 0.0, 23: 0.0, 24: 0.0089, 25: 0.0003, 26: 0.0004, 27: 0.0002, 28: 0.0, 29: 0.0008, 30: 0.0003, 31: 0.0001, 32: 0.0001, 33: 0.0116, 34: 0.0, 35: 0.0, 36: 0.0, 37: 0.0044, 38: 0.0027, 39: 0.0, 40: 0.0, 41: 0.0001, 42: 0.0, 43: 0.0, 44: 0.0001, 45: 0.001, 46: 0.0, 47: 0.0, 48: 0.0, 49: 0.0006, 50: 0.0, 51: 0.0002, 52: 0.0, 53: 0.0, 54: 0.0, 55: 0.0, 56: 0.0, 59: 0.0041, 62: 0.0, 63: 0.0, 64: 0.0006, 66: 0.0072, 67: 0.0, 68: 0.0, 69: 0.0, 71: 0.0, 73: 0.0, 81: 0.0, 87: 0.0, 91: 0.0, 114: 0.0123, 115: 0.0126, 116: 0.0012, 117: 0.0245, 118: 0.0, 119: 0.0001, 120: 0.0001, 121: 0.0, 122: 0.0, 123: 0.0001, 124: 0.0011, 126: 0.0, 131: 0.0})"
      ]
     },
     "execution_count": 38,
     "metadata": {},
     "output_type": "execute_result"
    }
   ],
   "source": [
    "importancias"
   ]
  },
  {
   "cell_type": "code",
   "execution_count": 39,
   "id": "91ad8e19-6f38-4ce0-bd0c-a7ad83e3f37c",
   "metadata": {},
   "outputs": [
    {
     "name": "stderr",
     "output_type": "stream",
     "text": [
      "                                                                                \r"
     ]
    }
   ],
   "source": [
    "# Se obtienen las estimaciones a partir del mejor modelo tanto en los datasets de entrenamiento como de prueba\n",
    "pred_train = mejor_modelo_rf.transform(train)\n",
    "pred_test = mejor_modelo_rf.transform(test)\n",
    "\n",
    "# Se evaluará qué tan bueno es el modelo a partir de la raíz del error cuadrático medio (RMSE)\n",
    "evaluator_rmse = RegressionEvaluator(labelCol = variable_objetivo, predictionCol = \"prediction\", metricName = \"rmse\")\n",
    "rmse_train = evaluator_rmse.evaluate(pred_train)\n",
    "rmse_test = evaluator_rmse.evaluate(pred_test)\n",
    "\n",
    "# Se evaluará qué tan bueno es el modelo a partir del error absoluto medio medio (MAE)\n",
    "evaluator_mae = RegressionEvaluator(labelCol = variable_objetivo, predictionCol = \"prediction\", metricName = \"mae\")\n",
    "mae_train = evaluator_mae.evaluate(pred_train)\n",
    "mae_test = evaluator_mae.evaluate(pred_test)"
   ]
  },
  {
   "cell_type": "markdown",
   "id": "05a4afc9-1829-488d-b4f7-d1ca3bcb2841",
   "metadata": {},
   "source": [
    "A continuación se muestran los RMSEs sobre los datos de entrenamiento y prueba, respectivamente"
   ]
  },
  {
   "cell_type": "code",
   "execution_count": 28,
   "id": "2144ce71-a638-40f2-a87a-938fe6cc54e0",
   "metadata": {},
   "outputs": [
    {
     "name": "stdout",
     "output_type": "stream",
     "text": [
      "253.41155820629334\n",
      "567.9822236446662\n"
     ]
    }
   ],
   "source": [
    "print(rmse_train)\n",
    "print(rmse_test)"
   ]
  },
  {
   "cell_type": "markdown",
   "id": "b86fa677-005c-4c79-abae-3b03bae92bf9",
   "metadata": {},
   "source": [
    "A continuación se muestran los MAEs sobre los datos de entrenamiento y prueba, respectivamente"
   ]
  },
  {
   "cell_type": "code",
   "execution_count": 29,
   "id": "ecd5f77b-c6ef-4a43-a90d-02d626fbc728",
   "metadata": {},
   "outputs": [
    {
     "name": "stdout",
     "output_type": "stream",
     "text": [
      "24.12664342331264\n",
      "39.23979614627908\n"
     ]
    }
   ],
   "source": [
    "print(mae_train)\n",
    "print(mae_test)"
   ]
  },
  {
   "cell_type": "markdown",
   "id": "f554e504-2c0d-4a11-b6d9-36724ada8275",
   "metadata": {},
   "source": [
    "## Parte 7: Aprendizaje no supervisado - Clustering mediante K means\n",
    "\n",
    "El modelo de aprendizaje no supervisado que se estudiará en esta parte es clustering mediante el algoritmo k-means.\n",
    "\n",
    "### Métricas de calidad\n",
    "\n",
    "Dado que los algoritmos de aprendizaje no supervisado tienen diferentes objetivos, no se puede dar una marco de valuación de su calidad general. Se tiene que considerar el algoritmo no-supervisado en particular. En mi caso, dado que que estoy considerando un problema de clustering, describiré las métricas de calidad para algoritmos de clustering.\n",
    "\n",
    "+ **Coeficiente de Silueta (Silhouette Score):** Mide qué tan bien separados están los clústers y qué tan cohesivos son internamente. Valores cercanos a 1 indican clustering excelente, valores cercanos a 0 sugieren clusters superpuestos, y valores negativos indican asignaciones incorrectas.\n",
    "\n",
    "+ **Índice de Calinski-Harabasz:** También se conoce como *Variance Ratio Criterion*, evalúa la separación entre clústers y la cohesión dentro de cada cluster. Valores altos indican mejor clustering.\n",
    "\n",
    "+ **Índice de Davies-Bouldin:** Mide la similitud promedio entre cada clúster y su clúster más similar. Valores bajos indican mejor separación entre clústers.\n",
    "\n",
    "+ **Inercia (Within-Cluster Sum of Squares - WCSS):** Suma de las distancias cuadráticas de cada punto al centroide de su clúster. Se utiliza generalmente en K-means y en el método del codo para determinar el número óptimo de clusters.\n",
    "\n",
    "+ **Distorsión** Similar a la inercia, pero normalizada por el número de puntos. Útil para comparar clustering con diferentes tamaños de dataset.\n",
    "\n",
    "+ **Índice de Dunn** Relación entre la distancia mínima entre clusters y la máxima distancia dentro de un cluster. Valores más altos indican mejor clustering.\n",
    "\n",
    "### Métricas Implementadas en PySpark\n",
    "\n",
    "+ **Silhouette Score:** Esta es la única métrica interna de clustering formalmente implementada en PySpark a través de la clase `ClusteringEvaluator`. Calcula la medida de silueta utilizando la distancia euclidiana al cuadrado. Los valores van de -1 a 1, donde un valor cercano a 1 significa que los puntos en un clúster están cerca de otros puntos del mismo clúster y lejos de los puntos de otros clusters\n",
    "\n",
    "+ **Inercia/WCSS (Within-Cluster Sum of Squares):** Aunque no existe un evaluador dedicado, se puede calcular la inercia manualmente utilizando las funciones de distancia disponibles en PySpark, especialmente cuando se trabaja con K-means mediante \n",
    "`wssse = kmeans_model.summary.trainingCost`\n",
    "\n",
    "Por esta razón, estan son las dos métricas que se considerarán en nuestra aplicación de aprendizaje no supervisado"
   ]
  },
  {
   "cell_type": "code",
   "execution_count": 31,
   "id": "198ee8dd-90a2-41cb-9399-298f05746651",
   "metadata": {
    "scrolled": true
   },
   "outputs": [
    {
     "name": "stderr",
     "output_type": "stream",
     "text": [
      "                                                                                \r"
     ]
    },
    {
     "name": "stdout",
     "output_type": "stream",
     "text": [
      "WSS Score con k = 3 clusters es 252880.09078036796\n"
     ]
    },
    {
     "name": "stderr",
     "output_type": "stream",
     "text": [
      "                                                                                \r"
     ]
    },
    {
     "name": "stdout",
     "output_type": "stream",
     "text": [
      "Silhouette score con k = 3 clusters es 0.5089501796927813\n"
     ]
    },
    {
     "name": "stderr",
     "output_type": "stream",
     "text": [
      "                                                                                \r"
     ]
    },
    {
     "name": "stdout",
     "output_type": "stream",
     "text": [
      "WSS Score con k = 4 clusters es 173662.71046087772\n"
     ]
    },
    {
     "name": "stderr",
     "output_type": "stream",
     "text": [
      "                                                                                \r"
     ]
    },
    {
     "name": "stdout",
     "output_type": "stream",
     "text": [
      "Silhouette score con k = 4 clusters es 0.6498380260508858\n"
     ]
    },
    {
     "name": "stderr",
     "output_type": "stream",
     "text": [
      "                                                                                \r"
     ]
    },
    {
     "name": "stdout",
     "output_type": "stream",
     "text": [
      "WSS Score con k = 5 clusters es 136868.08106423673\n"
     ]
    },
    {
     "name": "stderr",
     "output_type": "stream",
     "text": [
      "                                                                                \r"
     ]
    },
    {
     "name": "stdout",
     "output_type": "stream",
     "text": [
      "Silhouette score con k = 5 clusters es 0.67658260234564\n"
     ]
    },
    {
     "name": "stderr",
     "output_type": "stream",
     "text": [
      "                                                                                \r"
     ]
    },
    {
     "name": "stdout",
     "output_type": "stream",
     "text": [
      "WSS Score con k = 6 clusters es 118711.33798010973\n"
     ]
    },
    {
     "name": "stderr",
     "output_type": "stream",
     "text": [
      "                                                                                \r"
     ]
    },
    {
     "name": "stdout",
     "output_type": "stream",
     "text": [
      "Silhouette score con k = 6 clusters es 0.6147427308379819\n"
     ]
    }
   ],
   "source": [
    "# Se probarán y evaluarán varios modelos k-means usando como métrica de bondan del modelo al WSS (Within Sum of Squares o inertia)\n",
    "num_clusters = range(3,7)\n",
    "score_wss = []\n",
    "score_sil = []\n",
    "\n",
    "# Se considerarán modelos de 3 hasta 6 clústers y se obtendrán sus WSS y Silhouette Score\n",
    "\n",
    "evaluator = ClusteringEvaluator(predictionCol = 'prediction', featuresCol = 'explicativas_numericas_vector_escaladas',\n",
    "                                metricName = 'silhouette', distanceMeasure = 'squaredEuclidean')\n",
    "\n",
    "for i in num_clusters:\n",
    "    kmeans = KMeans(featuresCol = 'explicativas_numericas_vector_escaladas', k = i)\n",
    "    modelo = kmeans.fit(train)\n",
    "    wss = modelo.summary.trainingCost\n",
    "    print('WSS Score con k =',i,'clusters es',wss)\n",
    "    score_wss.append(wss)\n",
    "    predicciones = modelo.transform(train)\n",
    "    score = evaluator.evaluate(predicciones)\n",
    "    print('Silhouette score con k =',i,'clusters es',score)\n",
    "    score_sil.append(score)"
   ]
  },
  {
   "cell_type": "code",
   "execution_count": 32,
   "id": "e45b30da-1c34-44dc-89a9-0a0b5562c3ba",
   "metadata": {},
   "outputs": [
    {
     "data": {
      "image/png": "[encoded data removed]",
      "text/plain": [
       "<Figure size 640x480 with 1 Axes>"
      ]
     },
     "metadata": {},
     "output_type": "display_data"
    }
   ],
   "source": [
    "# Ahora se graficarán los WSS obtenidos para obtener lo que se conoce como diagrama de codo\n",
    "plt.plot(num_clusters, score_wss)\n",
    "plt.xlabel('k')\n",
    "plt.ylabel('WSS Score')\n",
    "plt.show()"
   ]
  },
  {
   "cell_type": "code",
   "execution_count": 33,
   "id": "c9d9e01e-b870-4b7d-a0fd-1579c273b1ba",
   "metadata": {},
   "outputs": [
    {
     "data": {
      "image/png": "[encoded data removed]",
      "text/plain": [
       "<Figure size 640x480 with 1 Axes>"
      ]
     },
     "metadata": {},
     "output_type": "display_data"
    }
   ],
   "source": [
    "# Ahora se graficarán los silhouette scores obtenidos\n",
    "plt.plot(num_clusters, score_sil)\n",
    "plt.xlabel('k')\n",
    "plt.ylabel('Silhouette score')\n",
    "plt.show()"
   ]
  },
  {
   "cell_type": "code",
   "execution_count": 34,
   "id": "a5bf576e-a9fa-4de0-90d5-54f545b9d09f",
   "metadata": {},
   "outputs": [
    {
     "name": "stderr",
     "output_type": "stream",
     "text": [
      "                                                                                \r"
     ]
    }
   ],
   "source": [
    "# Seleccionamos como número de cluster óptimo al 5 y se vuelve a ejecutar el algoritmo k-means\n",
    "kmeans = KMeans(featuresCol = 'explicativas_numericas_vector_escaladas', k = 5)\n",
    "modelo = kmeans.fit(train)\n",
    "clusters = modelo.transform(train)"
   ]
  },
  {
   "cell_type": "code",
   "execution_count": 35,
   "id": "640e550a-f938-4355-a963-59d799f13727",
   "metadata": {},
   "outputs": [
    {
     "name": "stdout",
     "output_type": "stream",
     "text": [
      "Centros de los clústers: \n",
      "[ 1.74888571  0.1292911  -0.09194889  0.13275135]\n",
      "[ 0.62439778  0.04664255 12.39894453 11.14934415]\n",
      "[-0.46600603 -0.31943738 -0.00591996 -0.07122497]\n",
      "[ 1.45128700e+00 -8.99712893e-03  5.15497914e+01  6.35317018e+01]\n",
      "[-0.02679333  2.00231316 -0.14072514 -0.0828983 ]\n"
     ]
    }
   ],
   "source": [
    "# Finalmente, se obtienene los centroides de cada clúster\n",
    "centros = modelo.clusterCenters()\n",
    "print(\"Centros de los clústers: \")\n",
    "for centro in centros:\n",
    "    print(centro)"
   ]
  },
  {
   "cell_type": "code",
   "execution_count": null,
   "id": "88c7581a-6610-4a6c-9852-9ad20d04c963",
   "metadata": {},
   "outputs": [],
   "source": []
  }
 ],
 "metadata": {
  "kernelspec": {
   "display_name": "Python 3 (ipykernel)",
   "language": "python",
   "name": "python3"
  },
  "language_info": {
   "codemirror_mode": {
    "name": "ipython",
    "version": 3
   },
   "file_extension": ".py",
   "mimetype": "text/x-python",
   "name": "python",
   "nbconvert_exporter": "python",
   "pygments_lexer": "ipython3",
   "version": "3.12.2"
  }
 },
 "nbformat": 4,
 "nbformat_minor": 5
}
