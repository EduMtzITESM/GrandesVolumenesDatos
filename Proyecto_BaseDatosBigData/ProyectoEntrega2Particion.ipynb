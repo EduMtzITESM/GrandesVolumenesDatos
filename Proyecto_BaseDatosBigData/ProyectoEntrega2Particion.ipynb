{
 "cells": [
  {
   "cell_type": "markdown",
   "id": "be442e7b-13bc-4ef5-9aae-8097f481f788",
   "metadata": {},
   "source": [
    "# Análisis de Grandes Volúmenes de Datos\n",
    "## Proyecto BigData PySpark\n",
    "### Evidencia 1 - Particionamiento\n",
    "\n",
    "Integrantes:\n",
    "\n",
    "+ Jorge Barón Bracho - A01422588\n",
    "+ Elda Cristina Morales Sánchez de la Barquera - A00449074\n",
    "+ Eduardo Selim Martínez Mayorga - A01795167\n",
    "+ José Arturo Valdivia Rivera - A01795395"
   ]
  },
  {
   "cell_type": "code",
   "execution_count": 1,
   "id": "0bb0ffc7-960b-43ac-ba6d-55dae69c017f",
   "metadata": {},
   "outputs": [
    {
     "name": "stderr",
     "output_type": "stream",
     "text": [
      "25/05/04 22:25:54 WARN Utils: Your hostname, MacBook-Air-de-Eduardo.local resolves to a loopback address: 127.0.0.1; using 192.168.100.10 instead (on interface en0)\n",
      "25/05/04 22:25:54 WARN Utils: Set SPARK_LOCAL_IP if you need to bind to another address\n",
      "Setting default log level to \"WARN\".\n",
      "To adjust logging level use sc.setLogLevel(newLevel). For SparkR, use setLogLevel(newLevel).\n",
      "25/05/04 22:25:55 WARN NativeCodeLoader: Unable to load native-hadoop library for your platform... using builtin-java classes where applicable\n",
      "25/05/04 22:26:08 WARN GarbageCollectionMetrics: To enable non-built-in garbage collector(s) List(G1 Concurrent GC), users should configure it(them) to spark.eventLog.gcMetrics.youngGenerationGarbageCollectors or spark.eventLog.gcMetrics.oldGenerationGarbageCollectors\n",
      "                                                                                \r"
     ]
    }
   ],
   "source": [
    "#Descargamos las librerias necesarias, iniciamos sesion de Pyspark y cargamos la base de datos\n",
    "from pyspark.sql import SparkSession\n",
    "from pyspark.sql import functions as F\n",
    "from pyspark.sql.functions import countDistinct, count, isnan, when, desc\n",
    "from pyspark.sql.functions import col, expr, mean, stddev, min, max, length, ceil\n",
    "from pyspark.sql.types import StructType, StructField, StringType, DoubleType\n",
    "from pyspark.sql.types import NumericType\n",
    "from pyspark.sql.functions import concat_ws,col\n",
    "import math\n",
    "import pandas as pd\n",
    "\n",
    "spark = SparkSession.builder.appName(\"CSVRead\").getOrCreate()\n",
    "df = spark.read.csv(\"Iowa_Liquor_Sales.csv\", header=True, inferSchema=True)"
   ]
  },
  {
   "cell_type": "code",
   "execution_count": 3,
   "id": "dbf7d451-ffd5-4879-a3f8-922839c13e27",
   "metadata": {},
   "outputs": [],
   "source": [
    "# Cambiamos los nombres de las columnas para facilitar su manejo al programar\n",
    "df = df.withColumnsRenamed({\"Invoice/Item Number\": \"invoice_number\",\n",
    "\"Date\": \"date\",\n",
    "\"Store Number\": \"store_number\",\n",
    "\"Store Name\": \"store_name\",\n",
    "\"Address\": \"address\",\n",
    "\"City\": \"city\",\n",
    "\"Zip Code\": \"zip_code\",\n",
    "\"Store Location\": \"store_location\",\n",
    "\"County Number\": \"county_number\",\n",
    "\"County\": \"county\",\n",
    "\"Category\": \"category\",\n",
    "\"Category Name\": \"category_name\",\n",
    "\"Vendor Number\": \"vendor_number\",\n",
    "\"Vendor Name\": \"vendor_name\",\n",
    "\"Item Number\": \"item_number\",\n",
    "\"Item Description\": \"item_description\",\n",
    "\"Pack\": \"pack\",\n",
    "\"Bottle Volume (ml)\": \"bottle_volume\",\n",
    "\"State Bottle Cost\": \"bottle_cost\",\n",
    "\"State Bottle Retail\": \"bottle_retail\",\n",
    "\"Bottles Sold\": \"bottles_sold\",\n",
    "\"Sale (Dollars)\": \"sale_dollars\",\n",
    "\"Volume Sold (Liters)\": \"liters_sold\",\n",
    "\"Volume Sold (Gallons)\": \"gallons_sold\"})"
   ]
  },
  {
   "cell_type": "code",
   "execution_count": 4,
   "id": "ebf9f085-1ac6-448c-b364-f2966201ffcb",
   "metadata": {},
   "outputs": [
    {
     "name": "stderr",
     "output_type": "stream",
     "text": [
      "                                                                                \r"
     ]
    }
   ],
   "source": [
    "# Variables de caracterización\n",
    "vars_caracterizacion = [\"category\",\"vendor_number\"]\n",
    "\n",
    "# Total de filas para calcular proporciones\n",
    "total = df.count()\n",
    "\n",
    "# Agrupar por combinaciones y contar ocurrencias\n",
    "df_grouped = df.groupBy(vars_caracterizacion).agg(count(\"*\").alias(\"conteo\"))\n",
    "\n",
    "# Calcular probabilidad de cada combinación\n",
    "df_prob = df_grouped.withColumn(\"probabilidad\", col(\"conteo\") / total)\n",
    "# Conteo nos dice cuantas veces se repite una combinacion\n",
    "# Probabilidad mustra la probabilidad que hay de que salga dicha combinación\n",
    "# Mostrar ejemplo de combinaciones y sus probabilidades\n",
    "df_prob = df_prob.orderBy(desc(\"probabilidad\"))"
   ]
  },
  {
   "cell_type": "code",
   "execution_count": 5,
   "id": "1d81acf1-f6f9-49d9-9314-2237f432787f",
   "metadata": {},
   "outputs": [
    {
     "name": "stderr",
     "output_type": "stream",
     "text": [
      "[Stage 5:=======================================================> (47 + 1) / 48]\r"
     ]
    },
    {
     "name": "stdout",
     "output_type": "stream",
     "text": [
      "+--------+-------------+------+--------------------+\n",
      "|category|vendor_number|conteo|        probabilidad|\n",
      "+--------+-------------+------+--------------------+\n",
      "| 1081600|          421|962193|0.036779791532520936|\n",
      "| 1012100|          260|828176| 0.03165699670672834|\n",
      "| 1011200|           65|825949|0.031571869714801644|\n",
      "| 1012100|          115|684958| 0.02618249399915867|\n",
      "| 1062400|          260|449083|0.017166180922953193|\n",
      "+--------+-------------+------+--------------------+\n",
      "only showing top 5 rows\n",
      "\n"
     ]
    },
    {
     "name": "stderr",
     "output_type": "stream",
     "text": [
      "                                                                                \r"
     ]
    }
   ],
   "source": [
    "df_prob.show(5)"
   ]
  },
  {
   "cell_type": "code",
   "execution_count": 6,
   "id": "8dd727e5-08f4-4820-a282-5ddeb650bf48",
   "metadata": {},
   "outputs": [],
   "source": [
    "# Creamos la etiqueta del estrato concatenando el número de categoría y el número de vendedor con un guion de por medio\n",
    "df_estrato = df_prob.select(concat_ws('_',df_prob.category,df_prob.vendor_number).alias(\"estrato\"),\n",
    "                            \"category\", \"vendor_number\", \"conteo\", \"probabilidad\")"
   ]
  },
  {
   "cell_type": "code",
   "execution_count": 7,
   "id": "76f7781d-4660-4c4f-a9fe-11b4ad5eba30",
   "metadata": {},
   "outputs": [
    {
     "name": "stderr",
     "output_type": "stream",
     "text": [
      "[Stage 8:=====================================================>   (45 + 3) / 48]\r"
     ]
    },
    {
     "name": "stdout",
     "output_type": "stream",
     "text": [
      "+-----------+--------+-------------+------+--------------------+\n",
      "|    estrato|category|vendor_number|conteo|        probabilidad|\n",
      "+-----------+--------+-------------+------+--------------------+\n",
      "|1081600_421| 1081600|          421|962193|0.036779791532520936|\n",
      "|1012100_260| 1012100|          260|828176| 0.03165699670672834|\n",
      "| 1011200_65| 1011200|           65|825949|0.031571869714801644|\n",
      "|1012100_115| 1012100|          115|684958| 0.02618249399915867|\n",
      "|1062400_260| 1062400|          260|449083|0.017166180922953193|\n",
      "+-----------+--------+-------------+------+--------------------+\n",
      "only showing top 5 rows\n",
      "\n"
     ]
    },
    {
     "name": "stderr",
     "output_type": "stream",
     "text": [
      "                                                                                \r"
     ]
    }
   ],
   "source": [
    "df_estrato.show(5)"
   ]
  },
  {
   "cell_type": "code",
   "execution_count": 8,
   "id": "ee20a62e-46b6-49f7-9d6b-65907e6ca073",
   "metadata": {},
   "outputs": [],
   "source": [
    "# Creamos la etiqueta del estrato en el dataset completo\n",
    "# concatenando el número de categoría y el número de vendedor con un guion de por medio\n",
    "df = df.withColumn(\"estrato\", concat_ws('_',df.category,df.vendor_number))"
   ]
  },
  {
   "cell_type": "code",
   "execution_count": 9,
   "id": "bb0625e8-f429-4451-8911-b4845378b936",
   "metadata": {},
   "outputs": [
    {
     "name": "stdout",
     "output_type": "stream",
     "text": [
      "+--------------+----------+------------+--------------------+--------------------+----------+--------+--------------------+-------------+-------+--------+--------------------+-------------+--------------------+-----------+--------------------+----+-------------+-----------+-------------+------------+------------+-----------+------------+-----------+\n",
      "|invoice_number|      date|store_number|          store_name|             address|      city|zip_code|      store_location|county_number| county|category|       category_name|vendor_number|         vendor_name|item_number|    item_description|pack|bottle_volume|bottle_cost|bottle_retail|bottles_sold|sale_dollars|liters_sold|gallons_sold|    estrato|\n",
      "+--------------+----------+------------+--------------------+--------------------+----------+--------+--------------------+-------------+-------+--------+--------------------+-------------+--------------------+-----------+--------------------+----+-------------+-----------+-------------+------------+------------+-----------+------------+-----------+\n",
      "|  S05675800010|05/23/2012|        4614|        URBAN LIQUOR|6401 DOUGLAS AVE ...| URBANDALE|   50322|POINT (-93.705732...|           77|   POLK| 1011200|STRAIGHT BOURBON ...|          461|       CAMPARI(SKYY)|      22156|     WILD TURKEY 101|  12|          750|      10.99|        17.24|           1|       17.24|       0.75|         0.2|1011200_461|\n",
      "|  S25173300045|04/20/2015|        2549|HY-VEE FOOD STORE...|     910 N JEFFERSON| INDIANOLA|   50125|                NULL|           91| WARREN| 1081200|      CREAM LIQUEURS|          260|     DIAGEO AMERICAS|      68037|BAILEY'S ORIGINAL...|  12|         1000|      17.25|        25.88|          12|      310.56|       12.0|        3.17|1081200_260|\n",
      "|  S16604600071|12/30/2013|        3990|CORK AND BOTTLE /...|      309 A AVE WEST| OSKALOOSA|   52577|POINT (-92.648153...|           62|MAHASKA| 1081365|TROPICAL FRUIT SC...|           65|     JIM BEAM BRANDS|      82857|DEKUYPER ISLAND P...|  12|         1000|       7.62|        11.43|          12|      137.16|       12.0|        3.17| 1081365_65|\n",
      "|  S13418100067|07/17/2013|        3573|QUIK SHOP FOODS /...|       405 S MADISON|   OTTUMWA|   52501|POINT (-92.410414...|           90|WAPELLO| 1081900|MISC. AMERICAN CO...|           65|     JIM BEAM BRANDS|      73533|         DEKUYPER 03|  12|          750|      12.07|         18.1|           3|        54.3|       2.25|        0.59| 1081900_65|\n",
      "|  S15435000023|10/31/2013|        4057|TEQUILA'S LIQUOR ...|1434 DES MOINES S...|DES MOINES|   50316|POINT (-93.59704 ...|           77|   POLK| 1051010|AMERICAN GRAPE BR...|          115|CONSTELLATION WIN...|      53216|PAUL MASSON GRAND...|  12|          750|       6.29|         9.44|          12|      113.28|        9.0|        2.38|1051010_115|\n",
      "+--------------+----------+------------+--------------------+--------------------+----------+--------+--------------------+-------------+-------+--------+--------------------+-------------+--------------------+-----------+--------------------+----+-------------+-----------+-------------+------------+------------+-----------+------------+-----------+\n",
      "only showing top 5 rows\n",
      "\n"
     ]
    }
   ],
   "source": [
    "df.show(5)"
   ]
  },
  {
   "cell_type": "code",
   "execution_count": 10,
   "id": "fea7ba67-8628-442e-85c1-b1424d1bd9bd",
   "metadata": {},
   "outputs": [],
   "source": [
    "# Se define la proporción de la población que se requiere muestrear\n",
    "prop_poblacion = 0.10\n",
    "# Se obtiene el tamaño total de la muestra\n",
    "n = math.ceil(total*prop_poblacion)"
   ]
  },
  {
   "cell_type": "markdown",
   "id": "eac1896b-6e57-4d97-8a6f-6cf0afd5f1ab",
   "metadata": {},
   "source": [
    "En este caso, el tamaño total de la muestra es de"
   ]
  },
  {
   "cell_type": "code",
   "execution_count": 11,
   "id": "7a5f0dd4-b715-4af8-8056-50d8014f330b",
   "metadata": {},
   "outputs": [
    {
     "data": {
      "text/plain": [
       "2616092"
      ]
     },
     "execution_count": 11,
     "metadata": {},
     "output_type": "execute_result"
    }
   ],
   "source": [
    "n"
   ]
  },
  {
   "cell_type": "markdown",
   "id": "c1163120-a7d1-48d2-b052-7b7dce639c15",
   "metadata": {},
   "source": [
    "El tamaño de la muestra de cada estrato se calcula mediante la expresión\n",
    "\n",
    "$$n_h = \\frac{n\\cdot N_h}{N},$$\n",
    "\n",
    "donde\n",
    "\n",
    "+ $n$ es el tamaño de la muestra total\n",
    "+ $N$ es el tamaño de la población total\n",
    "+ $N_h$ es el tamaño de la población en el estrato $h$\n",
    "+ $n_h$ es el tamaño de la muestra del estrato $h$"
   ]
  },
  {
   "cell_type": "code",
   "execution_count": 12,
   "id": "da17107d-6832-47e2-9f78-d9ab6a8c2981",
   "metadata": {},
   "outputs": [],
   "source": [
    "# Se obtiene una columna con el tamaño de muestra requerido de cada estrato\n",
    "df_estrato = df_estrato.withColumn(\"muestra\", col(\"probabilidad\") * n)\n",
    "df_estrato = df_estrato.withColumn(\"tamanio_muestra\", ceil(\"muestra\"))\n",
    "df_estrato = df_estrato.withColumn(\"proporcion_estrato\", col(\"tamanio_muestra\")/col(\"conteo\"))"
   ]
  },
  {
   "cell_type": "code",
   "execution_count": 13,
   "id": "f7db54db-941f-4f73-9eca-e41906e50bc1",
   "metadata": {},
   "outputs": [
    {
     "name": "stderr",
     "output_type": "stream",
     "text": [
      "                                                                                \r"
     ]
    },
    {
     "name": "stdout",
     "output_type": "stream",
     "text": [
      "+-----------+--------+-------------+------+--------------------+-----------------+---------------+-------------------+\n",
      "|    estrato|category|vendor_number|conteo|        probabilidad|          muestra|tamanio_muestra| proporcion_estrato|\n",
      "+-----------+--------+-------------+------+--------------------+-----------------+---------------+-------------------+\n",
      "|1081600_421| 1081600|          421|962193|0.036779791532520936|96219.31838989576|          96220|0.10000072750477296|\n",
      "|1012100_260| 1012100|          260|828176| 0.03165699670672834|82817.61582849837|          82818|0.10000048298912309|\n",
      "| 1011200_65| 1011200|           65|825949|0.031571869714801644|82594.91578593486|          82595|0.10000012107285075|\n",
      "|1012100_115| 1012100|          115|684958| 0.02618249399915867|68495.81309124701|          68496|0.10000029198870587|\n",
      "|1062400_260| 1062400|          260|449083|0.017166180922953193|44908.30858309046|          44909|0.10000155873190479|\n",
      "+-----------+--------+-------------+------+--------------------+-----------------+---------------+-------------------+\n",
      "only showing top 5 rows\n",
      "\n"
     ]
    }
   ],
   "source": [
    "df_estrato.show(5)"
   ]
  },
  {
   "cell_type": "code",
   "execution_count": 14,
   "id": "3c329c4a-d200-4132-a753-e8caeec9ea6c",
   "metadata": {},
   "outputs": [
    {
     "name": "stderr",
     "output_type": "stream",
     "text": [
      "                                                                                \r"
     ]
    }
   ],
   "source": [
    "# Se convierte el spark DataFrame en Pandas dataframe para extraer la proporción por estratos a muestrear\n",
    "pandas_estratos = df_estrato.toPandas()"
   ]
  },
  {
   "cell_type": "code",
   "execution_count": 15,
   "id": "12fbe3b9-3ccb-49de-95a4-d55118ff60e6",
   "metadata": {},
   "outputs": [
    {
     "data": {
      "text/html": [
       "<div>\n",
       "<style scoped>\n",
       "    .dataframe tbody tr th:only-of-type {\n",
       "        vertical-align: middle;\n",
       "    }\n",
       "\n",
       "    .dataframe tbody tr th {\n",
       "        vertical-align: top;\n",
       "    }\n",
       "\n",
       "    .dataframe thead th {\n",
       "        text-align: right;\n",
       "    }\n",
       "</style>\n",
       "<table border=\"1\" class=\"dataframe\">\n",
       "  <thead>\n",
       "    <tr style=\"text-align: right;\">\n",
       "      <th></th>\n",
       "      <th>estrato</th>\n",
       "      <th>category</th>\n",
       "      <th>vendor_number</th>\n",
       "      <th>conteo</th>\n",
       "      <th>probabilidad</th>\n",
       "      <th>muestra</th>\n",
       "      <th>tamanio_muestra</th>\n",
       "      <th>proporcion_estrato</th>\n",
       "    </tr>\n",
       "  </thead>\n",
       "  <tbody>\n",
       "    <tr>\n",
       "      <th>0</th>\n",
       "      <td>1081600_421</td>\n",
       "      <td>1081600.0</td>\n",
       "      <td>421.0</td>\n",
       "      <td>962193</td>\n",
       "      <td>0.036780</td>\n",
       "      <td>96219.318390</td>\n",
       "      <td>96220</td>\n",
       "      <td>0.100001</td>\n",
       "    </tr>\n",
       "    <tr>\n",
       "      <th>1</th>\n",
       "      <td>1012100_260</td>\n",
       "      <td>1012100.0</td>\n",
       "      <td>260.0</td>\n",
       "      <td>828176</td>\n",
       "      <td>0.031657</td>\n",
       "      <td>82817.615828</td>\n",
       "      <td>82818</td>\n",
       "      <td>0.100000</td>\n",
       "    </tr>\n",
       "    <tr>\n",
       "      <th>2</th>\n",
       "      <td>1011200_65</td>\n",
       "      <td>1011200.0</td>\n",
       "      <td>65.0</td>\n",
       "      <td>825949</td>\n",
       "      <td>0.031572</td>\n",
       "      <td>82594.915786</td>\n",
       "      <td>82595</td>\n",
       "      <td>0.100000</td>\n",
       "    </tr>\n",
       "    <tr>\n",
       "      <th>3</th>\n",
       "      <td>1012100_115</td>\n",
       "      <td>1012100.0</td>\n",
       "      <td>115.0</td>\n",
       "      <td>684958</td>\n",
       "      <td>0.026182</td>\n",
       "      <td>68495.813091</td>\n",
       "      <td>68496</td>\n",
       "      <td>0.100000</td>\n",
       "    </tr>\n",
       "    <tr>\n",
       "      <th>4</th>\n",
       "      <td>1062400_260</td>\n",
       "      <td>1062400.0</td>\n",
       "      <td>260.0</td>\n",
       "      <td>449083</td>\n",
       "      <td>0.017166</td>\n",
       "      <td>44908.308583</td>\n",
       "      <td>44909</td>\n",
       "      <td>0.100002</td>\n",
       "    </tr>\n",
       "  </tbody>\n",
       "</table>\n",
       "</div>"
      ],
      "text/plain": [
       "       estrato   category  vendor_number  conteo  probabilidad       muestra  \\\n",
       "0  1081600_421  1081600.0          421.0  962193      0.036780  96219.318390   \n",
       "1  1012100_260  1012100.0          260.0  828176      0.031657  82817.615828   \n",
       "2   1011200_65  1011200.0           65.0  825949      0.031572  82594.915786   \n",
       "3  1012100_115  1012100.0          115.0  684958      0.026182  68495.813091   \n",
       "4  1062400_260  1062400.0          260.0  449083      0.017166  44908.308583   \n",
       "\n",
       "   tamanio_muestra  proporcion_estrato  \n",
       "0            96220            0.100001  \n",
       "1            82818            0.100000  \n",
       "2            82595            0.100000  \n",
       "3            68496            0.100000  \n",
       "4            44909            0.100002  "
      ]
     },
     "execution_count": 15,
     "metadata": {},
     "output_type": "execute_result"
    }
   ],
   "source": [
    "pandas_estratos.head()"
   ]
  },
  {
   "cell_type": "code",
   "execution_count": 16,
   "id": "47b8834b-5048-401e-8950-bc87bc048fb0",
   "metadata": {},
   "outputs": [],
   "source": [
    "# Se construye un diccionario con la proporción a muestrear requerida en cada estrato\n",
    "proporciones = pandas_estratos.set_index('estrato')['proporcion_estrato'].to_dict()"
   ]
  },
  {
   "cell_type": "code",
   "execution_count": 17,
   "id": "3a9099c2-c92d-4087-b250-797c8d977e0b",
   "metadata": {},
   "outputs": [],
   "source": [
    "# RESULTADO FINAL\n",
    "# Se obtiene la muestra por cada estrato del tamaño adecuado\n",
    "muestra_df = df.sampleBy(col = \"estrato\", fractions = proporciones, seed = 5)"
   ]
  },
  {
   "cell_type": "code",
   "execution_count": null,
   "id": "4bc36083-38ef-448d-b680-7afef95cc85e",
   "metadata": {},
   "outputs": [],
   "source": []
  },
  {
   "cell_type": "code",
   "execution_count": null,
   "id": "4382f9a8-76a6-41be-8a76-212bc9d43e73",
   "metadata": {},
   "outputs": [],
   "source": []
  },
  {
   "cell_type": "code",
   "execution_count": 19,
   "id": "61ad6965-38e9-4773-a1d0-f10e6d9115e5",
   "metadata": {},
   "outputs": [
    {
     "name": "stdout",
     "output_type": "stream",
     "text": [
      "+--------------+----------+------------+--------------------+--------------------+---------------+--------+--------------------+-------------+-------+--------+--------------------+-------------+--------------------+-----------+--------------------+----+-------------+-----------+-------------+------------+------------+-----------+------------+-----------+\n",
      "|invoice_number|      date|store_number|          store_name|             address|           city|zip_code|      store_location|county_number| county|category|       category_name|vendor_number|         vendor_name|item_number|    item_description|pack|bottle_volume|bottle_cost|bottle_retail|bottles_sold|sale_dollars|liters_sold|gallons_sold|    estrato|\n",
      "+--------------+----------+------------+--------------------+--------------------+---------------+--------+--------------------+-------------+-------+--------+--------------------+-------------+--------------------+-----------+--------------------+----+-------------+-----------+-------------+------------+------------+-----------+------------+-----------+\n",
      "|  S05675800010|05/23/2012|        4614|        URBAN LIQUOR|6401 DOUGLAS AVE ...|      URBANDALE|   50322|POINT (-93.705732...|           77|   POLK| 1011200|STRAIGHT BOURBON ...|          461|       CAMPARI(SKYY)|      22156|     WILD TURKEY 101|  12|          750|      10.99|        17.24|           1|       17.24|       0.75|         0.2|1011200_461|\n",
      "|  S25173300045|04/20/2015|        2549|HY-VEE FOOD STORE...|     910 N JEFFERSON|      INDIANOLA|   50125|                NULL|           91| WARREN| 1081200|      CREAM LIQUEURS|          260|     DIAGEO AMERICAS|      68037|BAILEY'S ORIGINAL...|  12|         1000|      17.25|        25.88|          12|      310.56|       12.0|        3.17|1081200_260|\n",
      "|  S03450000070|01/05/2012|        3942|    TWIN TOWN LIQUOR| 104 HIGHWAY 30 WEST|         TOLEDO|   52342|POINT (-92.579446...|           86|   TAMA| 1071100|  AMERICAN COCKTAILS|          260|     DIAGEO AMERICAS|      63755|TGI FRIDAYS MUDSLIDE|   6|         1750|       7.94|        11.91|           1|       11.91|       1.75|        0.46|1071100_260|\n",
      "|  S06108400036|06/18/2012|        2285|      JOHN'S GROCERY|  401 EAST MARKET ST|      IOWA CITY|   52240|POINT (-91.529854...|           52|JOHNSON| 1031080|      VODKA 80 PROOF|          301|FIFTH GENERATION ...|      38176|         TITOS VODKA|  12|          750|       9.64|        14.46|          12|      173.52|        9.0|        2.38|1031080_301|\n",
      "|  S05895600020|06/05/2012|        2619|HY-VEE WINE AND S...|       1725  74TH ST|WEST DES MOINES|   50266|POINT (-93.808855...|           77|   POLK| 1081220| DARK CREME DE CACAO|          434|      LUXCO-ST LOUIS|      78456|PARAMOUNT CREME D...|  12|          750|       4.58|         6.88|          12|       82.56|        9.0|        2.38|1081220_434|\n",
      "+--------------+----------+------------+--------------------+--------------------+---------------+--------+--------------------+-------------+-------+--------+--------------------+-------------+--------------------+-----------+--------------------+----+-------------+-----------+-------------+------------+------------+-----------+------------+-----------+\n",
      "only showing top 5 rows\n",
      "\n"
     ]
    }
   ],
   "source": [
    "muestra_df.show(5)"
   ]
  },
  {
   "cell_type": "code",
   "execution_count": 20,
   "id": "78d19b50-4c0e-442a-8cf6-8e97dfdecc2f",
   "metadata": {},
   "outputs": [],
   "source": [
    "# Se calcula de nuevo la cantidad de elementos en cada estrato DE LA MUESTRA\n",
    "# También se calcula de nuevo la probabilidad de ocurrencia pero EN LA MUESTRA\n",
    "muestra_df_grouped = muestra_df.groupBy(vars_caracterizacion).agg(count(\"*\").alias(\"conteo\"))\n",
    "muestra_df_prob = muestra_df_grouped.withColumn(\"probabilidad\", col(\"conteo\") / n)\n",
    "muestra_df_prob = muestra_df_prob.orderBy(desc(\"probabilidad\"))"
   ]
  },
  {
   "cell_type": "code",
   "execution_count": 21,
   "id": "e924d16c-ac1c-4bfb-9863-091ad28bb4da",
   "metadata": {},
   "outputs": [
    {
     "name": "stderr",
     "output_type": "stream",
     "text": [
      "[Stage 32:======================================================> (47 + 1) / 48]\r"
     ]
    },
    {
     "name": "stdout",
     "output_type": "stream",
     "text": [
      "+--------+-------------+------+--------------------+\n",
      "|category|vendor_number|conteo|        probabilidad|\n",
      "+--------+-------------+------+--------------------+\n",
      "| 1081600|          421| 96232|  0.0367846390723262|\n",
      "| 1012100|          260| 83212| 0.03180774988035589|\n",
      "| 1011200|           65| 82610|  0.0315776356488992|\n",
      "| 1012100|          115| 68233| 0.02608203381226654|\n",
      "| 1062400|          260| 44914|0.017168356464528006|\n",
      "+--------+-------------+------+--------------------+\n",
      "only showing top 5 rows\n",
      "\n"
     ]
    },
    {
     "name": "stderr",
     "output_type": "stream",
     "text": [
      "                                                                                \r"
     ]
    }
   ],
   "source": [
    "muestra_df_prob.show(5)"
   ]
  }
 ],
 "metadata": {
  "kernelspec": {
   "display_name": "Python 3 (ipykernel)",
   "language": "python",
   "name": "python3"
  },
  "language_info": {
   "codemirror_mode": {
    "name": "ipython",
    "version": 3
   },
   "file_extension": ".py",
   "mimetype": "text/x-python",
   "name": "python",
   "nbconvert_exporter": "python",
   "pygments_lexer": "ipython3",
   "version": "3.12.2"
  }
 },
 "nbformat": 4,
 "nbformat_minor": 5
}
