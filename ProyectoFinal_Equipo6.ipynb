{
 "cells": [
  {
   "cell_type": "markdown",
   "id": "5fdf2ea6-5061-42ae-aedf-ee5dea7e4856",
   "metadata": {},
   "source": [
    "# Análisis de Grandes Volúmenes de Datos\n",
    "## Entrega del Proyecto Final\n",
    "\n",
    "Estudiantes:\n",
    "+ Jorge Barón Bracho - A01422588\n",
    "+ Elda Cristina Morales Sánchez de la Barquera - A00449074\n",
    "+ Eduardo Selim Martínez Mayorga - A01795167\n",
    "+ José Arturo Valdivia Rivera - A01795395"
   ]
  },
  {
   "cell_type": "code",
   "execution_count": 1,
   "id": "4261147f-9364-45c6-8953-080ec52ca7a8",
   "metadata": {},
   "outputs": [],
   "source": [
    "#Descargamos las librerias necesarias, iniciamos sesion de Pyspark y cargamos la base de datos\n",
    "from pyspark.sql import SparkSession\n",
    "from pyspark.sql import functions as F\n",
    "from pyspark.sql.functions import countDistinct, count, isnan, when, desc, concat_ws, monotonically_increasing_id, row_number\n",
    "from pyspark.sql.window import Window\n",
    "from pyspark.sql.functions import col, expr, mean, stddev, min, max, length, ceil, floor\n",
    "from pyspark.sql.types import StructType, StructField, StringType, DoubleType, NumericType, IntegerType\n",
    "from pyspark.ml.feature import Imputer, VectorAssembler, StandardScaler, StringIndexer, OneHotEncoder, PCA\n",
    "from pyspark.ml.regression import LinearRegression, RandomForestRegressor\n",
    "from pyspark.ml import Pipeline\n",
    "from pyspark.ml.clustering import KMeans\n",
    "from pyspark.ml.evaluation import ClusteringEvaluator, RegressionEvaluator\n",
    "from pyspark.ml.tuning import ParamGridBuilder, CrossValidator\n",
    "import math\n",
    "import random\n",
    "import pandas as pd\n",
    "import matplotlib.pyplot as plt\n",
    "import numpy as np\n",
    "import seaborn as sns"
   ]
  },
  {
   "cell_type": "code",
   "execution_count": 2,
   "id": "bb8249da-4707-46d3-8772-5f747be9c7c6",
   "metadata": {},
   "outputs": [
    {
     "name": "stderr",
     "output_type": "stream",
     "text": [
      "25/06/22 14:24:40 WARN Utils: Your hostname, MacBook-Air-de-Eduardo.local resolves to a loopback address: 127.0.0.1; using 192.168.100.13 instead (on interface en0)\n",
      "25/06/22 14:24:40 WARN Utils: Set SPARK_LOCAL_IP if you need to bind to another address\n",
      "Setting default log level to \"WARN\".\n",
      "To adjust logging level use sc.setLogLevel(newLevel). For SparkR, use setLogLevel(newLevel).\n",
      "25/06/22 14:24:41 WARN NativeCodeLoader: Unable to load native-hadoop library for your platform... using builtin-java classes where applicable\n",
      "25/06/22 14:25:00 WARN GarbageCollectionMetrics: To enable non-built-in garbage collector(s) List(G1 Concurrent GC), users should configure it(them) to spark.eventLog.gcMetrics.youngGenerationGarbageCollectors or spark.eventLog.gcMetrics.oldGenerationGarbageCollectors\n",
      "                                                                                \r"
     ]
    }
   ],
   "source": [
    "spark = SparkSession.builder.appName(\"CSVRead\").getOrCreate()\n",
    "df = spark.read.csv(\"Iowa_Liquor_Sales.csv\", header=True, inferSchema=True)"
   ]
  },
  {
   "cell_type": "code",
   "execution_count": 3,
   "id": "d9c20a93-c724-465b-a540-1b2b15d360bd",
   "metadata": {},
   "outputs": [],
   "source": [
    "# Cambiamos los nombres de las columnas para facilitar su manejo al programar\n",
    "df = df.withColumnsRenamed({\"Invoice/Item Number\": \"invoice_number\",\n",
    "\"Date\": \"date\",\n",
    "\"Store Number\": \"store_number\",\n",
    "\"Store Name\": \"store_name\",\n",
    "\"Address\": \"address\",\n",
    "\"City\": \"city\",\n",
    "\"Zip Code\": \"zip_code\",\n",
    "\"Store Location\": \"store_location\",\n",
    "\"County Number\": \"county_number\",\n",
    "\"County\": \"county\",\n",
    "\"Category\": \"category\",\n",
    "\"Category Name\": \"category_name\",\n",
    "\"Vendor Number\": \"vendor_number\",\n",
    "\"Vendor Name\": \"vendor_name\",\n",
    "\"Item Number\": \"item_number\",\n",
    "\"Item Description\": \"item_description\",\n",
    "\"Pack\": \"pack\",\n",
    "\"Bottle Volume (ml)\": \"bottle_volume\",\n",
    "\"State Bottle Cost\": \"bottle_cost\",\n",
    "\"State Bottle Retail\": \"bottle_retail\",\n",
    "\"Bottles Sold\": \"bottles_sold\",\n",
    "\"Sale (Dollars)\": \"sale_dollars\",\n",
    "\"Volume Sold (Liters)\": \"liters_sold\",\n",
    "\"Volume Sold (Gallons)\": \"gallons_sold\"})"
   ]
  },
  {
   "cell_type": "markdown",
   "id": "483056d8-606c-4252-a478-248aec9a5c3e",
   "metadata": {},
   "source": [
    "## Parte 1: Selección de los datos\n",
    "En esta parte se utilizará una variación de la rutina de las actividades pasadas para construir un subconjunto de trabajo del dataset original (2 millones de datos aproximadamente) utilizando el criterio de estratificación basado en la categoría del producto (`category`) y el vendedor del producto (`vendor_number`)."
   ]
  },
  {
   "cell_type": "code",
   "execution_count": 4,
   "id": "b4b2b5c1-e9cb-499e-992b-ca38b40dfc6b",
   "metadata": {},
   "outputs": [
    {
     "name": "stderr",
     "output_type": "stream",
     "text": [
      "                                                                                \r"
     ]
    }
   ],
   "source": [
    "# Variables de caracterización\n",
    "vars_caracterizacion = [\"category\",\"vendor_number\"]\n",
    "\n",
    "# Total de filas para calcular proporciones\n",
    "total = df.count()\n",
    "\n",
    "# Agrupar por combinaciones y contar ocurrencias\n",
    "df_grouped = df.groupBy(vars_caracterizacion).agg(count(\"*\").alias(\"conteo\"))\n",
    "\n",
    "# Calcular probabilidad de cada combinación\n",
    "df_prob = df_grouped.withColumn(\"probabilidad\", col(\"conteo\") / total)\n",
    "\n",
    "# Conteo nos dice cuantas veces se repite una combinacion\n",
    "# Probabilidad indica la probabilidad que hay de que salga dicha combinación\n",
    "# Mostrar ejemplo de combinaciones y sus probabilidades\n",
    "df_prob = df_prob.orderBy(desc(\"probabilidad\"))\n",
    "\n",
    "# Creamos la etiqueta del estrato concatenando el número de categoría y el número de vendedor con un guion de por medio\n",
    "df_estrato = df_prob.select(concat_ws('_',df_prob.category,df_prob.vendor_number).alias(\"estrato\"),\n",
    "                            \"category\", \"vendor_number\", \"conteo\", \"probabilidad\")\n",
    "\n",
    "# Creamos la etiqueta del estrato en el dataset completo\n",
    "# concatenando el número de categoría y el número de vendedor con un guion de por medio\n",
    "df = df.withColumn(\"estrato\", concat_ws('_',df.category,df.vendor_number))\n",
    "\n",
    "# Se define la proporción de la población que se requiere muestrear\n",
    "prop_poblacion = 0.01\n",
    "\n",
    "# Se obtiene el tamaño total de la muestra\n",
    "n = math.ceil(total*prop_poblacion)\n",
    "\n",
    "# Se obtiene una columna con el tamaño de muestra requerido de cada estrato\n",
    "df_estrato = df_estrato.withColumn(\"muestra\", col(\"probabilidad\") * n)\n",
    "df_estrato = df_estrato.withColumn(\"tamanio_muestra\", ceil(\"muestra\"))\n",
    "df_estrato = df_estrato.withColumn(\"proporcion_estrato\", col(\"tamanio_muestra\")/col(\"conteo\"))\n",
    "\n",
    "# Se convierte el spark DataFrame en Pandas dataframe para extraer la proporción por estratos a muestrear\n",
    "pandas_estratos = df_estrato.toPandas()\n",
    "\n",
    "# Se construye un diccionario con la proporción a muestrear requerida en cada estrato\n",
    "proporciones = pandas_estratos.set_index('estrato')['proporcion_estrato'].to_dict()\n",
    "\n",
    "# RESULTADO FINAL\n",
    "# Se obtiene la muestra por cada estrato del tamaño adecuado\n",
    "dataset_trabajo = df.sampleBy(col = \"estrato\", fractions = proporciones, seed = 5)\n",
    "# Le generamos un id a cada observación (renglón)\n",
    "dataset_trabajo = dataset_trabajo.withColumn('id', monotonically_increasing_id())\n",
    "\n",
    "# Se obtiene el tamaño total del dataset\n",
    "n_dataset = dataset_trabajo.count()"
   ]
  },
  {
   "cell_type": "markdown",
   "id": "dce2a01f-711f-4783-9996-91b6dd1f9d83",
   "metadata": {},
   "source": [
    "Adicionalmente, se seleccionará como variable objetivo para aprendizaje supervisado al precio del producto (`sale_dolars`) y como variables explicativas al volumen de la botella (`bottle_volumen`), el costo de la botella (`bottle_cost`), el número de botellas vendidas (`bottles_sold`), litros vendidos (`liters_sold) como numéricas y a la categoría del producto (category) y tipo de empaque (pack) como categóricas"
   ]
  },
  {
   "cell_type": "code",
   "execution_count": 5,
   "id": "85b650ac-837a-4bd2-95eb-e1b46c8d48f6",
   "metadata": {},
   "outputs": [],
   "source": [
    "variable_objetivo = \"sale_dollars\"\n",
    "explicativas_numericas = [\"bottle_volume\", \"bottle_cost\", \"bottles_sold\", \"liters_sold\"]\n",
    "explicativas_categoricas = [\"category\", \"pack\"]"
   ]
  },
  {
   "cell_type": "markdown",
   "id": "4f775716-32af-4f27-a579-3b592084bd32",
   "metadata": {},
   "source": [
    "A continuación, se darán algunas estadísticas descriptivas de las variables utilizadas. Se empezará por las **variables cuantitativas**"
   ]
  },
  {
   "cell_type": "code",
   "execution_count": 6,
   "id": "22997638-61f7-4495-bf72-abe2b2372733",
   "metadata": {},
   "outputs": [
    {
     "name": "stderr",
     "output_type": "stream",
     "text": [
      "25/06/22 14:28:54 WARN SparkStringUtils: Truncated the string representation of a plan since it was too large. This behavior can be adjusted by setting 'spark.sql.debug.maxToStringFields'.\n",
      "                                                                                \r"
     ]
    },
    {
     "data": {
      "text/html": [
       "<div>\n",
       "<style scoped>\n",
       "    .dataframe tbody tr th:only-of-type {\n",
       "        vertical-align: middle;\n",
       "    }\n",
       "\n",
       "    .dataframe tbody tr th {\n",
       "        vertical-align: top;\n",
       "    }\n",
       "\n",
       "    .dataframe thead th {\n",
       "        text-align: right;\n",
       "    }\n",
       "</style>\n",
       "<table border=\"1\" class=\"dataframe\">\n",
       "  <thead>\n",
       "    <tr style=\"text-align: right;\">\n",
       "      <th></th>\n",
       "      <th>Variable</th>\n",
       "      <th>Q1</th>\n",
       "      <th>Median</th>\n",
       "      <th>Q3</th>\n",
       "      <th>Mean</th>\n",
       "      <th>Std</th>\n",
       "      <th>Min</th>\n",
       "      <th>Max</th>\n",
       "    </tr>\n",
       "  </thead>\n",
       "  <tbody>\n",
       "    <tr>\n",
       "      <th>0</th>\n",
       "      <td>sale_dollars</td>\n",
       "      <td>34.36</td>\n",
       "      <td>75.84</td>\n",
       "      <td>148.56</td>\n",
       "      <td>146.727337</td>\n",
       "      <td>527.820178</td>\n",
       "      <td>-422.16</td>\n",
       "      <td>57915.0</td>\n",
       "    </tr>\n",
       "    <tr>\n",
       "      <th>1</th>\n",
       "      <td>bottle_volume</td>\n",
       "      <td>750.00</td>\n",
       "      <td>750.00</td>\n",
       "      <td>1000.00</td>\n",
       "      <td>887.103784</td>\n",
       "      <td>506.012842</td>\n",
       "      <td>0.00</td>\n",
       "      <td>6000.0</td>\n",
       "    </tr>\n",
       "    <tr>\n",
       "      <th>2</th>\n",
       "      <td>bottle_cost</td>\n",
       "      <td>5.54</td>\n",
       "      <td>8.26</td>\n",
       "      <td>12.67</td>\n",
       "      <td>10.444345</td>\n",
       "      <td>9.807180</td>\n",
       "      <td>0.00</td>\n",
       "      <td>1871.2</td>\n",
       "    </tr>\n",
       "    <tr>\n",
       "      <th>3</th>\n",
       "      <td>bottles_sold</td>\n",
       "      <td>3.00</td>\n",
       "      <td>6.00</td>\n",
       "      <td>12.00</td>\n",
       "      <td>10.859855</td>\n",
       "      <td>31.265755</td>\n",
       "      <td>-24.00</td>\n",
       "      <td>4050.0</td>\n",
       "    </tr>\n",
       "    <tr>\n",
       "      <th>4</th>\n",
       "      <td>liters_sold</td>\n",
       "      <td>1.50</td>\n",
       "      <td>4.80</td>\n",
       "      <td>10.50</td>\n",
       "      <td>9.374698</td>\n",
       "      <td>41.202900</td>\n",
       "      <td>-10.50</td>\n",
       "      <td>7087.5</td>\n",
       "    </tr>\n",
       "  </tbody>\n",
       "</table>\n",
       "</div>"
      ],
      "text/plain": [
       "        Variable      Q1  Median       Q3        Mean         Std     Min  \\\n",
       "0   sale_dollars   34.36   75.84   148.56  146.727337  527.820178 -422.16   \n",
       "1  bottle_volume  750.00  750.00  1000.00  887.103784  506.012842    0.00   \n",
       "2    bottle_cost    5.54    8.26    12.67   10.444345    9.807180    0.00   \n",
       "3   bottles_sold    3.00    6.00    12.00   10.859855   31.265755  -24.00   \n",
       "4    liters_sold    1.50    4.80    10.50    9.374698   41.202900  -10.50   \n",
       "\n",
       "       Max  \n",
       "0  57915.0  \n",
       "1   6000.0  \n",
       "2   1871.2  \n",
       "3   4050.0  \n",
       "4   7087.5  "
      ]
     },
     "execution_count": 6,
     "metadata": {},
     "output_type": "execute_result"
    }
   ],
   "source": [
    "numeric_cols = [variable_objetivo] + explicativas_numericas\n",
    "\n",
    "#Aqui sacamos las estadisticas para realizar el resumen de las columnas numericas\n",
    "#Calculamos (mean, std, min, max)\n",
    "basic_stats_exprs = [\n",
    "    mean(c).alias(f\"{c}_mean\") for c in numeric_cols\n",
    "] + [\n",
    "    stddev(c).alias(f\"{c}_std\") for c in numeric_cols\n",
    "] + [\n",
    "    min(c).alias(f\"{c}_min\") for c in numeric_cols\n",
    "] + [\n",
    "    max(c).alias(f\"{c}_max\") for c in numeric_cols\n",
    "]\n",
    "basic_stats_df = dataset_trabajo.agg(*basic_stats_exprs)\n",
    "basic_stats_row = basic_stats_df.first().asDict()\n",
    "#Calculamos los cuartiles (Q1, mediana, Q3)\n",
    "quartile_exprs = [\n",
    "    expr(f\"percentile_approx({c}, array(0.25, 0.5, 0.75), 10000)\").alias(f\"{c}_quartiles\")\n",
    "    for c in numeric_cols\n",
    "]\n",
    "quartile_df = dataset_trabajo.agg(*quartile_exprs)\n",
    "quartile_row = quartile_df.first().asDict()\n",
    "#Juntamos todos los datos que calculamos\n",
    "summary_no = []\n",
    "for col_name in numeric_cols:\n",
    "    q1, median, q3 = quartile_row[f\"{col_name}_quartiles\"]\n",
    "    summary_no.append({\n",
    "        \"Variable\": col_name,\n",
    "        \"Q1\": q1,\n",
    "        \"Median\": median,\n",
    "        \"Q3\": q3,\n",
    "        \"Mean\": basic_stats_row[f\"{col_name}_mean\"],\n",
    "        \"Std\": basic_stats_row[f\"{col_name}_std\"],\n",
    "        \"Min\": basic_stats_row[f\"{col_name}_min\"],\n",
    "        \"Max\": basic_stats_row[f\"{col_name}_max\"],\n",
    "    })\n",
    "#Checamos \"Summary\" por posibles errores y nos hacemos cargo de ellos.\n",
    "for row in summary_no:\n",
    "    row[\"Variable\"] = str(row[\"Variable\"])\n",
    "    for key in row:\n",
    "        if key != \"Variable\":\n",
    "            val = row[key]\n",
    "            #Comprobamos que el valor no sea \"NONE\" o \"NaN\" en caso de que lo sean lo remplazamos por 0.0\n",
    "            if val is None or (isinstance(val, float) and math.isnan(val)):\n",
    "                row[key] = 0.0\n",
    "            else:\n",
    "                row[key] = float(val)\n",
    "#Utilizando Pandas sacamos la información del Resumen que realizamos.\n",
    "pd.set_option('display.max_colwidth', None)\n",
    "pd.DataFrame(summary_no)"
   ]
  },
  {
   "cell_type": "markdown",
   "id": "e0de4946-dbfb-4b5e-be8d-8fc7470c220d",
   "metadata": {},
   "source": [
    "Ahora, se hará un análisis descriptivo de las **variables categóricas o cualitativas**"
   ]
  },
  {
   "cell_type": "code",
   "execution_count": 7,
   "id": "1d95ef59-b05c-4c9b-a5f0-f8d6878e7e11",
   "metadata": {},
   "outputs": [
    {
     "name": "stderr",
     "output_type": "stream",
     "text": [
      "                                                                                \r"
     ]
    },
    {
     "data": {
      "text/html": [
       "<div>\n",
       "<style scoped>\n",
       "    .dataframe tbody tr th:only-of-type {\n",
       "        vertical-align: middle;\n",
       "    }\n",
       "\n",
       "    .dataframe tbody tr th {\n",
       "        vertical-align: top;\n",
       "    }\n",
       "\n",
       "    .dataframe thead th {\n",
       "        text-align: right;\n",
       "    }\n",
       "</style>\n",
       "<table border=\"1\" class=\"dataframe\">\n",
       "  <thead>\n",
       "    <tr style=\"text-align: right;\">\n",
       "      <th></th>\n",
       "      <th>variable</th>\n",
       "      <th>tipo</th>\n",
       "      <th>valores_distintos</th>\n",
       "      <th>valores_nulos_o_vacios</th>\n",
       "      <th>longitud_promedio</th>\n",
       "      <th>longitud_minima</th>\n",
       "      <th>longitud_maxima</th>\n",
       "      <th>top_5_valores_mas_frecuentes</th>\n",
       "    </tr>\n",
       "  </thead>\n",
       "  <tbody>\n",
       "    <tr>\n",
       "      <th>0</th>\n",
       "      <td>category</td>\n",
       "      <td>textual</td>\n",
       "      <td>111</td>\n",
       "      <td>205</td>\n",
       "      <td>7.0</td>\n",
       "      <td>6</td>\n",
       "      <td>7</td>\n",
       "      <td>[{'category': 1031100, 'count': 25322}, {'category': 1012100, 'count': 24769}, {'category': 1011200, 'count': 16505}, {'category': 1031200, 'count': 13004}, {'category': 1031080, 'count': 12787}]</td>\n",
       "    </tr>\n",
       "    <tr>\n",
       "      <th>1</th>\n",
       "      <td>pack</td>\n",
       "      <td>textual</td>\n",
       "      <td>20</td>\n",
       "      <td>0</td>\n",
       "      <td>1.7</td>\n",
       "      <td>1</td>\n",
       "      <td>3</td>\n",
       "      <td>[{'pack': 12, 'count': 148281}, {'pack': 6, 'count': 74456}, {'pack': 24, 'count': 23544}, {'pack': 48, 'count': 6521}, {'pack': 10, 'count': 5132}]</td>\n",
       "    </tr>\n",
       "  </tbody>\n",
       "</table>\n",
       "</div>"
      ],
      "text/plain": [
       "   variable     tipo  valores_distintos  valores_nulos_o_vacios  \\\n",
       "0  category  textual                111                     205   \n",
       "1      pack  textual                 20                       0   \n",
       "\n",
       "   longitud_promedio  longitud_minima  longitud_maxima  \\\n",
       "0                7.0                6                7   \n",
       "1                1.7                1                3   \n",
       "\n",
       "                                                                                                                                                                          top_5_valores_mas_frecuentes  \n",
       "0  [{'category': 1031100, 'count': 25322}, {'category': 1012100, 'count': 24769}, {'category': 1011200, 'count': 16505}, {'category': 1031200, 'count': 13004}, {'category': 1031080, 'count': 12787}]  \n",
       "1                                                 [{'pack': 12, 'count': 148281}, {'pack': 6, 'count': 74456}, {'pack': 24, 'count': 23544}, {'pack': 48, 'count': 6521}, {'pack': 10, 'count': 5132}]  "
      ]
     },
     "execution_count": 7,
     "metadata": {},
     "output_type": "execute_result"
    }
   ],
   "source": [
    "#Empezaremos el analisis con las columnas categóricas\n",
    "summary_text = []\n",
    "for col_name in explicativas_categoricas:\n",
    "    #Sacamos las estadisticas como, valores distintos, espacios vacios, y largo (avg,min,max)\n",
    "    agg_stats = dataset_trabajo.select(\n",
    "        countDistinct(col(col_name)).alias(\"distinct_count\"),\n",
    "        count(when((col(col_name).isNull()) | (col(col_name) == \"\"), col_name)).alias(\"null_or_empty\"),\n",
    "        mean(length(col(col_name))).alias(\"avg_len\"),\n",
    "        min(length(col(col_name))).alias(\"min_len\"),\n",
    "        max(length(col(col_name))).alias(\"max_len\")\n",
    "    ).collect()[0]\n",
    "    # Obtenemos los 5 valores mas frecuentes de cada columna\n",
    "    top_values_df = (\n",
    "        dataset_trabajo.groupBy(col_name)\n",
    "        .count()\n",
    "        .orderBy(desc(\"count\"))\n",
    "        .limit(5)\n",
    "        .toPandas()\n",
    "    )\n",
    "    top_values = top_values_df.to_dict(orient=\"records\")\n",
    "    #Juntamos todos los resultados en una lista\n",
    "    summary_text.append({\n",
    "        \"variable\": col_name,\n",
    "        \"tipo\": \"textual\",\n",
    "        \"valores_distintos\": agg_stats[\"distinct_count\"],\n",
    "        \"valores_nulos_o_vacios\": agg_stats[\"null_or_empty\"],\n",
    "        \"longitud_promedio\": round(agg_stats[\"avg_len\"], 2) if agg_stats[\"avg_len\"] else None,\n",
    "        \"longitud_minima\": agg_stats[\"min_len\"],\n",
    "        \"longitud_maxima\": agg_stats[\"max_len\"],\n",
    "        \"top_5_valores_mas_frecuentes\": top_values\n",
    "    })\n",
    "#Utilizando Pandas sacamos la información del Resumen que realizamos.\n",
    "pd.set_option('display.max_colwidth', None)\n",
    "pd.DataFrame(summary_text)"
   ]
  },
  {
   "cell_type": "markdown",
   "id": "cf59211d-7213-4dff-b315-68f9998684bd",
   "metadata": {},
   "source": [
    "## Parte 2: Preparación de los datos\n",
    "\n",
    "En esta sección se completarán valores faltantes, tanto para variables numéricas como para categóricas. Además, las variables categóricas se codificación (one-hot-encoding) para que se pueden utilizar en el modelo de aprendizaje supervisado. También, se escalarán/estandarizarán/normalizará las variables numéricas para tener estabilidad en los algoritmos tanto de aprendizaje supervisado como en los de no supervisado."
   ]
  },
  {
   "cell_type": "code",
   "execution_count": 8,
   "id": "5b929c7b-b6c2-43ab-81f3-a8cf2eba9f2e",
   "metadata": {},
   "outputs": [
    {
     "name": "stderr",
     "output_type": "stream",
     "text": [
      "                                                                                \r"
     ]
    }
   ],
   "source": [
    "# Corrección de datos faltantes para variables categóricas\n",
    "## Se calcula la moda para las varaibles categóricas\n",
    "mode_category1 = dataset_trabajo.groupBy(\"category\").agg(count(\"*\").alias(\"count\")).orderBy(col(\"count\").desc()).first()[\"category\"]\n",
    "mode_category2 = dataset_trabajo.groupBy(\"pack\").agg(count(\"*\").alias(\"count\")).orderBy(col(\"count\").desc()).first()[\"pack\"]\n",
    "\n",
    "## Se completan los datos faltantes de las variables categóricas con las modas\n",
    "dataset_trabajo = dataset_trabajo.withColumn(\"category\", when(col(\"category\").isNull(), mode_category1).otherwise(col(\"category\")))\n",
    "dataset_trabajo = dataset_trabajo.withColumn(\"pack\", when(col(\"pack\").isNull(), mode_category2).otherwise(col(\"pack\")))\n",
    "\n",
    "# Se completan los datos numéricos faltantes\n",
    "imputer = Imputer(inputCols = explicativas_numericas,\n",
    "                  outputCols = explicativas_numericas)\n",
    "\n",
    "imputer = imputer.fit(dataset_trabajo)\n",
    "\n",
    "dataset_trabajo = imputer.transform(dataset_trabajo)\n",
    "\n",
    "# Generamos el objeto con las variables explicativas numéricas\n",
    "vector_assembler_numerico = VectorAssembler(inputCols = explicativas_numericas,\n",
    "                                            outputCol = 'explicativas_numericas_vector')\n",
    "\n",
    "dataset_trabajo = vector_assembler_numerico.transform(dataset_trabajo)\n",
    "\n",
    "# A las varibles categóricas primero las representaremos mediante un índice único y posteriormente se le aplicará one-hot encoding\n",
    "\n",
    "## Se representa a las categorías de las variables categóricas como índices únicos\n",
    "indexers = [\n",
    "    StringIndexer(inputCol = c, outputCol = \"{0}_index\".format(c))\n",
    "    for c in explicativas_categoricas\n",
    "]\n",
    "\n",
    "## Se aplica one-hot encoding a cada una de las variables categóricas\n",
    "encoders = [\n",
    "    OneHotEncoder(\n",
    "        inputCol = indexer.getOutputCol(),\n",
    "        outputCol = \"{0}_encoded\".format(indexer.getOutputCol())) \n",
    "    for indexer in indexers\n",
    "]\n",
    "\n",
    "## Generamos el objeto con las variables explicativas categóricas\n",
    "assembler = VectorAssembler(\n",
    "    inputCols=[encoder.getOutputCol() for encoder in encoders],\n",
    "    outputCol = \"explicativas_categoricas_vector\"\n",
    ")\n",
    "\n",
    "pipeline = Pipeline(stages = indexers + encoders + [assembler])\n",
    "pipeline = pipeline.fit(dataset_trabajo)\n",
    "\n",
    "dataset_trabajo = pipeline.transform(dataset_trabajo)\n",
    "\n",
    "# Estandarizamos las variables numéricas para quitar el efecto de la escala de las variables originales\n",
    "scaler = StandardScaler(inputCol = 'explicativas_numericas_vector',\n",
    "                        outputCol= 'explicativas_numericas_vector_escaladas',\n",
    "                        withStd=True, withMean=True)\n",
    "\n",
    "scaler = scaler.fit(dataset_trabajo)\n",
    "dataset_trabajo = scaler.transform(dataset_trabajo)\n",
    "\n",
    "# Juntamos las variables explicativas categóricas como las varables explicativas numéricas\n",
    "assembler = VectorAssembler(inputCols = ['explicativas_numericas_vector_escaladas', 'explicativas_categoricas_vector'],\n",
    "                            outputCol = 'explicativas_final_vector')\n",
    "\n",
    "dataset_trabajo = assembler.transform(dataset_trabajo)"
   ]
  },
  {
   "cell_type": "markdown",
   "id": "6da08ac3-b34d-4509-b405-52538b3fdda4",
   "metadata": {},
   "source": [
    "Ahora se clusterizarán las observaciones a partir del algoritmo $K$-means. En las entregas pasadas, se estableció que el número óptimo de clústers es 4"
   ]
  },
  {
   "cell_type": "code",
   "execution_count": 9,
   "id": "c682af36-f2f9-4d90-b741-785d1d2d3007",
   "metadata": {},
   "outputs": [
    {
     "name": "stderr",
     "output_type": "stream",
     "text": [
      "25/06/22 14:44:15 WARN InstanceBuilder: Failed to load implementation from:dev.ludovic.netlib.blas.JNIBLAS\n",
      "25/06/22 14:44:15 WARN InstanceBuilder: Failed to load implementation from:dev.ludovic.netlib.blas.VectorBLAS\n",
      "[Stage 114:=====================================================> (47 + 1) / 48]\r"
     ]
    },
    {
     "name": "stdout",
     "output_type": "stream",
     "text": [
      "Centros de los clústers: \n",
      "[-0.1904855   0.12356702 -0.07343111 -0.056013  ]\n",
      "[ 1.75616475  0.22086161 -0.06341876  0.15056574]\n",
      "[ 1.01591577  0.11294761 21.82619577 22.87033775]\n",
      "[-1.12998203 -0.55285463  0.17200684 -0.08270747]\n"
     ]
    },
    {
     "name": "stderr",
     "output_type": "stream",
     "text": [
      "                                                                                \r"
     ]
    }
   ],
   "source": [
    "# Seleccionamos como número de cluster óptimo al 5 y se vuelve a ejecutar el algoritmo k-means\n",
    "kmeans = KMeans(featuresCol = 'explicativas_numericas_vector_escaladas', k = 4)\n",
    "modelo = kmeans.fit(dataset_trabajo)\n",
    "dataset_trabajo = modelo.transform(dataset_trabajo)\n",
    "silhouette = ClusteringEvaluator(featuresCol = 'explicativas_numericas_vector_escaladas',\n",
    "                                 predictionCol = \"prediction\").evaluate(dataset_trabajo)\n",
    "\n",
    "# Finalmente, se obtienene los centroides de cada clúster\n",
    "centros = modelo.clusterCenters()\n",
    "print(\"Centros de los clústers: \")\n",
    "for centro in centros:\n",
    "    print(centro)"
   ]
  },
  {
   "cell_type": "code",
   "execution_count": 10,
   "id": "afa964ce-09e3-4bd4-aa45-0fdb77265d12",
   "metadata": {},
   "outputs": [
    {
     "name": "stdout",
     "output_type": "stream",
     "text": [
      "0.41159395799132037\n"
     ]
    }
   ],
   "source": [
    "print(silhouette)"
   ]
  },
  {
   "cell_type": "markdown",
   "id": "bba54240-e316-44d1-b32e-ef5dc1b217c1",
   "metadata": {},
   "source": [
    "Ahora, se verá cuántas observaciones de cada clúster se necesitan para tener significancia en una muestra de entrenamiento"
   ]
  },
  {
   "cell_type": "code",
   "execution_count": 12,
   "id": "6338d358-921d-4ff9-b8c3-22648b152fe3",
   "metadata": {},
   "outputs": [
    {
     "name": "stderr",
     "output_type": "stream",
     "text": [
      "25/06/22 14:54:01 WARN InstanceBuilder: Failed to load implementation from:dev.ludovic.netlib.lapack.JNILAPACK\n"
     ]
    },
    {
     "name": "stdout",
     "output_type": "stream",
     "text": [
      "+--------------------+\n",
      "|        pca_features|\n",
      "+--------------------+\n",
      "|[0.44899618016757...|\n",
      "|[-0.0100963267089...|\n",
      "+--------------------+\n",
      "only showing top 2 rows\n",
      "\n"
     ]
    }
   ],
   "source": [
    "# Renombramos la columna de la predicción del clúster por comodidad\n",
    "dataset_trabajo = dataset_trabajo.withColumnsRenamed({\"prediction\": \"cluster\"})\n",
    "\n",
    "# Hacemos un análisis de componentes principales para visualización en las dimensiones más representativas (las que aportan variabilidad)\n",
    "pca = PCA(k=2, inputCol = 'explicativas_numericas_vector_escaladas', outputCol = \"pca_features\")\n",
    "pca_model = pca.fit(dataset_trabajo)\n",
    "dataset_trabajo = pca_model.transform(dataset_trabajo)\n",
    "dataset_trabajo.select(\"pca_features\").show(2)"
   ]
  },
  {
   "cell_type": "code",
   "execution_count": 13,
   "id": "415605ee-f214-4e0b-818e-db5d7650cf9f",
   "metadata": {},
   "outputs": [
    {
     "name": "stderr",
     "output_type": "stream",
     "text": [
      "                                                                                \r"
     ]
    }
   ],
   "source": [
    "# Contar el tamaño de los clusters en el dataset de trabajo\n",
    "df_tamanio_clusters = dataset_trabajo.groupBy(\"cluster\").agg(count(\"*\").alias(\"conteo\"))\n",
    "df_tamanio_clusters = df_tamanio_clusters.withColumn(\"probabilidad\", col(\"conteo\") / n_dataset)\n",
    "df_tamanio_clusters = df_tamanio_clusters.orderBy(desc(\"probabilidad\"))\n",
    "\n",
    "df_temp = df_tamanio_clusters.toPandas()\n",
    "\n",
    "df_temp['tamanio_ent'] = 0.85*df_temp['conteo']\n",
    "df_aux = df_temp[df_temp['conteo']>=100]\n",
    "n_train = math.floor(df_aux['tamanio_ent'].sum())\n",
    "\n",
    "df_tamanio_clusters = df_tamanio_clusters.withColumn(\"muestra\", col(\"probabilidad\") * n_train)\n",
    "df_tamanio_clusters = df_tamanio_clusters.withColumn(\"tamanio_muestra\", ceil(\"muestra\"))\n",
    "df_tamanio_clusters = df_tamanio_clusters.withColumn(\"proporcion_cluster\", col(\"tamanio_muestra\")/col(\"conteo\"))\n",
    "df_tamanio_clusters = df_tamanio_clusters.orderBy(desc(\"proporcion_cluster\"))\n",
    "\n",
    "# Se convierte el spark DataFrame en Pandas dataframe para extraer la proporción por estratos a muestrear\n",
    "pd_clusters_trabajo = df_tamanio_clusters.toPandas()\n",
    "df_proporciones = pd_clusters_trabajo\n",
    "df_proporciones['fold_restante'] = np.floor(0.1 * pd_clusters_trabajo['conteo'])"
   ]
  },
  {
   "cell_type": "markdown",
   "id": "9761a432-4bac-4b91-ada8-cfeb702a161a",
   "metadata": {},
   "source": [
    "Entonces para que cada la muestra sea suficientemente signigicativa en cada clúster debe tener los siguientes tamaños (proporciones)"
   ]
  },
  {
   "cell_type": "code",
   "execution_count": 14,
   "id": "7b691461-9cc7-4cf4-8ec4-103ded578e31",
   "metadata": {},
   "outputs": [
    {
     "data": {
      "text/html": [
       "<div>\n",
       "<style scoped>\n",
       "    .dataframe tbody tr th:only-of-type {\n",
       "        vertical-align: middle;\n",
       "    }\n",
       "\n",
       "    .dataframe tbody tr th {\n",
       "        vertical-align: top;\n",
       "    }\n",
       "\n",
       "    .dataframe thead th {\n",
       "        text-align: right;\n",
       "    }\n",
       "</style>\n",
       "<table border=\"1\" class=\"dataframe\">\n",
       "  <thead>\n",
       "    <tr style=\"text-align: right;\">\n",
       "      <th></th>\n",
       "      <th>cluster</th>\n",
       "      <th>conteo</th>\n",
       "      <th>probabilidad</th>\n",
       "      <th>muestra</th>\n",
       "      <th>tamanio_muestra</th>\n",
       "      <th>proporcion_cluster</th>\n",
       "      <th>fold_restante</th>\n",
       "    </tr>\n",
       "  </thead>\n",
       "  <tbody>\n",
       "    <tr>\n",
       "      <th>0</th>\n",
       "      <td>2</td>\n",
       "      <td>235</td>\n",
       "      <td>0.000894</td>\n",
       "      <td>199.749151</td>\n",
       "      <td>200</td>\n",
       "      <td>0.851064</td>\n",
       "      <td>23.0</td>\n",
       "    </tr>\n",
       "    <tr>\n",
       "      <th>1</th>\n",
       "      <td>3</td>\n",
       "      <td>55582</td>\n",
       "      <td>0.211333</td>\n",
       "      <td>47244.499234</td>\n",
       "      <td>47245</td>\n",
       "      <td>0.850005</td>\n",
       "      <td>5558.0</td>\n",
       "    </tr>\n",
       "    <tr>\n",
       "      <th>2</th>\n",
       "      <td>1</td>\n",
       "      <td>52415</td>\n",
       "      <td>0.199291</td>\n",
       "      <td>44552.560673</td>\n",
       "      <td>44553</td>\n",
       "      <td>0.850005</td>\n",
       "      <td>5241.0</td>\n",
       "    </tr>\n",
       "    <tr>\n",
       "      <th>3</th>\n",
       "      <td>0</td>\n",
       "      <td>154775</td>\n",
       "      <td>0.588482</td>\n",
       "      <td>131558.190942</td>\n",
       "      <td>131559</td>\n",
       "      <td>0.850002</td>\n",
       "      <td>15477.0</td>\n",
       "    </tr>\n",
       "  </tbody>\n",
       "</table>\n",
       "</div>"
      ],
      "text/plain": [
       "   cluster  conteo  probabilidad        muestra  tamanio_muestra  \\\n",
       "0        2     235      0.000894     199.749151              200   \n",
       "1        3   55582      0.211333   47244.499234            47245   \n",
       "2        1   52415      0.199291   44552.560673            44553   \n",
       "3        0  154775      0.588482  131558.190942           131559   \n",
       "\n",
       "   proporcion_cluster  fold_restante  \n",
       "0            0.851064           23.0  \n",
       "1            0.850005         5558.0  \n",
       "2            0.850005         5241.0  \n",
       "3            0.850002        15477.0  "
      ]
     },
     "execution_count": 14,
     "metadata": {},
     "output_type": "execute_result"
    }
   ],
   "source": [
    "df_proporciones"
   ]
  },
  {
   "cell_type": "markdown",
   "id": "186d0e95-59a7-4dac-b132-0187ca930cf3",
   "metadata": {},
   "source": [
    "Es decir, en cada dataset de entrenamiento del k-fold cross-validation se necesitan al menos muestras del tamaño de los valores en la columna 'tamanio_muestra' para tener significancia.\n",
    "\n",
    "Se puede observar que se necesita al menos 85% de las observaciones en cada clúster para ser significativas. Por esta razón, se tomará un 10-fold cross-validation estratificado pues en cada iteración se usará el 90% de cada clúster en la muestra de entrenamiento.\n",
    "\n",
    "Con esta información, se asignará el número de fold del que cada observación será tomada en el dataset de entrenamiento. Es decir, si una observación tiene `fold = k` signfica que formará parte de la muestra de entrenamiento en todas las iteraciones con fold diferente de `k`."
   ]
  },
  {
   "cell_type": "code",
   "execution_count": 15,
   "id": "1f5b4bc7-c166-47bb-8b51-96d5220fce62",
   "metadata": {},
   "outputs": [
    {
     "name": "stderr",
     "output_type": "stream",
     "text": [
      "                                                                                \r"
     ]
    }
   ],
   "source": [
    "data_inicial = [(0, 0)]\n",
    "columns_inic = [\"id\", \"fold\"]\n",
    "df_iteraciones = spark.createDataFrame(data_inicial, columns_inic)\n",
    "\n",
    "lista_clusters = df_proporciones['cluster'].tolist()\n",
    "k = 10\n",
    "folds = list(range(1, k + 1))\n",
    "for cluster in lista_clusters:\n",
    "    #print(estrato)\n",
    "    df_estr = dataset_trabajo.where(col(\"cluster\") == cluster).select(\"id\").rdd.flatMap(lambda x: x).collect()\n",
    "    fold_sobrante = df_proporciones[df_proporciones['cluster'] == cluster]['fold_restante'].astype(int).iloc[0]\n",
    "    conteo_cat = len(df_estr)\n",
    "    lista_k = list(range(1, k + 1))\n",
    "    lista_k = lista_k * fold_sobrante\n",
    "    n_falt = conteo_cat - len(lista_k)\n",
    "    #print(n_falt)\n",
    "    lista_falt = random.sample(folds, n_falt)\n",
    "    lista_k = lista_falt + lista_k\n",
    "    A = {\"id\":df_estr, \"fold\":lista_k}\n",
    "    final_df = pd.DataFrame(A)\n",
    "    #print(final_df.head(3))\n",
    "    final_df = spark.createDataFrame(final_df)\n",
    "    df_iteraciones = df_iteraciones.union(final_df)\n",
    "\n",
    "dataset_trabajo = dataset_trabajo.join(df_iteraciones, dataset_trabajo.id ==  df_iteraciones.id, \"inner\")"
   ]
  },
  {
   "cell_type": "markdown",
   "id": "7c5aad58-1459-4e5b-8f7b-39f926abc420",
   "metadata": {},
   "source": [
    "Ahora, cada observación del dataset, incluye el pliegue del que será excluído en el proceso de $k$-fold cross-validation"
   ]
  },
  {
   "cell_type": "code",
   "execution_count": 16,
   "id": "e1dfe4da-ffd3-4641-b1e1-61cfe49cb774",
   "metadata": {},
   "outputs": [
    {
     "name": "stderr",
     "output_type": "stream",
     "text": [
      "                                                                                \r"
     ]
    },
    {
     "name": "stdout",
     "output_type": "stream",
     "text": [
      "+--------------+----------+------------+--------------------+--------------------+------------+--------+--------------------+-------------+-----------+--------+--------------------+-------------+--------------------+-----------+--------------------+----+-------------+-----------+-------------+------------+------------+-----------+------------+-----------+---+-----------------------------+--------------+----------+----------------------+------------------+-------------------------------+---------------------------------------+-------------------------+-------+--------------------+---+----+\n",
      "|invoice_number|      date|store_number|          store_name|             address|        city|zip_code|      store_location|county_number|     county|category|       category_name|vendor_number|         vendor_name|item_number|    item_description|pack|bottle_volume|bottle_cost|bottle_retail|bottles_sold|sale_dollars|liters_sold|gallons_sold|    estrato| id|explicativas_numericas_vector|category_index|pack_index|category_index_encoded|pack_index_encoded|explicativas_categoricas_vector|explicativas_numericas_vector_escaladas|explicativas_final_vector|cluster|        pca_features| id|fold|\n",
      "+--------------+----------+------------+--------------------+--------------------+------------+--------+--------------------+-------------+-----------+--------+--------------------+-------------+--------------------+-----------+--------------------+----+-------------+-----------+-------------+------------+------------+-----------+------------+-----------+---+-----------------------------+--------------+----------+----------------------+------------------+-------------------------------+---------------------------------------+-------------------------+-------+--------------------+---+----+\n",
      "|  S23359400056|01/08/2015|        2652|HY-VEE DRUGSTORE ...|      875  4TH ST SW|  MASON CITY|   50401|POINT (-93.213856...|           17|CERRO GORDO| 1031200|      VODKA FLAVORED|          380|PHILLIPS BEVERAGE...|      41692|UV BLUE (RASPBERR...|   6|         1750|       8.99|        14.49|          48|      695.52|       84.0|       22.19|1031200_380| 26|         [1750.0,8.99,48.0...|           3.0|       1.0|       (110,[3],[1.0])|    (19,[1],[1.0])|           (129,[3,111],[1.0...|                   [1.70528520959697...|     (133,[0,1,2,3,7,1...|      1|[-2.2608935521023...| 26|   2|\n",
      "|  S09239700117|11/29/2012|        2588|HY-VEE FOOD AND D...|4035 MT. VERNON R...|CEDAR RAPIDS|   52403|POINT (-91.60978 ...|           57|       LINN| 1062200|PUERTO RICO & VIR...|           35|BACARDI U.S.A., INC.|      43046|  BACARDI SELECT RUM|  12|          750|       6.53|         10.3|           3|        30.9|       2.25|        0.59| 1062200_35| 29|         [750.0,6.53,3.0,2...|           8.0|       0.0|       (110,[8],[1.0])|    (19,[0],[1.0])|           (129,[8,110],[1.0...|                   [-0.2709492188194...|     (133,[0,1,2,3,12,...|      0|[0.31331787763924...| 29|   3|\n",
      "+--------------+----------+------------+--------------------+--------------------+------------+--------+--------------------+-------------+-----------+--------+--------------------+-------------+--------------------+-----------+--------------------+----+-------------+-----------+-------------+------------+------------+-----------+------------+-----------+---+-----------------------------+--------------+----------+----------------------+------------------+-------------------------------+---------------------------------------+-------------------------+-------+--------------------+---+----+\n",
      "only showing top 2 rows\n",
      "\n"
     ]
    }
   ],
   "source": [
    "dataset_trabajo.show(2)"
   ]
  },
  {
   "cell_type": "code",
   "execution_count": null,
   "id": "24db95d4-ff88-4465-8367-f3153ff3281e",
   "metadata": {},
   "outputs": [],
   "source": []
  },
  {
   "cell_type": "code",
   "execution_count": 18,
   "id": "4f13cc8b-d100-4091-a103-11ab6639fa47",
   "metadata": {},
   "outputs": [
    {
     "name": "stderr",
     "output_type": "stream",
     "text": [
      "                                                                                \r"
     ]
    }
   ],
   "source": [
    "grouped_stats = dataset_trabajo.groupBy(\"cluster\").agg(\n",
    "    mean(\"sale_dollars\").alias(\"media_sale_dollars\"),\n",
    "    stddev(\"sale_dollars\").alias(\"desv_sale_dollars\"),\n",
    "    mean(\"bottle_volume\").alias(\"media_bottle_volume\"),\n",
    "    stddev(\"bottle_volume\").alias(\"desv_bottle_volume\"),\n",
    "    mean(\"bottle_cost\").alias(\"media_bottle_cost\"),\n",
    "    stddev(\"bottle_cost\").alias(\"desv_bottle_cost\"),\n",
    "    mean(\"bottles_sold\").alias(\"media_bottles_sold\"),\n",
    "    stddev(\"bottles_sold\").alias(\"desv_bottles_sold\"),\n",
    "    mean(\"liters_sold\").alias(\"media_liters_sold\"),\n",
    "    stddev(\"liters_sold\").alias(\"desv_liters_sold\")\n",
    ")\n",
    "\n",
    "df_descriptivos_cluster = grouped_stats.toPandas()"
   ]
  },
  {
   "cell_type": "code",
   "execution_count": 19,
   "id": "fe6630de-75de-40a1-ad96-d57102c8a37c",
   "metadata": {},
   "outputs": [
    {
     "data": {
      "text/html": [
       "<div>\n",
       "<style scoped>\n",
       "    .dataframe tbody tr th:only-of-type {\n",
       "        vertical-align: middle;\n",
       "    }\n",
       "\n",
       "    .dataframe tbody tr th {\n",
       "        vertical-align: top;\n",
       "    }\n",
       "\n",
       "    .dataframe thead th {\n",
       "        text-align: right;\n",
       "    }\n",
       "</style>\n",
       "<table border=\"1\" class=\"dataframe\">\n",
       "  <thead>\n",
       "    <tr style=\"text-align: right;\">\n",
       "      <th></th>\n",
       "      <th>cluster</th>\n",
       "      <th>media_sale_dollars</th>\n",
       "      <th>desv_sale_dollars</th>\n",
       "      <th>media_bottle_volume</th>\n",
       "      <th>desv_bottle_volume</th>\n",
       "      <th>media_bottle_cost</th>\n",
       "      <th>desv_bottle_cost</th>\n",
       "      <th>media_bottles_sold</th>\n",
       "      <th>desv_bottles_sold</th>\n",
       "      <th>media_liters_sold</th>\n",
       "      <th>desv_liters_sold</th>\n",
       "    </tr>\n",
       "  </thead>\n",
       "  <tbody>\n",
       "    <tr>\n",
       "      <th>0</th>\n",
       "      <td>1</td>\n",
       "      <td>162.317740</td>\n",
       "      <td>417.614311</td>\n",
       "      <td>1775.745703</td>\n",
       "      <td>188.610366</td>\n",
       "      <td>12.610375</td>\n",
       "      <td>14.257509</td>\n",
       "      <td>8.877020</td>\n",
       "      <td>18.924447</td>\n",
       "      <td>15.578443</td>\n",
       "      <td>32.825968</td>\n",
       "    </tr>\n",
       "    <tr>\n",
       "      <th>1</th>\n",
       "      <td>3</td>\n",
       "      <td>107.762488</td>\n",
       "      <td>388.032535</td>\n",
       "      <td>315.330683</td>\n",
       "      <td>173.700787</td>\n",
       "      <td>5.022400</td>\n",
       "      <td>2.746302</td>\n",
       "      <td>16.239214</td>\n",
       "      <td>32.812240</td>\n",
       "      <td>5.968531</td>\n",
       "      <td>19.969125</td>\n",
       "    </tr>\n",
       "    <tr>\n",
       "      <th>2</th>\n",
       "      <td>2</td>\n",
       "      <td>11369.243574</td>\n",
       "      <td>8520.978549</td>\n",
       "      <td>1401.170213</td>\n",
       "      <td>426.049750</td>\n",
       "      <td>11.552043</td>\n",
       "      <td>6.116883</td>\n",
       "      <td>693.272340</td>\n",
       "      <td>463.059523</td>\n",
       "      <td>951.698936</td>\n",
       "      <td>779.357361</td>\n",
       "    </tr>\n",
       "    <tr>\n",
       "      <th>3</th>\n",
       "      <td>0</td>\n",
       "      <td>138.400200</td>\n",
       "      <td>242.038190</td>\n",
       "      <td>790.712442</td>\n",
       "      <td>131.979007</td>\n",
       "      <td>11.656259</td>\n",
       "      <td>8.844081</td>\n",
       "      <td>8.563363</td>\n",
       "      <td>10.245373</td>\n",
       "      <td>7.066183</td>\n",
       "      <td>9.361951</td>\n",
       "    </tr>\n",
       "  </tbody>\n",
       "</table>\n",
       "</div>"
      ],
      "text/plain": [
       "   cluster  media_sale_dollars  desv_sale_dollars  media_bottle_volume  \\\n",
       "0        1          162.317740         417.614311          1775.745703   \n",
       "1        3          107.762488         388.032535           315.330683   \n",
       "2        2        11369.243574        8520.978549          1401.170213   \n",
       "3        0          138.400200         242.038190           790.712442   \n",
       "\n",
       "   desv_bottle_volume  media_bottle_cost  desv_bottle_cost  \\\n",
       "0          188.610366          12.610375         14.257509   \n",
       "1          173.700787           5.022400          2.746302   \n",
       "2          426.049750          11.552043          6.116883   \n",
       "3          131.979007          11.656259          8.844081   \n",
       "\n",
       "   media_bottles_sold  desv_bottles_sold  media_liters_sold  desv_liters_sold  \n",
       "0            8.877020          18.924447          15.578443         32.825968  \n",
       "1           16.239214          32.812240           5.968531         19.969125  \n",
       "2          693.272340         463.059523         951.698936        779.357361  \n",
       "3            8.563363          10.245373           7.066183          9.361951  "
      ]
     },
     "execution_count": 19,
     "metadata": {},
     "output_type": "execute_result"
    }
   ],
   "source": [
    "df_descriptivos_cluster"
   ]
  },
  {
   "cell_type": "markdown",
   "id": "074643e1-afc8-4b87-8e0e-81f153eb292e",
   "metadata": {},
   "source": [
    "Una vez que se tiene el fold del que será excluída cada observación, se entrenarán modelos de Random Forest para cada una de las 10 muestras de entrenamiento, i.e. se llevará a cabo el $k$-fold cross-validation"
   ]
  },
  {
   "cell_type": "code",
   "execution_count": 22,
   "id": "17830e2e-24ae-4f8b-bf9d-7a78f985a8a8",
   "metadata": {},
   "outputs": [
    {
     "name": "stderr",
     "output_type": "stream",
     "text": [
      "                                                                                \r"
     ]
    }
   ],
   "source": [
    "# Se define el objeto modelo random forest para variable objetivo numérica (i.e. un problema de regresión)\n",
    "random_forest_reg = RandomForestRegressor(featuresCol = 'explicativas_final_vector', labelCol = variable_objetivo)\n",
    "\n",
    "metricas = []\n",
    "folds = list(range(1, k + 1))\n",
    "for j in folds:\n",
    "    train = dataset_trabajo.where(col(\"fold\") != j)\n",
    "    test = dataset_trabajo.where(col(\"fold\") == j)\n",
    "    # Se ajusta el modelo a partir de los datos de entrenamiento, variando el número de árboles\n",
    "    for t in [10, 30]:\n",
    "        random_forest_reg = RandomForestRegressor(featuresCol = 'explicativas_final_vector',\n",
    "                                              labelCol = variable_objetivo,\n",
    "                                              numTrees = t)\n",
    "        modelo = random_forest_reg.fit(train)\n",
    "        # Se obtienen las estimaciones a partir de modelo tanto en los datasets de entrenamiento como de prueba\n",
    "        pred_train = modelo.transform(train)\n",
    "        pred_test = modelo.transform(test)\n",
    "        # Se evaluará qué tan bueno es el modelo a partir de la raíz del error cuadrático medio (RMSE)\n",
    "        evaluator_rmse = RegressionEvaluator(labelCol = variable_objetivo, predictionCol = \"prediction\", metricName = \"rmse\")\n",
    "        rmse_train = evaluator_rmse.evaluate(pred_train)\n",
    "        rmse_test = evaluator_rmse.evaluate(pred_test)\n",
    "        # Se guardan las métricas de cada iteración\n",
    "        tracker = [t,j,rmse_train,rmse_test]\n",
    "        metricas.append(tracker)"
   ]
  },
  {
   "cell_type": "markdown",
   "id": "957c6efb-96b9-4a2e-af74-dd7939954ce5",
   "metadata": {},
   "source": [
    "## Resultados\n",
    "\n",
    "A continuación se muestra una tabla resumen con los errores de entrenamiento y prueba en cada una las iteraciones de la validación cruzada "
   ]
  },
  {
   "cell_type": "code",
   "execution_count": 23,
   "id": "a50ff452-422b-4b82-ac1f-764ea9d04f3b",
   "metadata": {},
   "outputs": [
    {
     "data": {
      "text/html": [
       "<div>\n",
       "<style scoped>\n",
       "    .dataframe tbody tr th:only-of-type {\n",
       "        vertical-align: middle;\n",
       "    }\n",
       "\n",
       "    .dataframe tbody tr th {\n",
       "        vertical-align: top;\n",
       "    }\n",
       "\n",
       "    .dataframe thead th {\n",
       "        text-align: right;\n",
       "    }\n",
       "</style>\n",
       "<table border=\"1\" class=\"dataframe\">\n",
       "  <thead>\n",
       "    <tr style=\"text-align: right;\">\n",
       "      <th></th>\n",
       "      <th>num_arboles</th>\n",
       "      <th>fold</th>\n",
       "      <th>error_train</th>\n",
       "      <th>error_test</th>\n",
       "    </tr>\n",
       "  </thead>\n",
       "  <tbody>\n",
       "    <tr>\n",
       "      <th>0</th>\n",
       "      <td>10</td>\n",
       "      <td>1</td>\n",
       "      <td>362.104097</td>\n",
       "      <td>479.495586</td>\n",
       "    </tr>\n",
       "    <tr>\n",
       "      <th>1</th>\n",
       "      <td>30</td>\n",
       "      <td>1</td>\n",
       "      <td>358.076214</td>\n",
       "      <td>458.406436</td>\n",
       "    </tr>\n",
       "    <tr>\n",
       "      <th>15</th>\n",
       "      <td>30</td>\n",
       "      <td>8</td>\n",
       "      <td>350.049463</td>\n",
       "      <td>415.429864</td>\n",
       "    </tr>\n",
       "    <tr>\n",
       "      <th>14</th>\n",
       "      <td>10</td>\n",
       "      <td>8</td>\n",
       "      <td>355.138058</td>\n",
       "      <td>413.306946</td>\n",
       "    </tr>\n",
       "    <tr>\n",
       "      <th>5</th>\n",
       "      <td>30</td>\n",
       "      <td>3</td>\n",
       "      <td>367.958615</td>\n",
       "      <td>393.336389</td>\n",
       "    </tr>\n",
       "    <tr>\n",
       "      <th>4</th>\n",
       "      <td>10</td>\n",
       "      <td>3</td>\n",
       "      <td>365.674320</td>\n",
       "      <td>391.674303</td>\n",
       "    </tr>\n",
       "    <tr>\n",
       "      <th>10</th>\n",
       "      <td>10</td>\n",
       "      <td>6</td>\n",
       "      <td>355.968831</td>\n",
       "      <td>380.163691</td>\n",
       "    </tr>\n",
       "    <tr>\n",
       "      <th>11</th>\n",
       "      <td>30</td>\n",
       "      <td>6</td>\n",
       "      <td>353.144590</td>\n",
       "      <td>379.676525</td>\n",
       "    </tr>\n",
       "    <tr>\n",
       "      <th>8</th>\n",
       "      <td>10</td>\n",
       "      <td>5</td>\n",
       "      <td>367.633284</td>\n",
       "      <td>376.276599</td>\n",
       "    </tr>\n",
       "    <tr>\n",
       "      <th>18</th>\n",
       "      <td>10</td>\n",
       "      <td>10</td>\n",
       "      <td>348.087606</td>\n",
       "      <td>375.211018</td>\n",
       "    </tr>\n",
       "    <tr>\n",
       "      <th>9</th>\n",
       "      <td>30</td>\n",
       "      <td>5</td>\n",
       "      <td>366.296975</td>\n",
       "      <td>373.602982</td>\n",
       "    </tr>\n",
       "    <tr>\n",
       "      <th>19</th>\n",
       "      <td>30</td>\n",
       "      <td>10</td>\n",
       "      <td>343.631744</td>\n",
       "      <td>369.965857</td>\n",
       "    </tr>\n",
       "    <tr>\n",
       "      <th>6</th>\n",
       "      <td>10</td>\n",
       "      <td>4</td>\n",
       "      <td>358.304151</td>\n",
       "      <td>336.277487</td>\n",
       "    </tr>\n",
       "    <tr>\n",
       "      <th>7</th>\n",
       "      <td>30</td>\n",
       "      <td>4</td>\n",
       "      <td>355.271266</td>\n",
       "      <td>330.318310</td>\n",
       "    </tr>\n",
       "    <tr>\n",
       "      <th>16</th>\n",
       "      <td>10</td>\n",
       "      <td>9</td>\n",
       "      <td>350.101638</td>\n",
       "      <td>325.922268</td>\n",
       "    </tr>\n",
       "    <tr>\n",
       "      <th>17</th>\n",
       "      <td>30</td>\n",
       "      <td>9</td>\n",
       "      <td>350.103315</td>\n",
       "      <td>324.308554</td>\n",
       "    </tr>\n",
       "    <tr>\n",
       "      <th>12</th>\n",
       "      <td>10</td>\n",
       "      <td>7</td>\n",
       "      <td>366.972854</td>\n",
       "      <td>291.046078</td>\n",
       "    </tr>\n",
       "    <tr>\n",
       "      <th>3</th>\n",
       "      <td>30</td>\n",
       "      <td>2</td>\n",
       "      <td>359.883284</td>\n",
       "      <td>287.472766</td>\n",
       "    </tr>\n",
       "    <tr>\n",
       "      <th>2</th>\n",
       "      <td>10</td>\n",
       "      <td>2</td>\n",
       "      <td>361.359727</td>\n",
       "      <td>286.404290</td>\n",
       "    </tr>\n",
       "    <tr>\n",
       "      <th>13</th>\n",
       "      <td>30</td>\n",
       "      <td>7</td>\n",
       "      <td>365.345052</td>\n",
       "      <td>282.544686</td>\n",
       "    </tr>\n",
       "  </tbody>\n",
       "</table>\n",
       "</div>"
      ],
      "text/plain": [
       "    num_arboles  fold  error_train  error_test\n",
       "0            10     1   362.104097  479.495586\n",
       "1            30     1   358.076214  458.406436\n",
       "15           30     8   350.049463  415.429864\n",
       "14           10     8   355.138058  413.306946\n",
       "5            30     3   367.958615  393.336389\n",
       "4            10     3   365.674320  391.674303\n",
       "10           10     6   355.968831  380.163691\n",
       "11           30     6   353.144590  379.676525\n",
       "8            10     5   367.633284  376.276599\n",
       "18           10    10   348.087606  375.211018\n",
       "9            30     5   366.296975  373.602982\n",
       "19           30    10   343.631744  369.965857\n",
       "6            10     4   358.304151  336.277487\n",
       "7            30     4   355.271266  330.318310\n",
       "16           10     9   350.101638  325.922268\n",
       "17           30     9   350.103315  324.308554\n",
       "12           10     7   366.972854  291.046078\n",
       "3            30     2   359.883284  287.472766\n",
       "2            10     2   361.359727  286.404290\n",
       "13           30     7   365.345052  282.544686"
      ]
     },
     "execution_count": 23,
     "metadata": {},
     "output_type": "execute_result"
    }
   ],
   "source": [
    "df_metricas = pd.DataFrame(metricas, columns=['num_arboles', 'fold', 'error_train', 'error_test'])\n",
    "df_metricas = df_metricas.sort_values(by=['error_test'], ascending=False)\n",
    "df_metricas"
   ]
  },
  {
   "cell_type": "markdown",
   "id": "800db2cc-dea5-47b7-9c9e-3d25eb7eee49",
   "metadata": {},
   "source": [
    "A continuación se muestra el error de prueba en cada uno de los pasos del $k$-fold cross validation"
   ]
  },
  {
   "cell_type": "code",
   "execution_count": 25,
   "id": "235f3f5e-0953-4a42-8d51-dd2661738ec1",
   "metadata": {},
   "outputs": [
    {
     "data": {
      "text/plain": [
       "num_arboles\n",
       "10    365.577826\n",
       "30    361.506237\n",
       "Name: error_test, dtype: float64"
      ]
     },
     "execution_count": 25,
     "metadata": {},
     "output_type": "execute_result"
    }
   ],
   "source": [
    "df_10 = df_metricas[df_metricas['num_arboles'] == 10].sort_values(by=['fold'])\n",
    "df_30 = df_metricas[df_metricas['num_arboles'] == 30].sort_values(by=['fold'])\n",
    "df_metricas_finales = df_metricas.groupby(['num_arboles'])['error_test'].mean()\n",
    "df_metricas_finales"
   ]
  },
  {
   "cell_type": "code",
   "execution_count": 26,
   "id": "03e4cb80-2464-4ffa-9faa-add25af92e72",
   "metadata": {},
   "outputs": [
    {
     "data": {
      "text/plain": [
       "<Axes: xlabel='fold'>"
      ]
     },
     "execution_count": 26,
     "metadata": {},
     "output_type": "execute_result"
    },
    {
     "data": {
      "image/png": "[encoded data removed]",
      "text/plain": [
       "<Figure size 640x480 with 1 Axes>"
      ]
     },
     "metadata": {},
     "output_type": "display_data"
    }
   ],
   "source": [
    "df_10.plot.bar(x='fold', y='error_test', color='lightcoral')"
   ]
  },
  {
   "cell_type": "code",
   "execution_count": 27,
   "id": "d24dad8f-c2ba-4d20-ab11-bb860a1f12fb",
   "metadata": {},
   "outputs": [
    {
     "data": {
      "text/plain": [
       "<Axes: xlabel='fold'>"
      ]
     },
     "execution_count": 27,
     "metadata": {},
     "output_type": "execute_result"
    },
    {
     "data": {
      "image/png": "[encoded data removed]",
      "text/plain": [
       "<Figure size 640x480 with 1 Axes>"
      ]
     },
     "metadata": {},
     "output_type": "display_data"
    }
   ],
   "source": [
    "df_30.plot.bar(x='fold', y='error_test')"
   ]
  },
  {
   "cell_type": "markdown",
   "id": "b8179689-a1f2-4ea1-83b0-e9363656fa8c",
   "metadata": {},
   "source": [
    "## Discusión de resultados y conclusiones\n",
    "\n",
    "Se puede observar que para los diferentes modelos con 10 y 30 árboles, los errores de prueba (i.e. errores de generalización) son muy similares. Lo que nos lleva a hacer la hipótesis de que el número de árboles no mejorará al modelo.\n",
    "\n",
    "Ahora se reentrenará el modelo con los mejores escenarios, i.e. donde ocurre el menor error de prueba"
   ]
  },
  {
   "cell_type": "code",
   "execution_count": 28,
   "id": "afe2444c-9349-409b-a32f-755a86a12d70",
   "metadata": {},
   "outputs": [
    {
     "name": "stderr",
     "output_type": "stream",
     "text": [
      "                                                                                \r"
     ]
    }
   ],
   "source": [
    "min_row_index = df_metricas['error_test'].idxmin()\n",
    "min_row = df_metricas.loc[min_row_index]\n",
    "t = min_row['num_arboles'].astype(int)\n",
    "j = min_row['fold'].astype(int)\n",
    "train = dataset_trabajo.where(col(\"fold\") != j)\n",
    "test = dataset_trabajo.where(col(\"fold\") == j)\n",
    "# Se ajusta el modelo a partir de los datos de entrenamiento\n",
    "random_forest_reg = RandomForestRegressor(featuresCol = 'explicativas_final_vector',\n",
    "                                          labelCol = variable_objetivo,\n",
    "                                          numTrees = t)\n",
    "modelo = random_forest_reg.fit(train)\n",
    "# Se obtienen las estimaciones a partir de modelo tanto en los datasets de entrenamiento como de prueba\n",
    "pred_train = modelo.transform(train)\n",
    "pred_test = modelo.transform(test)\n",
    "df_validacion = pred_test.select(variable_objetivo,'prediction','cluster', 'pca_features').toPandas()\n",
    "df_validacion['cluster'] = df_validacion['cluster'].astype(str)"
   ]
  },
  {
   "cell_type": "markdown",
   "id": "51de947b-8b74-455f-9cde-a33fe180e3c9",
   "metadata": {},
   "source": [
    "También se puede ver la calidad de la representación en las dos mejores dimensiones obtenidas mediante PCA"
   ]
  },
  {
   "cell_type": "code",
   "execution_count": 30,
   "id": "d37f8571-52aa-43bd-b7b6-68788164e0f7",
   "metadata": {},
   "outputs": [
    {
     "data": {
      "image/png": "[encoded data removed]",
      "text/plain": [
       "<Figure size 800x600 with 1 Axes>"
      ]
     },
     "metadata": {},
     "output_type": "display_data"
    }
   ],
   "source": [
    "df_validacion[['x', 'y']] = pd.DataFrame(df_validacion['pca_features'].tolist(), index = df_validacion.index)\n",
    "plt.figure(figsize=(8, 6))\n",
    "sns.scatterplot(data=df_validacion, x='x', y='y', hue='cluster', palette='tab10', s=100)\n",
    "plt.title(f'Clusters con PCA (Silhouette: {silhouette:.2f})')\n",
    "plt.xlabel('PCA1')\n",
    "plt.ylabel('PCA2')\n",
    "plt.grid(True)\n",
    "plt.tight_layout()\n",
    "plt.show()"
   ]
  },
  {
   "cell_type": "markdown",
   "id": "bb620dc7-ad07-402a-b9cc-4e08b1031697",
   "metadata": {},
   "source": [
    "También se verá la qué tan buenas son las predicciónes del modelo de Random Forest y si hay algún clúster en el que se haya hecho mejores o peores predicciones"
   ]
  },
  {
   "cell_type": "code",
   "execution_count": 33,
   "id": "b83d0c28-b1c1-4baf-8d9e-ff97a56bd1ec",
   "metadata": {},
   "outputs": [
    {
     "data": {
      "image/png": "[encoded data removed]",
      "text/plain": [
       "<Figure size 640x480 with 1 Axes>"
      ]
     },
     "metadata": {},
     "output_type": "display_data"
    }
   ],
   "source": [
    "colors = {'0': 'red', '1': 'blue', '2': 'green', '3': 'pink'}\n",
    "df_validacion.plot.scatter(x=variable_objetivo, y='prediction', c=df_validacion['cluster'].map(colors))\n",
    "plt.show()"
   ]
  },
  {
   "cell_type": "markdown",
   "id": "5f811b44-e358-4f54-b937-346874f28bcf",
   "metadata": {},
   "source": [
    "Se puede observar que modelo es bueno en estimar ventas menores a 15,000, pero falla en ventas que se consideran outliers (cluster de color verde)\n",
    "\n",
    "Como el modelo no mejora al aumentar el número de árboles, se pueden hacer algunas conclusiones:\n",
    "\n",
    "### 1. **El modelo ya ha alcanzado su límite de rendimiento**\n",
    "   - Random Forest es un método de *ensamble* que promedia las predicciones de varios árboles para reducir la varianza.\n",
    "   - Si agregar más árboles no mejora el modelo, es probable que ya se haya llegado a un punto donde el error de sesgo domina y la varianza ya no puede reducirse más.\n",
    "\n",
    "### 2. **Los árboles adicionales son redundantes**\n",
    "   - Random Forest usa *bagging* (muestreo con reemplazo) para generar diversidad entre los árboles.\n",
    "   - Si los nuevos árboles son muy similares a los existentes (debido a datos poco informativos o características limitadas), no aportarán nueva información.\n",
    "\n",
    "### 3. **El problema puede estar en los datos, no en el modelo**\n",
    "   - **Falta de características relevantes**: Si las variables explicativas no tienen suficiente poder explicativo (valga la redundancia), más árboles no ayudarán.\n",
    "   - **Ruido en los datos**: Si hay mucho error aleatorio en la variable objetivo, el modelo no podrá aprender patrones útiles.\n",
    "   - **Datos insuficientes**: Si el conjunto de entrenamiento es muy pequeño, los árboles pueden estar sobreajustándose sin generalizar mejor.\n",
    "\n",
    "### 4. **El modelo ya no sufre de overfitting**\n",
    "   - Random Forest es robusto al overfitting en términos del número de árboles (a diferencia de, por ejemplo, Gradient Boosting).\n",
    "   - Si el error de prueba ya no disminuye (pero tampoco aumenta), es señal de que el modelo generaliza bien y más árboles no empeorarán el resultado.\n",
    "\n",
    "### ¿Qué hacer en estos casos?\n",
    "- **Evaluar el error de entrenamiento vs. prueba**:\n",
    "  - Si ambos son altos, significa alto sesgo (considerar más variables explicativas o un modelo más complejo).\n",
    "  - Si el entrenamiento es bajo pero el de prueba alto, significa  que hay sobreajuste (regularizar más o reducir profundidad).\n",
    "- **Probar otros modelos** (Gradient Boosting, redes neuronales, SVM) si Random Forest ya no mejora.\n",
    "- **Realizar ingeniería de variables explicativas** para incluir variables más informativas.\n",
    "\n",
    "### Conclusión:\n",
    "Si aumentar el número de árboles en un Random Forest para regresión no mejora el modelo, lo más probable es que:\n",
    "- **El modelo ya haya convergido** en su rendimiento máximo.\n",
    "- **El problema esté en los datos** (calidad, cantidad o características).\n",
    "- **Otras configuraciones del modelo** (como la profundidad de los árboles) sean más críticas que el número de árboles.\n",
    "\n",
    "En estos casos, es mejor enfocarse en mejorar los datos o ajustar otros aspectos del modelo en lugar de seguir incrementando el número de árboles."
   ]
  }
 ],
 "metadata": {
  "kernelspec": {
   "display_name": "Python 3 (ipykernel)",
   "language": "python",
   "name": "python3"
  },
  "language_info": {
   "codemirror_mode": {
    "name": "ipython",
    "version": 3
   },
   "file_extension": ".py",
   "mimetype": "text/x-python",
   "name": "python",
   "nbconvert_exporter": "python",
   "pygments_lexer": "ipython3",
   "version": "3.12.2"
  }
 },
 "nbformat": 4,
 "nbformat_minor": 5
}
